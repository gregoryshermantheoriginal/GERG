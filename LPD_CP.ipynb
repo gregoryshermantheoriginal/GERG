{
  "cells": [
    {
      "cell_type": "markdown",
      "metadata": {
        "id": "view-in-github",
        "colab_type": "text"
      },
      "source": [
        "<a href=\"https://colab.research.google.com/github/gregoryshermantheoriginal/GERG/blob/main/LPD_CP.ipynb\" target=\"_parent\"><img src=\"https://colab.research.google.com/assets/colab-badge.svg\" alt=\"Open In Colab\"/></a>"
      ]
    },
    {
      "cell_type": "markdown",
      "metadata": {
        "id": "EWCFcxk5JETG"
      },
      "source": [
        "#Initialise libraries"
      ]
    },
    {
      "cell_type": "code",
      "execution_count": 1,
      "metadata": {
        "id": "mC_dvBCHdRMy"
      },
      "outputs": [],
      "source": [
        "#Download Pytorch Geometric\n",
        "\n",
        "!pip install -q torch-scatter -f https://data.pyg.org/whl/torch-${TORCH}.html\n",
        "!pip install -q torch-sparse -f https://data.pyg.org/whl/torch-${TORCH}.html\n",
        "!pip install -q git+https://github.com/pyg-team/pytorch_geometric.git"
      ]
    },
    {
      "cell_type": "code",
      "execution_count": 2,
      "metadata": {
        "id": "sCLg23JyhbWK"
      },
      "outputs": [],
      "source": [
        "#Import the libraries\n",
        "import os\n",
        "import torch\n",
        "import torch_geometric.datasets as datasets\n",
        "import torch_geometric.data as data\n",
        "import torch_geometric.transforms as transforms\n",
        "import networkx as nx\n",
        "from torch_geometric.utils import erdos_renyi_graph, to_networkx, from_networkx\n",
        "\n",
        "import networkx as nx\n",
        "import matplotlib.pyplot as plt\n",
        "import random\n",
        "from itertools import combinations, groupby\n",
        "import pandas as pd\n",
        "import numpy as np\n",
        "from sklearn.preprocessing import LabelEncoder\n",
        "\n",
        "from torch_geometric.data import Data, DataLoader\n",
        "from torch_geometric.nn import GCNConv, GATConv\n",
        "import torch.nn.functional as F\n",
        "from sklearn.metrics import median_absolute_error\n",
        "from sklearn.metrics import mean_absolute_error\n",
        "from scipy.ndimage.filters import gaussian_filter1d\n",
        "from collections import namedtuple\n",
        "\n",
        "from sklearn.neural_network import MLPRegressor\n",
        "from sklearn.model_selection import train_test_split\n",
        "from keras.models import Sequential\n",
        "from keras.layers import Dense, Conv1D, Flatten\n",
        "\n",
        "import sklearn\n",
        "import torch.nn.utils.prune as prune\n",
        "from tqdm import tqdm\n"
      ]
    },
    {
      "cell_type": "markdown",
      "metadata": {
        "id": "Iol_MstdEoqf"
      },
      "source": [
        "#Data Preparation"
      ]
    },
    {
      "cell_type": "code",
      "execution_count": 3,
      "metadata": {
        "id": "uClRU_UJLRw0"
      },
      "outputs": [],
      "source": [
        "#Set seed \n",
        "np.random.seed(1234)\n",
        "\n",
        "#Generate a random NetworkX graph\n",
        "def gnp_random_connected_graph(n, p):\n",
        "    \"\"\"\n",
        "    Generates a random undirected graph, similarly to an Erdős-Rényi \n",
        "    graph, but enforcing that the resulting graph is conneted\n",
        "    \"\"\"\n",
        "    edges = combinations(range(n), 2)\n",
        "    G = nx.Graph()\n",
        "    G.add_nodes_from(range(n))\n",
        "    if p <= 0:\n",
        "        return G\n",
        "    if p >= 1:\n",
        "        return nx.complete_graph(n, create_using=G)\n",
        "    for _, node_edges in groupby(edges, key=lambda x: x[0]):\n",
        "        node_edges = list(node_edges)\n",
        "        random_edge = random.choice(node_edges)\n",
        "        G.add_edge(*random_edge)\n",
        "        for e in node_edges:\n",
        "            if random.random() < p:\n",
        "                G.add_edge(*e)\n",
        "    return G\n",
        "\n",
        "    #Reference [1]: https://stackoverflow.com/questions/61958360/how-to-create-random-graph-where-each-node-has-at-least-1-edge-using-networkx"
      ]
    },
    {
      "cell_type": "code",
      "execution_count": 4,
      "metadata": {
        "id": "8ZHYDQHgLNxY"
      },
      "outputs": [],
      "source": [
        "np.random.seed(1234)\n",
        "\n",
        "#Create 200 graphs with 5 nodes\n",
        "for i in range(1, 200):\n",
        "  j = 0\n",
        "  # j = j/10\n",
        "  k = random.randint(1,42)\n",
        "  globals()['G_'+str(i)] = gnp_random_connected_graph(5, j) "
      ]
    },
    {
      "cell_type": "code",
      "execution_count": 5,
      "metadata": {
        "id": "Yyd_ItECRMWn"
      },
      "outputs": [],
      "source": [
        "#Define node attributes\n",
        "#Randomise x and y coordinates for each of the 5 nodes\n",
        "np.random.seed(1234)\n",
        "\n",
        "\n",
        "for i in range(1,200):\n",
        "\n",
        "  x_cord_0 =  random.randint(50,60)\n",
        "  x_cord_1 = random.randint(45,50)\n",
        "  x_cord_2 = random.randint(40,50)\n",
        "  x_cord_3 = random.randint(10,20)\n",
        "  x_cord_4 = random.randint(10,20)\n",
        "  \n",
        "  y_cord_0 = random.randint(60,70)\n",
        "  y_cord_1 = random.randint(40,50)\n",
        "  y_cord_2 = random.randint(50,60)\n",
        "  y_cord_3 = random.randint(60,70)\n",
        "  y_cord_4 = random.randint(45,50)\n",
        "\n",
        "#Set node attributes\n",
        "  pos_x={0:x_cord_0, 1:x_cord_1, 2 :x_cord_2, 3 :x_cord_3, 4:x_cord_4}\n",
        "  pos_y= {0:y_cord_0, 1:y_cord_1, 2 :y_cord_2, 3 :y_cord_3, 4:y_cord_4}\n",
        "  nx.set_node_attributes(globals()['G_'+str(i)], pos_x, 'pos_x')\n",
        "  nx.set_node_attributes(globals()['G_'+str(i)], pos_y, 'pos_y')"
      ]
    },
    {
      "cell_type": "code",
      "execution_count": 6,
      "metadata": {
        "id": "XOnrUPFIsufW"
      },
      "outputs": [],
      "source": [
        "#Visualise a graph\n",
        "def viz(G):\n",
        "  fig, ax = plt.subplots(figsize = (15,8))\n",
        "  initialpos = {0:(nx.get_node_attributes(G, \"pos_x\")[0], nx.get_node_attributes(G, \"pos_y\")[0]), 1:(nx.get_node_attributes(G, \"pos_x\")[1], nx.get_node_attributes(G, \"pos_y\")[1]), \n",
        "                2:(nx.get_node_attributes(G, \"pos_x\")[2], nx.get_node_attributes(G, \"pos_y\")[2]), 3:(nx.get_node_attributes(G, \"pos_x\")[3], nx.get_node_attributes(G, \"pos_y\")[3]), \n",
        "                4:(nx.get_node_attributes(G, \"pos_x\")[4], nx.get_node_attributes(G, \"pos_y\")[4])}\n",
        "  nx.draw(G, with_labels = True, pos = initialpos)\n",
        "  limits=plt.axis('on') # turns on axis\n",
        "  ax.set_xlim(0,120)\n",
        "  ax.set_ylim(0,120)\n",
        "  ax.tick_params(left=True, bottom=True, labelleft=True, labelbottom=True)"
      ]
    },
    {
      "cell_type": "code",
      "execution_count": 7,
      "metadata": {
        "id": "wqrCr3d_t1uZ",
        "colab": {
          "base_uri": "https://localhost:8080/",
          "height": 487
        },
        "outputId": "34ffc637-ffdd-49d9-e5a2-ae7663ed12d0"
      },
      "outputs": [
        {
          "output_type": "display_data",
          "data": {
            "text/plain": [
              "<Figure size 1080x576 with 1 Axes>"
            ],
            "image/png": "[encoded data removed]"
          },
          "metadata": {}
        }
      ],
      "source": [
        "#Visualise graph\n",
        "viz(G_1)"
      ]
    },
    {
      "cell_type": "markdown",
      "metadata": {
        "id": "b5JL6fLwEvQI"
      },
      "source": [
        "##MAST formulation"
      ]
    },
    {
      "cell_type": "code",
      "execution_count": 8,
      "metadata": {
        "id": "nUrx1mFGVG4-"
      },
      "outputs": [],
      "source": [
        "#Adding connections based on the smallest distance(area) between nodes\n",
        "list_1 = [0,1,2,3,4]\n",
        "list_2 = [0,1,2,3,4]\n",
        "\n",
        "def graph_dataset(G): \n",
        "  edge_1 = []\n",
        "  edge_2 = []\n",
        "  distance = []\n",
        "  for u in list_1:\n",
        "    for v in list_2:\n",
        "      df = pd.DataFrame(columns = ['edge_1','edge_2', 'distance'])\n",
        "      if(u!=v):\n",
        "        dist = round((((nx.get_node_attributes(G, 'pos_x')[u]  - nx.get_node_attributes(G, 'pos_x')[v])**2 + (nx.get_node_attributes(G, 'pos_y')[u] - nx.get_node_attributes(G, 'pos_y')[v])**2)**0.5),2)\n",
        "        # x = random.randint(0, 5)\n",
        "        # dist = x + dist\n",
        "        edge_1.append(u)\n",
        "        edge_2.append(v)\n",
        "        distance.append(dist)\n",
        "        \n",
        "  df['edge_1'] = edge_1\n",
        "  df['edge_2'] = edge_2\n",
        "  df['distance'] = distance\n",
        "  df.drop(df[ (df['edge_1'] == 0) & (df['edge_2'] == 2)].index, inplace = True)\n",
        "  df.drop(df[ (df['edge_1'] == 0) & (df['edge_2'] == 3)].index, inplace = True)\n",
        "  df.drop(df[ (df['edge_1'] == 0) & (df['edge_2'] == 4)].index, inplace = True)\n",
        "  indexes = df[ (df['edge_1'] == 1) & (df['edge_2'] == 0)].index\n",
        "  df.drop(indexes, inplace = True)\n",
        "  indexes = df[ (df['edge_1'] == 1) & (df['edge_2'] == 3)].index\n",
        "  df.drop(indexes, inplace = True)\n",
        "  indexes = df[ (df['edge_1'] == 1) & (df['edge_2'] == 4)].index\n",
        "  df.drop(indexes, inplace = True)\n",
        "  indexes = df[ (df['edge_1'] == 2) & (df['edge_2'] == 0)].index\n",
        "  df.drop(indexes, inplace = True)\n",
        "  # indexes = df[ (df['edge_1'] == 2) & (df['edge_2'] == 3) ].index\n",
        "  # df.drop(indexes, inplace = True)\n",
        "  # df.drop(df[ (df['edge_1'] == 2) & (df['edge_2'] == 4)].index, inplace = True)\n",
        "  df.drop(df[ (df['edge_1'] == 2) & (df['edge_2'] == 1)].index, inplace = True)\n",
        "\n",
        "  df.sort_values(by = ['distance'], inplace = True)\n",
        "\n",
        "  min_df = pd.DataFrame() \n",
        "  for i in df.edge_1.unique():\n",
        "    globals()['df_'+str(i)] = df[df['edge_1'] == i]\n",
        "    globals()['df_'+str(i)] = globals()['df_'+str(i)][globals()['df_'+str(i)].distance == globals()['df_'+str(i)].distance.min()]\n",
        "    min_df = min_df.append(globals()['df_'+str(i)], ignore_index = True)\n",
        "  \n",
        "  return min_df\n"
      ]
    },
    {
      "cell_type": "code",
      "execution_count": 9,
      "metadata": {
        "id": "G3tEzI_oTFws"
      },
      "outputs": [],
      "source": [
        "#Iterate the MAST function over the 200 graphs\n",
        "for i in range(1,200):\n",
        "  globals()['min_df_'+str(i)] = graph_dataset(globals()['G_'+str(i)])\n",
        "  globals()['min_df_'+str(i)].sort_values( by = ['edge_1'], inplace = True)\n",
        "  globals()['min_df_'+str(i)].reset_index (inplace = True)\n",
        "  globals()['min_df_'+str(i)].drop(columns = ['index'], inplace = True)\n",
        " \n",
        "  \n",
        "\n"
      ]
    },
    {
      "cell_type": "code",
      "execution_count": 10,
      "metadata": {
        "id": "YF53zfq_QWHr"
      },
      "outputs": [],
      "source": [
        "#Further MAST formulation\n",
        "#Ensuring that the constraint is met, i.e. node x and node y can only be connected if and only if, coverage area of node x & coverage area of node y > distance between x and y\n",
        "for i in range(1, 200):\n",
        "    if((globals()['min_df_'+str(i)].iloc[0,0] == 0) & (globals()['min_df_'+str(i)].iloc[0,1] == 1)):\n",
        "      if(globals()['min_df_'+str(i)].iloc[0,2]>globals()['min_df_'+str(i)].iloc[1,2]): #0,1\n",
        "        globals()['min_df_'+str(i)].iloc[1,2] = globals()['min_df_'+str(i)].iloc[0,2]\n",
        "      else:\n",
        "        globals()['min_df_'+str(i)].iloc[0,2] = globals()['min_df_'+str(i)].iloc[1,2]\n",
        "    if((globals()['min_df_'+str(i)].iloc[2,0] == 2) & (globals()['min_df_'+str(i)].iloc[2,1] == 3)): #2,3\n",
        "      if(globals()['min_df_'+str(i)].iloc[2,2]>globals()['min_df_'+str(i)].iloc[3,2]):\n",
        "        globals()['min_df_'+str(i)].iloc[3,2] = globals()['min_df_'+str(i)].iloc[2,2]\n",
        "      else:\n",
        "        globals()['min_df_'+str(i)].iloc[2,2] = globals()['min_df_'+str(i)].iloc[3,2]\n",
        "    if((globals()['min_df_'+str(i)].iloc[2,0] == 2) & (globals()['min_df_'+str(i)].iloc[2,1] == 4)): #2,4\n",
        "      if(globals()['min_df_'+str(i)].iloc[2,2]>globals()['min_df_'+str(i)].iloc[4,2]):\n",
        "        globals()['min_df_'+str(i)].iloc[4,2] = globals()['min_df_'+str(i)].iloc[2,2]\n",
        "      else:\n",
        "        globals()['min_df_'+str(i)].iloc[2,2] =globals()['min_df_'+str(i)].iloc[4,2]\n",
        "  \n",
        "    \n",
        "  \n",
        " \n"
      ]
    },
    {
      "cell_type": "code",
      "execution_count": 11,
      "metadata": {
        "id": "qeMiwsb8Ry4O"
      },
      "outputs": [],
      "source": [
        "#Set coverage area as a node attribute for the nodes\n",
        "for i in range(1,200):\n",
        "  pow={}\n",
        "  pow={0:globals()['min_df_'+str(i)]['distance'][0], 1:globals()['min_df_'+str(i)]['distance'][1], 2:globals()['min_df_'+str(i)]['distance'][2], 3:globals()['min_df_'+str(i)]['distance'][3], 4:globals()['min_df_'+str(i)]['distance'][4]}\n",
        "  nx.set_node_attributes(globals()['G_'+str(i)], pow, 'y')\n",
        "  "
      ]
    },
    {
      "cell_type": "code",
      "execution_count": 12,
      "metadata": {
        "id": "0qOD9gT5UJwr"
      },
      "outputs": [],
      "source": [
        "#Adding edges where the constraint is met, i.e. edge exist between a pair of nodes if and only if their individual coverage area is greater than the distance between the pair of nodes\n",
        "for i in range(1,200):\n",
        "  globals()['G_'+str(i)].add_edge(0, 1)\n",
        "  cov_0 = nx.get_node_attributes(globals()['G_'+str(i)], 'y')[0]\n",
        "  cov_1 = nx.get_node_attributes(globals()['G_'+str(i)], 'y')[1]\n",
        "  cov_2 = nx.get_node_attributes(globals()['G_'+str(i)], 'y')[2]\n",
        "  cov_3 = nx.get_node_attributes(globals()['G_'+str(i)], 'y')[3]\n",
        "  cov_4 = nx.get_node_attributes(globals()['G_'+str(i)], 'y')[4]\n",
        "  dist_12 = round((((nx.get_node_attributes(globals()['G_'+str(i)], 'pos_x')[1]  - nx.get_node_attributes(globals()['G_'+str(i)], 'pos_x')[2])**2 + (nx.get_node_attributes(globals()['G_'+str(i)], 'pos_y')[1] - nx.get_node_attributes(globals()['G_'+str(i)], 'pos_y')[2])**2)**0.5),2)\n",
        "  dist_23 = round((((nx.get_node_attributes(globals()['G_'+str(i)], 'pos_x')[2]  - nx.get_node_attributes(globals()['G_'+str(i)], 'pos_x')[3])**2 + (nx.get_node_attributes(globals()['G_'+str(i)], 'pos_y')[2] - nx.get_node_attributes(globals()['G_'+str(i)], 'pos_y')[3])**2)**0.5),2)\n",
        "  dist_24 = round((((nx.get_node_attributes(globals()['G_'+str(i)], 'pos_x')[2]  - nx.get_node_attributes(globals()['G_'+str(i)], 'pos_x')[4])**2 + (nx.get_node_attributes(globals()['G_'+str(i)], 'pos_y')[2] - nx.get_node_attributes(globals()['G_'+str(i)], 'pos_y')[4])**2)**0.5),2)\n",
        "  dist_34 = round((((nx.get_node_attributes(globals()['G_'+str(i)], 'pos_x')[3]  - nx.get_node_attributes(globals()['G_'+str(i)], 'pos_x')[4])**2 + (nx.get_node_attributes(globals()['G_'+str(i)], 'pos_y')[3] - nx.get_node_attributes(globals()['G_'+str(i)], 'pos_y')[4])**2)**0.5),2)\n",
        "  if((cov_1 >= dist_12) & (cov_2 >= dist_12)):\n",
        "    globals()['G_'+str(i)].add_edge(1, 2)\n",
        "  if((cov_2>=dist_23) & (cov_3>=dist_23)):\n",
        "    globals()['G_'+str(i)].add_edge(2, 3)  \n",
        "  if((cov_2>=dist_24) & (cov_4>=dist_24)):\n",
        "    globals()['G_'+str(i)].add_edge(2, 4)  \n",
        "  if((cov_3>=dist_34) & (cov_4>=dist_34)):\n",
        "    globals()['G_'+str(i)].add_edge(3, 4)  "
      ]
    },
    {
      "cell_type": "markdown",
      "metadata": {
        "id": "qv5tDt1LHgNU"
      },
      "source": [
        "##Converting NetworkX graph to Pytorch Geometric Objects"
      ]
    },
    {
      "cell_type": "code",
      "execution_count": 13,
      "metadata": {
        "id": "bcrQaCPcEJDI"
      },
      "outputs": [],
      "source": [
        "#Appeding all the graphs to an empty list\n",
        "Graphs = []\n",
        "for i in range(1, 200):\n",
        "  Graphs.append(globals()['G_'+str(i)])"
      ]
    },
    {
      "cell_type": "code",
      "execution_count": 14,
      "metadata": {
        "id": "QW5IVA9JkWXa"
      },
      "outputs": [],
      "source": [
        "#Convert to PyG objects with features as node coordinates\n",
        "for i in range(1,199):\n",
        "  globals()['data_'+str(i)] = from_networkx(Graphs[i],['pos_x','pos_y'])"
      ]
    },
    {
      "cell_type": "code",
      "execution_count": 15,
      "metadata": {
        "id": "_o9vZWEarkPe"
      },
      "outputs": [],
      "source": [
        "#List of data for dataloader\n",
        "data_list = [data_1,\tdata_2,\tdata_3,\tdata_4,\tdata_5,\tdata_6,\tdata_7,\tdata_8,\tdata_9,\tdata_10,\tdata_11,\tdata_12,\tdata_13,\tdata_14,\tdata_15,\tdata_16,\tdata_17,\tdata_18,\tdata_19,\tdata_20,\tdata_21,\tdata_22,\tdata_23,\tdata_24,\tdata_25,\tdata_26,\tdata_27,\tdata_28,\tdata_29,\tdata_30,\tdata_31,\tdata_32,\tdata_33,\tdata_34,\tdata_35,\tdata_36,\tdata_37,\tdata_38,\tdata_39,\tdata_40,\tdata_41,\tdata_42,\tdata_43,\tdata_44,\tdata_45,\tdata_46,\tdata_47,\tdata_48,\tdata_49,\tdata_50,\tdata_51,\tdata_52,\tdata_53,\tdata_54,\tdata_55,\tdata_56,\tdata_57,\tdata_58,\tdata_59,\tdata_60,\tdata_61,\tdata_62,\tdata_63,\tdata_64,\tdata_65,\tdata_66,\tdata_67,\tdata_68,\tdata_69,\tdata_70,\tdata_71,\tdata_72,\tdata_73,\tdata_74,\tdata_75,\tdata_76,\tdata_77,\tdata_78,\tdata_79,\tdata_80,\tdata_81,\tdata_82,\tdata_83,\tdata_84,\tdata_85,\tdata_86,\tdata_87,\tdata_88,\tdata_89,\tdata_90,\tdata_91,\tdata_92,\tdata_93,\tdata_94,\tdata_95,\tdata_96,\tdata_97,\tdata_98,\tdata_99,\tdata_100,\tdata_101,\tdata_102,\tdata_103,\tdata_104,\tdata_105,\tdata_106,\tdata_107,\tdata_108,\tdata_109,\tdata_110,\tdata_111,\tdata_112,\tdata_113,\tdata_114,\tdata_115,\tdata_116,\tdata_117,\tdata_118,\tdata_119,\tdata_120,\tdata_121,\tdata_122,\tdata_123,\tdata_124,\tdata_125,\tdata_126,\tdata_127,\tdata_128,\tdata_129,\tdata_130,\tdata_131,\tdata_132,\tdata_133,\tdata_134,\tdata_135,\tdata_136,\tdata_137,\tdata_138,\tdata_139,\tdata_140,\tdata_141,\tdata_142,\tdata_143,\tdata_144,\tdata_145,\tdata_146,\tdata_147,\tdata_148,\tdata_149,\tdata_150,\tdata_151,\tdata_152,\tdata_153,\tdata_154,\tdata_155,\tdata_156,\tdata_157,\tdata_158,\tdata_159,\tdata_160,\tdata_161,\tdata_162,\tdata_163,\tdata_164,\tdata_165,\tdata_166,\tdata_167,\tdata_168,\tdata_169,\tdata_170,\tdata_171,\tdata_172,\tdata_173,\tdata_174,\tdata_175,\tdata_176,\tdata_177,\tdata_178,\tdata_179,\tdata_180,\tdata_181,\tdata_182,\tdata_183,\tdata_184,\tdata_185,\tdata_186,\tdata_187,\tdata_188,\tdata_189,\tdata_190,\tdata_191,\tdata_192,\tdata_193,\tdata_194,\tdata_195,\tdata_196,\tdata_197,\tdata_198]"
      ]
    },
    {
      "cell_type": "code",
      "execution_count": 16,
      "metadata": {
        "id": "8ucv6M2jpDfT"
      },
      "outputs": [],
      "source": [
        "#Split data into train and test\n",
        "train_data = data_list[0:190]\n",
        "\n",
        "test_data = data_list[190:]"
      ]
    },
    {
      "cell_type": "code",
      "execution_count": 17,
      "metadata": {
        "id": "c7bMNKhtkW1l",
        "colab": {
          "base_uri": "https://localhost:8080/"
        },
        "outputId": "756c6d9b-3f01-418a-fafe-0b2622ed0ff6"
      },
      "outputs": [
        {
          "output_type": "stream",
          "name": "stderr",
          "text": [
            "/usr/local/lib/python3.7/dist-packages/torch_geometric/deprecation.py:12: UserWarning: 'data.DataLoader' is deprecated, use 'loader.DataLoader' instead\n",
            "  warnings.warn(out)\n"
          ]
        }
      ],
      "source": [
        "#Prepare data before feeding into our GCN \n",
        "train_loader = DataLoader(train_data, batch_size=32, shuffle=False)\n",
        "test_loader = DataLoader(test_data, batch_size=32, shuffle=False)\n"
      ]
    },
    {
      "cell_type": "markdown",
      "metadata": {
        "id": "cj5N1bJm21CP"
      },
      "source": [
        "#GCN"
      ]
    },
    {
      "cell_type": "markdown",
      "metadata": {
        "id": "QxHPCFyPFF5G"
      },
      "source": [
        "##Define model"
      ]
    },
    {
      "cell_type": "code",
      "execution_count": 18,
      "metadata": {
        "id": "gHQGKDMZlYqW"
      },
      "outputs": [],
      "source": [
        "#GCN Architecture\n",
        "class GCN(torch.nn.Module):\n",
        "    def __init__(self, hidden_channels):\n",
        "        super(GCN, self).__init__()\n",
        "        torch.manual_seed(12345)\n",
        "        \n",
        "        self.linear2 = torch.nn.Linear(2, 512)\n",
        "        self.conv2 = GCNConv(512,256)\n",
        "        self.conv3 = GCNConv(256,128)\n",
        "\n",
        "        self.conv4 = GCNConv(128,64)\n",
        "\n",
        "        \n",
        "        \n",
        "        self.linear1 = torch.nn.Linear(64,1)\n",
        "        #self.linear3 = torch.nn.Linear(32,1)\n",
        "    def forward(self, x, edge_index):\n",
        "       \n",
        "        x = self.linear2(x)\n",
        "        x = x.relu()\n",
        "        \n",
        "        x = F.dropout(x, p=0.5, training=self.training)\n",
        "        \n",
        "        x = self.conv2(x, edge_index)\n",
        "        x = x.relu()\n",
        "\n",
        "               \n",
        "        x = self.conv3(x, edge_index)\n",
        "        x = x.relu()\n",
        "        \n",
        "        x = self.conv4(x, edge_index)\n",
        "        x = x.relu()\n",
        "        \n",
        "\n",
        "        x = self.linear1(x)\n",
        "        x = x.relu()\n",
        "\n",
        "        \n",
        "\n",
        "\n",
        "        \n",
        "               \n",
        "        return x"
      ]
    },
    {
      "cell_type": "code",
      "execution_count": 19,
      "metadata": {
        "id": "NuLyKWxi00Tb"
      },
      "outputs": [],
      "source": [
        "#Initialise our GCN model\n",
        "device = torch.device('cuda' if torch.cuda.is_available() else 'cpu')\n",
        "model = GCN(512).to(device)"
      ]
    },
    {
      "cell_type": "code",
      "execution_count": 20,
      "metadata": {
        "id": "nrXA4svp1uyE"
      },
      "outputs": [],
      "source": [
        "#Define optimiser\n",
        "optim = torch.optim.Adam(model.parameters(), lr=0.001)"
      ]
    },
    {
      "cell_type": "code",
      "execution_count": 21,
      "metadata": {
        "id": "O4DYs-DeLE6_",
        "colab": {
          "base_uri": "https://localhost:8080/"
        },
        "outputId": "ad0d9e20-bc71-4a36-fe0b-29e7f4c219d4"
      },
      "outputs": [
        {
          "output_type": "stream",
          "name": "stdout",
          "text": [
            "GCN(\n",
            "  (linear2): Linear(in_features=2, out_features=512, bias=True)\n",
            "  (conv2): GCNConv(512, 256)\n",
            "  (conv3): GCNConv(256, 128)\n",
            "  (conv4): GCNConv(128, 64)\n",
            "  (linear1): Linear(in_features=64, out_features=1, bias=True)\n",
            ")\n"
          ]
        }
      ],
      "source": [
        "#Model architecture\n",
        "print(model)"
      ]
    },
    {
      "cell_type": "markdown",
      "metadata": {
        "id": "ReqqJOxsFIwP"
      },
      "source": [
        "##Train our model"
      ]
    },
    {
      "cell_type": "code",
      "execution_count": 22,
      "metadata": {
        "id": "WViLYFG_8Teo",
        "colab": {
          "base_uri": "https://localhost:8080/"
        },
        "outputId": "e3ce29a2-3273-4297-9c82-5e5c4d5e3e67"
      },
      "outputs": [
        {
          "output_type": "stream",
          "name": "stdout",
          "text": [
            "0\n",
            "tensor(45.1658, grad_fn=<MseLossBackward0>)\n",
            "1\n",
            "tensor(32.0682, grad_fn=<MseLossBackward0>)\n",
            "2\n",
            "tensor(45.7550, grad_fn=<MseLossBackward0>)\n",
            "3\n",
            "tensor(35.6354, grad_fn=<MseLossBackward0>)\n",
            "4\n",
            "tensor(37.6803, grad_fn=<MseLossBackward0>)\n",
            "5\n",
            "tensor(38.9692, grad_fn=<MseLossBackward0>)\n",
            "6\n",
            "tensor(32.4871, grad_fn=<MseLossBackward0>)\n",
            "7\n",
            "tensor(38.2033, grad_fn=<MseLossBackward0>)\n",
            "8\n",
            "tensor(34.4604, grad_fn=<MseLossBackward0>)\n",
            "9\n",
            "tensor(35.5760, grad_fn=<MseLossBackward0>)\n",
            "10\n",
            "tensor(35.5194, grad_fn=<MseLossBackward0>)\n",
            "11\n",
            "tensor(33.9318, grad_fn=<MseLossBackward0>)\n",
            "12\n",
            "tensor(36.3178, grad_fn=<MseLossBackward0>)\n",
            "13\n",
            "tensor(32.4887, grad_fn=<MseLossBackward0>)\n",
            "14\n",
            "tensor(36.4865, grad_fn=<MseLossBackward0>)\n",
            "15\n",
            "tensor(31.4074, grad_fn=<MseLossBackward0>)\n",
            "16\n",
            "tensor(33.4000, grad_fn=<MseLossBackward0>)\n",
            "17\n",
            "tensor(34.7904, grad_fn=<MseLossBackward0>)\n",
            "18\n",
            "tensor(30.8821, grad_fn=<MseLossBackward0>)\n",
            "19\n",
            "tensor(34.0807, grad_fn=<MseLossBackward0>)\n",
            "20\n",
            "tensor(30.8335, grad_fn=<MseLossBackward0>)\n",
            "21\n",
            "tensor(30.7628, grad_fn=<MseLossBackward0>)\n",
            "22\n",
            "tensor(32.4381, grad_fn=<MseLossBackward0>)\n",
            "23\n",
            "tensor(31.0855, grad_fn=<MseLossBackward0>)\n",
            "24\n",
            "tensor(29.0774, grad_fn=<MseLossBackward0>)\n",
            "25\n",
            "tensor(32.0013, grad_fn=<MseLossBackward0>)\n",
            "26\n",
            "tensor(28.5736, grad_fn=<MseLossBackward0>)\n",
            "27\n",
            "tensor(28.7449, grad_fn=<MseLossBackward0>)\n",
            "28\n",
            "tensor(30.8368, grad_fn=<MseLossBackward0>)\n",
            "29\n",
            "tensor(29.5175, grad_fn=<MseLossBackward0>)\n",
            "30\n",
            "tensor(24.2525, grad_fn=<MseLossBackward0>)\n",
            "31\n",
            "tensor(24.6752, grad_fn=<MseLossBackward0>)\n",
            "32\n",
            "tensor(23.7161, grad_fn=<MseLossBackward0>)\n",
            "33\n",
            "tensor(26.6065, grad_fn=<MseLossBackward0>)\n",
            "34\n",
            "tensor(24.5530, grad_fn=<MseLossBackward0>)\n",
            "35\n",
            "tensor(23.2093, grad_fn=<MseLossBackward0>)\n",
            "36\n",
            "tensor(20.0445, grad_fn=<MseLossBackward0>)\n",
            "37\n",
            "tensor(19.7981, grad_fn=<MseLossBackward0>)\n",
            "38\n",
            "tensor(16.9431, grad_fn=<MseLossBackward0>)\n",
            "39\n",
            "tensor(19.5549, grad_fn=<MseLossBackward0>)\n",
            "40\n",
            "tensor(20.9777, grad_fn=<MseLossBackward0>)\n",
            "41\n",
            "tensor(19.3565, grad_fn=<MseLossBackward0>)\n",
            "42\n",
            "tensor(17.3737, grad_fn=<MseLossBackward0>)\n",
            "43\n",
            "tensor(22.3842, grad_fn=<MseLossBackward0>)\n",
            "44\n",
            "tensor(21.5928, grad_fn=<MseLossBackward0>)\n",
            "45\n",
            "tensor(16.8350, grad_fn=<MseLossBackward0>)\n",
            "46\n",
            "tensor(16.5630, grad_fn=<MseLossBackward0>)\n",
            "47\n",
            "tensor(20.8892, grad_fn=<MseLossBackward0>)\n",
            "48\n",
            "tensor(18.8652, grad_fn=<MseLossBackward0>)\n",
            "49\n",
            "tensor(25.6526, grad_fn=<MseLossBackward0>)\n",
            "50\n",
            "tensor(16.8046, grad_fn=<MseLossBackward0>)\n",
            "51\n",
            "tensor(13.5244, grad_fn=<MseLossBackward0>)\n",
            "52\n",
            "tensor(13.9989, grad_fn=<MseLossBackward0>)\n",
            "53\n",
            "tensor(16.3720, grad_fn=<MseLossBackward0>)\n",
            "54\n",
            "tensor(16.1379, grad_fn=<MseLossBackward0>)\n",
            "55\n",
            "tensor(16.3997, grad_fn=<MseLossBackward0>)\n",
            "56\n",
            "tensor(20.3030, grad_fn=<MseLossBackward0>)\n",
            "57\n",
            "tensor(16.3512, grad_fn=<MseLossBackward0>)\n",
            "58\n",
            "tensor(14.1300, grad_fn=<MseLossBackward0>)\n",
            "59\n",
            "tensor(14.4877, grad_fn=<MseLossBackward0>)\n",
            "60\n",
            "tensor(10.6835, grad_fn=<MseLossBackward0>)\n",
            "61\n",
            "tensor(12.9771, grad_fn=<MseLossBackward0>)\n",
            "62\n",
            "tensor(14.6521, grad_fn=<MseLossBackward0>)\n",
            "63\n",
            "tensor(12.7360, grad_fn=<MseLossBackward0>)\n",
            "64\n",
            "tensor(13.2717, grad_fn=<MseLossBackward0>)\n",
            "65\n",
            "tensor(12.8000, grad_fn=<MseLossBackward0>)\n",
            "66\n",
            "tensor(13.2352, grad_fn=<MseLossBackward0>)\n",
            "67\n",
            "tensor(17.0130, grad_fn=<MseLossBackward0>)\n",
            "68\n",
            "tensor(14.0662, grad_fn=<MseLossBackward0>)\n",
            "69\n",
            "tensor(12.4350, grad_fn=<MseLossBackward0>)\n",
            "70\n",
            "tensor(11.7595, grad_fn=<MseLossBackward0>)\n",
            "71\n",
            "tensor(13.4159, grad_fn=<MseLossBackward0>)\n",
            "72\n",
            "tensor(12.0375, grad_fn=<MseLossBackward0>)\n",
            "73\n",
            "tensor(13.7566, grad_fn=<MseLossBackward0>)\n",
            "74\n",
            "tensor(9.3973, grad_fn=<MseLossBackward0>)\n",
            "75\n",
            "tensor(11.5524, grad_fn=<MseLossBackward0>)\n",
            "76\n",
            "tensor(13.6515, grad_fn=<MseLossBackward0>)\n",
            "77\n",
            "tensor(15.2310, grad_fn=<MseLossBackward0>)\n",
            "78\n",
            "tensor(17.1399, grad_fn=<MseLossBackward0>)\n",
            "79\n",
            "tensor(16.6376, grad_fn=<MseLossBackward0>)\n",
            "80\n",
            "tensor(11.5121, grad_fn=<MseLossBackward0>)\n",
            "81\n",
            "tensor(8.6244, grad_fn=<MseLossBackward0>)\n",
            "82\n",
            "tensor(9.4447, grad_fn=<MseLossBackward0>)\n",
            "83\n",
            "tensor(12.2255, grad_fn=<MseLossBackward0>)\n",
            "84\n",
            "tensor(14.8107, grad_fn=<MseLossBackward0>)\n",
            "85\n",
            "tensor(17.2595, grad_fn=<MseLossBackward0>)\n",
            "86\n",
            "tensor(16.7279, grad_fn=<MseLossBackward0>)\n",
            "87\n",
            "tensor(14.3308, grad_fn=<MseLossBackward0>)\n",
            "88\n",
            "tensor(11.9374, grad_fn=<MseLossBackward0>)\n",
            "89\n",
            "tensor(12.1162, grad_fn=<MseLossBackward0>)\n",
            "90\n",
            "tensor(12.4994, grad_fn=<MseLossBackward0>)\n",
            "91\n",
            "tensor(11.9707, grad_fn=<MseLossBackward0>)\n",
            "92\n",
            "tensor(16.5522, grad_fn=<MseLossBackward0>)\n",
            "93\n",
            "tensor(14.9736, grad_fn=<MseLossBackward0>)\n",
            "94\n",
            "tensor(14.7440, grad_fn=<MseLossBackward0>)\n",
            "95\n",
            "tensor(13.0255, grad_fn=<MseLossBackward0>)\n",
            "96\n",
            "tensor(17.5272, grad_fn=<MseLossBackward0>)\n",
            "97\n",
            "tensor(12.5539, grad_fn=<MseLossBackward0>)\n",
            "98\n",
            "tensor(11.8112, grad_fn=<MseLossBackward0>)\n",
            "99\n",
            "tensor(9.7801, grad_fn=<MseLossBackward0>)\n",
            "100\n",
            "tensor(15.1521, grad_fn=<MseLossBackward0>)\n",
            "101\n",
            "tensor(17.5865, grad_fn=<MseLossBackward0>)\n",
            "102\n",
            "tensor(11.6859, grad_fn=<MseLossBackward0>)\n",
            "103\n",
            "tensor(14.4297, grad_fn=<MseLossBackward0>)\n",
            "104\n",
            "tensor(17.4513, grad_fn=<MseLossBackward0>)\n",
            "105\n",
            "tensor(13.9259, grad_fn=<MseLossBackward0>)\n",
            "106\n",
            "tensor(10.1758, grad_fn=<MseLossBackward0>)\n",
            "107\n",
            "tensor(14.2920, grad_fn=<MseLossBackward0>)\n",
            "108\n",
            "tensor(16.4421, grad_fn=<MseLossBackward0>)\n",
            "109\n",
            "tensor(13.8751, grad_fn=<MseLossBackward0>)\n",
            "110\n",
            "tensor(12.3306, grad_fn=<MseLossBackward0>)\n",
            "111\n",
            "tensor(15.5830, grad_fn=<MseLossBackward0>)\n",
            "112\n",
            "tensor(14.5274, grad_fn=<MseLossBackward0>)\n",
            "113\n",
            "tensor(12.2457, grad_fn=<MseLossBackward0>)\n",
            "114\n",
            "tensor(11.3438, grad_fn=<MseLossBackward0>)\n",
            "115\n",
            "tensor(12.1227, grad_fn=<MseLossBackward0>)\n",
            "116\n",
            "tensor(16.9155, grad_fn=<MseLossBackward0>)\n",
            "117\n",
            "tensor(19.1267, grad_fn=<MseLossBackward0>)\n",
            "118\n",
            "tensor(15.5895, grad_fn=<MseLossBackward0>)\n",
            "119\n",
            "tensor(14.4846, grad_fn=<MseLossBackward0>)\n",
            "120\n",
            "tensor(12.0857, grad_fn=<MseLossBackward0>)\n",
            "121\n",
            "tensor(12.5051, grad_fn=<MseLossBackward0>)\n",
            "122\n",
            "tensor(16.5781, grad_fn=<MseLossBackward0>)\n",
            "123\n",
            "tensor(15.5812, grad_fn=<MseLossBackward0>)\n",
            "124\n",
            "tensor(9.9657, grad_fn=<MseLossBackward0>)\n",
            "125\n",
            "tensor(13.0402, grad_fn=<MseLossBackward0>)\n",
            "126\n",
            "tensor(14.1861, grad_fn=<MseLossBackward0>)\n",
            "127\n",
            "tensor(16.7689, grad_fn=<MseLossBackward0>)\n",
            "128\n",
            "tensor(13.3222, grad_fn=<MseLossBackward0>)\n",
            "129\n",
            "tensor(10.3750, grad_fn=<MseLossBackward0>)\n",
            "130\n",
            "tensor(9.2829, grad_fn=<MseLossBackward0>)\n",
            "131\n",
            "tensor(9.4093, grad_fn=<MseLossBackward0>)\n",
            "132\n",
            "tensor(10.2809, grad_fn=<MseLossBackward0>)\n",
            "133\n",
            "tensor(11.3511, grad_fn=<MseLossBackward0>)\n",
            "134\n",
            "tensor(10.3196, grad_fn=<MseLossBackward0>)\n",
            "135\n",
            "tensor(11.3341, grad_fn=<MseLossBackward0>)\n",
            "136\n",
            "tensor(10.9017, grad_fn=<MseLossBackward0>)\n",
            "137\n",
            "tensor(11.1660, grad_fn=<MseLossBackward0>)\n",
            "138\n",
            "tensor(13.3516, grad_fn=<MseLossBackward0>)\n",
            "139\n",
            "tensor(11.5905, grad_fn=<MseLossBackward0>)\n",
            "140\n",
            "tensor(12.4673, grad_fn=<MseLossBackward0>)\n",
            "141\n",
            "tensor(12.5959, grad_fn=<MseLossBackward0>)\n",
            "142\n",
            "tensor(14.9330, grad_fn=<MseLossBackward0>)\n",
            "143\n",
            "tensor(14.5803, grad_fn=<MseLossBackward0>)\n",
            "144\n",
            "tensor(16.7937, grad_fn=<MseLossBackward0>)\n",
            "145\n",
            "tensor(13.6915, grad_fn=<MseLossBackward0>)\n",
            "146\n",
            "tensor(13.1189, grad_fn=<MseLossBackward0>)\n",
            "147\n",
            "tensor(13.3998, grad_fn=<MseLossBackward0>)\n",
            "148\n",
            "tensor(12.0846, grad_fn=<MseLossBackward0>)\n",
            "149\n",
            "tensor(13.2636, grad_fn=<MseLossBackward0>)\n",
            "150\n",
            "tensor(18.1470, grad_fn=<MseLossBackward0>)\n",
            "151\n",
            "tensor(19.5167, grad_fn=<MseLossBackward0>)\n",
            "152\n",
            "tensor(19.0770, grad_fn=<MseLossBackward0>)\n",
            "153\n",
            "tensor(18.2521, grad_fn=<MseLossBackward0>)\n",
            "154\n",
            "tensor(16.4688, grad_fn=<MseLossBackward0>)\n",
            "155\n",
            "tensor(19.7446, grad_fn=<MseLossBackward0>)\n",
            "156\n",
            "tensor(18.8506, grad_fn=<MseLossBackward0>)\n",
            "157\n",
            "tensor(17.9718, grad_fn=<MseLossBackward0>)\n",
            "158\n",
            "tensor(22.4456, grad_fn=<MseLossBackward0>)\n",
            "159\n",
            "tensor(19.8971, grad_fn=<MseLossBackward0>)\n",
            "160\n",
            "tensor(19.9085, grad_fn=<MseLossBackward0>)\n",
            "161\n",
            "tensor(15.3788, grad_fn=<MseLossBackward0>)\n",
            "162\n",
            "tensor(17.5696, grad_fn=<MseLossBackward0>)\n",
            "163\n",
            "tensor(16.3183, grad_fn=<MseLossBackward0>)\n",
            "164\n",
            "tensor(15.3680, grad_fn=<MseLossBackward0>)\n",
            "165\n",
            "tensor(20.5708, grad_fn=<MseLossBackward0>)\n",
            "166\n",
            "tensor(18.6383, grad_fn=<MseLossBackward0>)\n",
            "167\n",
            "tensor(15.2435, grad_fn=<MseLossBackward0>)\n",
            "168\n",
            "tensor(18.1062, grad_fn=<MseLossBackward0>)\n",
            "169\n",
            "tensor(20.0527, grad_fn=<MseLossBackward0>)\n",
            "170\n",
            "tensor(20.7452, grad_fn=<MseLossBackward0>)\n",
            "171\n",
            "tensor(23.7492, grad_fn=<MseLossBackward0>)\n",
            "172\n",
            "tensor(20.2888, grad_fn=<MseLossBackward0>)\n",
            "173\n",
            "tensor(18.4998, grad_fn=<MseLossBackward0>)\n",
            "174\n",
            "tensor(17.7542, grad_fn=<MseLossBackward0>)\n",
            "175\n",
            "tensor(22.3630, grad_fn=<MseLossBackward0>)\n",
            "176\n",
            "tensor(18.9958, grad_fn=<MseLossBackward0>)\n",
            "177\n",
            "tensor(14.9056, grad_fn=<MseLossBackward0>)\n",
            "178\n",
            "tensor(18.7340, grad_fn=<MseLossBackward0>)\n",
            "179\n",
            "tensor(19.6857, grad_fn=<MseLossBackward0>)\n",
            "180\n",
            "tensor(18.9277, grad_fn=<MseLossBackward0>)\n",
            "181\n",
            "tensor(16.7547, grad_fn=<MseLossBackward0>)\n",
            "182\n",
            "tensor(19.1725, grad_fn=<MseLossBackward0>)\n",
            "183\n",
            "tensor(18.8734, grad_fn=<MseLossBackward0>)\n",
            "184\n",
            "tensor(18.2139, grad_fn=<MseLossBackward0>)\n",
            "185\n",
            "tensor(20.3757, grad_fn=<MseLossBackward0>)\n",
            "186\n",
            "tensor(18.0748, grad_fn=<MseLossBackward0>)\n",
            "187\n",
            "tensor(15.5165, grad_fn=<MseLossBackward0>)\n",
            "188\n",
            "tensor(16.5119, grad_fn=<MseLossBackward0>)\n",
            "189\n",
            "tensor(17.8486, grad_fn=<MseLossBackward0>)\n",
            "190\n",
            "tensor(17.1490, grad_fn=<MseLossBackward0>)\n",
            "191\n",
            "tensor(19.4294, grad_fn=<MseLossBackward0>)\n",
            "192\n",
            "tensor(21.9639, grad_fn=<MseLossBackward0>)\n",
            "193\n",
            "tensor(21.3999, grad_fn=<MseLossBackward0>)\n",
            "194\n",
            "tensor(18.9642, grad_fn=<MseLossBackward0>)\n",
            "195\n",
            "tensor(16.7159, grad_fn=<MseLossBackward0>)\n",
            "196\n",
            "tensor(16.2139, grad_fn=<MseLossBackward0>)\n",
            "197\n",
            "tensor(17.6280, grad_fn=<MseLossBackward0>)\n",
            "198\n",
            "tensor(16.0609, grad_fn=<MseLossBackward0>)\n",
            "199\n",
            "tensor(14.4630, grad_fn=<MseLossBackward0>)\n",
            "200\n",
            "tensor(15.5360, grad_fn=<MseLossBackward0>)\n",
            "201\n",
            "tensor(17.9433, grad_fn=<MseLossBackward0>)\n",
            "202\n",
            "tensor(17.2998, grad_fn=<MseLossBackward0>)\n",
            "203\n",
            "tensor(14.7991, grad_fn=<MseLossBackward0>)\n",
            "204\n",
            "tensor(17.7705, grad_fn=<MseLossBackward0>)\n",
            "205\n",
            "tensor(19.2800, grad_fn=<MseLossBackward0>)\n",
            "206\n",
            "tensor(20.2059, grad_fn=<MseLossBackward0>)\n",
            "207\n",
            "tensor(17.9289, grad_fn=<MseLossBackward0>)\n",
            "208\n",
            "tensor(17.3661, grad_fn=<MseLossBackward0>)\n",
            "209\n",
            "tensor(17.6675, grad_fn=<MseLossBackward0>)\n",
            "210\n",
            "tensor(17.3707, grad_fn=<MseLossBackward0>)\n",
            "211\n",
            "tensor(16.3638, grad_fn=<MseLossBackward0>)\n",
            "212\n",
            "tensor(17.6538, grad_fn=<MseLossBackward0>)\n",
            "213\n",
            "tensor(14.8858, grad_fn=<MseLossBackward0>)\n",
            "214\n",
            "tensor(14.3023, grad_fn=<MseLossBackward0>)\n",
            "215\n",
            "tensor(17.7019, grad_fn=<MseLossBackward0>)\n",
            "216\n",
            "tensor(17.6196, grad_fn=<MseLossBackward0>)\n",
            "217\n",
            "tensor(18.5731, grad_fn=<MseLossBackward0>)\n",
            "218\n",
            "tensor(17.8368, grad_fn=<MseLossBackward0>)\n",
            "219\n",
            "tensor(18.7098, grad_fn=<MseLossBackward0>)\n",
            "220\n",
            "tensor(18.1130, grad_fn=<MseLossBackward0>)\n",
            "221\n",
            "tensor(17.5368, grad_fn=<MseLossBackward0>)\n",
            "222\n",
            "tensor(18.1678, grad_fn=<MseLossBackward0>)\n",
            "223\n",
            "tensor(18.1035, grad_fn=<MseLossBackward0>)\n",
            "224\n",
            "tensor(20.3350, grad_fn=<MseLossBackward0>)\n",
            "225\n",
            "tensor(21.1462, grad_fn=<MseLossBackward0>)\n",
            "226\n",
            "tensor(21.0831, grad_fn=<MseLossBackward0>)\n",
            "227\n",
            "tensor(21.4523, grad_fn=<MseLossBackward0>)\n",
            "228\n",
            "tensor(19.7747, grad_fn=<MseLossBackward0>)\n",
            "229\n",
            "tensor(15.4248, grad_fn=<MseLossBackward0>)\n",
            "230\n",
            "tensor(14.5591, grad_fn=<MseLossBackward0>)\n",
            "231\n",
            "tensor(19.0346, grad_fn=<MseLossBackward0>)\n",
            "232\n",
            "tensor(16.8312, grad_fn=<MseLossBackward0>)\n",
            "233\n",
            "tensor(17.0312, grad_fn=<MseLossBackward0>)\n",
            "234\n",
            "tensor(17.7472, grad_fn=<MseLossBackward0>)\n",
            "235\n",
            "tensor(15.1042, grad_fn=<MseLossBackward0>)\n",
            "236\n",
            "tensor(17.3532, grad_fn=<MseLossBackward0>)\n",
            "237\n",
            "tensor(16.5371, grad_fn=<MseLossBackward0>)\n",
            "238\n",
            "tensor(18.4901, grad_fn=<MseLossBackward0>)\n",
            "239\n",
            "tensor(18.7871, grad_fn=<MseLossBackward0>)\n",
            "240\n",
            "tensor(19.7087, grad_fn=<MseLossBackward0>)\n",
            "241\n",
            "tensor(16.2157, grad_fn=<MseLossBackward0>)\n",
            "242\n",
            "tensor(19.4749, grad_fn=<MseLossBackward0>)\n",
            "243\n",
            "tensor(20.4421, grad_fn=<MseLossBackward0>)\n",
            "244\n",
            "tensor(18.7647, grad_fn=<MseLossBackward0>)\n",
            "245\n",
            "tensor(23.4018, grad_fn=<MseLossBackward0>)\n",
            "246\n",
            "tensor(19.0965, grad_fn=<MseLossBackward0>)\n",
            "247\n",
            "tensor(14.8417, grad_fn=<MseLossBackward0>)\n",
            "248\n",
            "tensor(16.1527, grad_fn=<MseLossBackward0>)\n",
            "249\n",
            "tensor(16.0588, grad_fn=<MseLossBackward0>)\n",
            "250\n",
            "tensor(16.9494, grad_fn=<MseLossBackward0>)\n",
            "251\n",
            "tensor(17.0183, grad_fn=<MseLossBackward0>)\n",
            "252\n",
            "tensor(16.8611, grad_fn=<MseLossBackward0>)\n",
            "253\n",
            "tensor(16.6316, grad_fn=<MseLossBackward0>)\n",
            "254\n",
            "tensor(15.4031, grad_fn=<MseLossBackward0>)\n",
            "255\n",
            "tensor(14.5281, grad_fn=<MseLossBackward0>)\n",
            "256\n",
            "tensor(16.7198, grad_fn=<MseLossBackward0>)\n",
            "257\n",
            "tensor(18.7480, grad_fn=<MseLossBackward0>)\n",
            "258\n",
            "tensor(15.9911, grad_fn=<MseLossBackward0>)\n",
            "259\n",
            "tensor(14.8638, grad_fn=<MseLossBackward0>)\n",
            "260\n",
            "tensor(15.3457, grad_fn=<MseLossBackward0>)\n",
            "261\n",
            "tensor(16.8976, grad_fn=<MseLossBackward0>)\n",
            "262\n",
            "tensor(16.7116, grad_fn=<MseLossBackward0>)\n",
            "263\n",
            "tensor(13.2380, grad_fn=<MseLossBackward0>)\n",
            "264\n",
            "tensor(16.1456, grad_fn=<MseLossBackward0>)\n",
            "265\n",
            "tensor(15.5428, grad_fn=<MseLossBackward0>)\n",
            "266\n",
            "tensor(15.0121, grad_fn=<MseLossBackward0>)\n",
            "267\n",
            "tensor(16.2135, grad_fn=<MseLossBackward0>)\n",
            "268\n",
            "tensor(14.8758, grad_fn=<MseLossBackward0>)\n",
            "269\n",
            "tensor(16.5921, grad_fn=<MseLossBackward0>)\n",
            "270\n",
            "tensor(17.7466, grad_fn=<MseLossBackward0>)\n",
            "271\n",
            "tensor(16.0216, grad_fn=<MseLossBackward0>)\n",
            "272\n",
            "tensor(17.1497, grad_fn=<MseLossBackward0>)\n",
            "273\n",
            "tensor(17.3515, grad_fn=<MseLossBackward0>)\n",
            "274\n",
            "tensor(14.8995, grad_fn=<MseLossBackward0>)\n",
            "275\n",
            "tensor(15.8108, grad_fn=<MseLossBackward0>)\n",
            "276\n",
            "tensor(13.0278, grad_fn=<MseLossBackward0>)\n",
            "277\n",
            "tensor(12.6214, grad_fn=<MseLossBackward0>)\n",
            "278\n",
            "tensor(14.8880, grad_fn=<MseLossBackward0>)\n",
            "279\n",
            "tensor(17.0261, grad_fn=<MseLossBackward0>)\n",
            "280\n",
            "tensor(16.1405, grad_fn=<MseLossBackward0>)\n",
            "281\n",
            "tensor(15.5319, grad_fn=<MseLossBackward0>)\n",
            "282\n",
            "tensor(17.3906, grad_fn=<MseLossBackward0>)\n",
            "283\n",
            "tensor(17.1663, grad_fn=<MseLossBackward0>)\n",
            "284\n",
            "tensor(17.3090, grad_fn=<MseLossBackward0>)\n",
            "285\n",
            "tensor(16.4592, grad_fn=<MseLossBackward0>)\n",
            "286\n",
            "tensor(20.8155, grad_fn=<MseLossBackward0>)\n",
            "287\n",
            "tensor(19.4678, grad_fn=<MseLossBackward0>)\n",
            "288\n",
            "tensor(23.9299, grad_fn=<MseLossBackward0>)\n",
            "289\n",
            "tensor(18.3354, grad_fn=<MseLossBackward0>)\n",
            "290\n",
            "tensor(17.1593, grad_fn=<MseLossBackward0>)\n",
            "291\n",
            "tensor(18.2185, grad_fn=<MseLossBackward0>)\n",
            "292\n",
            "tensor(16.7982, grad_fn=<MseLossBackward0>)\n",
            "293\n",
            "tensor(19.2977, grad_fn=<MseLossBackward0>)\n",
            "294\n",
            "tensor(22.2111, grad_fn=<MseLossBackward0>)\n",
            "295\n",
            "tensor(17.5183, grad_fn=<MseLossBackward0>)\n",
            "296\n",
            "tensor(18.2286, grad_fn=<MseLossBackward0>)\n",
            "297\n",
            "tensor(19.8520, grad_fn=<MseLossBackward0>)\n",
            "298\n",
            "tensor(15.9252, grad_fn=<MseLossBackward0>)\n",
            "299\n",
            "tensor(18.2187, grad_fn=<MseLossBackward0>)\n",
            "300\n",
            "tensor(16.7557, grad_fn=<MseLossBackward0>)\n",
            "301\n",
            "tensor(14.5112, grad_fn=<MseLossBackward0>)\n",
            "302\n",
            "tensor(16.8764, grad_fn=<MseLossBackward0>)\n",
            "303\n",
            "tensor(14.9992, grad_fn=<MseLossBackward0>)\n",
            "304\n",
            "tensor(16.9228, grad_fn=<MseLossBackward0>)\n",
            "305\n",
            "tensor(19.4345, grad_fn=<MseLossBackward0>)\n",
            "306\n",
            "tensor(20.9740, grad_fn=<MseLossBackward0>)\n",
            "307\n",
            "tensor(19.9504, grad_fn=<MseLossBackward0>)\n",
            "308\n",
            "tensor(24.4154, grad_fn=<MseLossBackward0>)\n",
            "309\n",
            "tensor(22.1492, grad_fn=<MseLossBackward0>)\n",
            "310\n",
            "tensor(16.6485, grad_fn=<MseLossBackward0>)\n",
            "311\n",
            "tensor(17.9346, grad_fn=<MseLossBackward0>)\n",
            "312\n",
            "tensor(19.6845, grad_fn=<MseLossBackward0>)\n",
            "313\n",
            "tensor(16.4897, grad_fn=<MseLossBackward0>)\n",
            "314\n",
            "tensor(16.7675, grad_fn=<MseLossBackward0>)\n",
            "315\n",
            "tensor(19.2844, grad_fn=<MseLossBackward0>)\n",
            "316\n",
            "tensor(17.7014, grad_fn=<MseLossBackward0>)\n",
            "317\n",
            "tensor(18.7133, grad_fn=<MseLossBackward0>)\n",
            "318\n",
            "tensor(20.4207, grad_fn=<MseLossBackward0>)\n",
            "319\n",
            "tensor(18.7166, grad_fn=<MseLossBackward0>)\n",
            "320\n",
            "tensor(18.1538, grad_fn=<MseLossBackward0>)\n",
            "321\n",
            "tensor(19.2836, grad_fn=<MseLossBackward0>)\n",
            "322\n",
            "tensor(19.0119, grad_fn=<MseLossBackward0>)\n",
            "323\n",
            "tensor(17.4269, grad_fn=<MseLossBackward0>)\n",
            "324\n",
            "tensor(14.0173, grad_fn=<MseLossBackward0>)\n",
            "325\n",
            "tensor(15.5613, grad_fn=<MseLossBackward0>)\n",
            "326\n",
            "tensor(16.3916, grad_fn=<MseLossBackward0>)\n",
            "327\n",
            "tensor(12.9638, grad_fn=<MseLossBackward0>)\n",
            "328\n",
            "tensor(14.2529, grad_fn=<MseLossBackward0>)\n",
            "329\n",
            "tensor(17.0522, grad_fn=<MseLossBackward0>)\n",
            "330\n",
            "tensor(18.3498, grad_fn=<MseLossBackward0>)\n",
            "331\n",
            "tensor(24.4371, grad_fn=<MseLossBackward0>)\n",
            "332\n",
            "tensor(23.8411, grad_fn=<MseLossBackward0>)\n",
            "333\n",
            "tensor(23.5913, grad_fn=<MseLossBackward0>)\n",
            "334\n",
            "tensor(22.7116, grad_fn=<MseLossBackward0>)\n",
            "335\n",
            "tensor(19.7584, grad_fn=<MseLossBackward0>)\n",
            "336\n",
            "tensor(18.5148, grad_fn=<MseLossBackward0>)\n",
            "337\n",
            "tensor(16.4097, grad_fn=<MseLossBackward0>)\n",
            "338\n",
            "tensor(14.0660, grad_fn=<MseLossBackward0>)\n",
            "339\n",
            "tensor(16.8321, grad_fn=<MseLossBackward0>)\n",
            "340\n",
            "tensor(20.1922, grad_fn=<MseLossBackward0>)\n",
            "341\n",
            "tensor(20.4925, grad_fn=<MseLossBackward0>)\n",
            "342\n",
            "tensor(16.2950, grad_fn=<MseLossBackward0>)\n",
            "343\n",
            "tensor(17.4684, grad_fn=<MseLossBackward0>)\n",
            "344\n",
            "tensor(18.5555, grad_fn=<MseLossBackward0>)\n",
            "345\n",
            "tensor(19.3787, grad_fn=<MseLossBackward0>)\n",
            "346\n",
            "tensor(16.7181, grad_fn=<MseLossBackward0>)\n",
            "347\n",
            "tensor(19.0913, grad_fn=<MseLossBackward0>)\n",
            "348\n",
            "tensor(19.0056, grad_fn=<MseLossBackward0>)\n",
            "349\n",
            "tensor(15.9226, grad_fn=<MseLossBackward0>)\n",
            "350\n",
            "tensor(16.9340, grad_fn=<MseLossBackward0>)\n",
            "351\n",
            "tensor(20.1597, grad_fn=<MseLossBackward0>)\n",
            "352\n",
            "tensor(22.1197, grad_fn=<MseLossBackward0>)\n",
            "353\n",
            "tensor(15.9206, grad_fn=<MseLossBackward0>)\n",
            "354\n",
            "tensor(18.0889, grad_fn=<MseLossBackward0>)\n",
            "355\n",
            "tensor(18.3704, grad_fn=<MseLossBackward0>)\n",
            "356\n",
            "tensor(16.3549, grad_fn=<MseLossBackward0>)\n",
            "357\n",
            "tensor(17.9072, grad_fn=<MseLossBackward0>)\n",
            "358\n",
            "tensor(18.4650, grad_fn=<MseLossBackward0>)\n",
            "359\n",
            "tensor(21.9219, grad_fn=<MseLossBackward0>)\n",
            "360\n",
            "tensor(19.5521, grad_fn=<MseLossBackward0>)\n",
            "361\n",
            "tensor(18.0949, grad_fn=<MseLossBackward0>)\n",
            "362\n",
            "tensor(19.5427, grad_fn=<MseLossBackward0>)\n",
            "363\n",
            "tensor(20.9625, grad_fn=<MseLossBackward0>)\n",
            "364\n",
            "tensor(18.0041, grad_fn=<MseLossBackward0>)\n",
            "365\n",
            "tensor(16.3978, grad_fn=<MseLossBackward0>)\n",
            "366\n",
            "tensor(21.6764, grad_fn=<MseLossBackward0>)\n",
            "367\n",
            "tensor(17.5239, grad_fn=<MseLossBackward0>)\n",
            "368\n",
            "tensor(15.7551, grad_fn=<MseLossBackward0>)\n",
            "369\n",
            "tensor(16.5373, grad_fn=<MseLossBackward0>)\n",
            "370\n",
            "tensor(18.4085, grad_fn=<MseLossBackward0>)\n",
            "371\n",
            "tensor(17.4787, grad_fn=<MseLossBackward0>)\n",
            "372\n",
            "tensor(19.8127, grad_fn=<MseLossBackward0>)\n",
            "373\n",
            "tensor(18.4094, grad_fn=<MseLossBackward0>)\n",
            "374\n",
            "tensor(22.4880, grad_fn=<MseLossBackward0>)\n",
            "375\n",
            "tensor(19.5814, grad_fn=<MseLossBackward0>)\n",
            "376\n",
            "tensor(15.6900, grad_fn=<MseLossBackward0>)\n",
            "377\n",
            "tensor(18.1225, grad_fn=<MseLossBackward0>)\n",
            "378\n",
            "tensor(17.1557, grad_fn=<MseLossBackward0>)\n",
            "379\n",
            "tensor(13.8308, grad_fn=<MseLossBackward0>)\n",
            "380\n",
            "tensor(15.8280, grad_fn=<MseLossBackward0>)\n",
            "381\n",
            "tensor(17.1508, grad_fn=<MseLossBackward0>)\n",
            "382\n",
            "tensor(15.3950, grad_fn=<MseLossBackward0>)\n",
            "383\n",
            "tensor(17.7672, grad_fn=<MseLossBackward0>)\n",
            "384\n",
            "tensor(16.6883, grad_fn=<MseLossBackward0>)\n",
            "385\n",
            "tensor(15.0528, grad_fn=<MseLossBackward0>)\n",
            "386\n",
            "tensor(15.3905, grad_fn=<MseLossBackward0>)\n",
            "387\n",
            "tensor(17.4578, grad_fn=<MseLossBackward0>)\n",
            "388\n",
            "tensor(16.8669, grad_fn=<MseLossBackward0>)\n",
            "389\n",
            "tensor(18.8361, grad_fn=<MseLossBackward0>)\n",
            "390\n",
            "tensor(18.5768, grad_fn=<MseLossBackward0>)\n",
            "391\n",
            "tensor(17.8160, grad_fn=<MseLossBackward0>)\n",
            "392\n",
            "tensor(17.6236, grad_fn=<MseLossBackward0>)\n",
            "393\n",
            "tensor(14.2640, grad_fn=<MseLossBackward0>)\n",
            "394\n",
            "tensor(16.7742, grad_fn=<MseLossBackward0>)\n",
            "395\n",
            "tensor(15.4131, grad_fn=<MseLossBackward0>)\n",
            "396\n",
            "tensor(15.5002, grad_fn=<MseLossBackward0>)\n",
            "397\n",
            "tensor(15.7133, grad_fn=<MseLossBackward0>)\n",
            "398\n",
            "tensor(16.9386, grad_fn=<MseLossBackward0>)\n",
            "399\n",
            "tensor(18.2921, grad_fn=<MseLossBackward0>)\n",
            "400\n",
            "tensor(18.2494, grad_fn=<MseLossBackward0>)\n",
            "401\n",
            "tensor(21.0103, grad_fn=<MseLossBackward0>)\n",
            "402\n",
            "tensor(15.8708, grad_fn=<MseLossBackward0>)\n",
            "403\n",
            "tensor(18.1585, grad_fn=<MseLossBackward0>)\n",
            "404\n",
            "tensor(17.7818, grad_fn=<MseLossBackward0>)\n",
            "405\n",
            "tensor(16.7043, grad_fn=<MseLossBackward0>)\n",
            "406\n",
            "tensor(14.5509, grad_fn=<MseLossBackward0>)\n",
            "407\n",
            "tensor(15.0635, grad_fn=<MseLossBackward0>)\n",
            "408\n",
            "tensor(17.1865, grad_fn=<MseLossBackward0>)\n",
            "409\n",
            "tensor(14.6150, grad_fn=<MseLossBackward0>)\n",
            "410\n",
            "tensor(17.5926, grad_fn=<MseLossBackward0>)\n",
            "411\n",
            "tensor(17.4441, grad_fn=<MseLossBackward0>)\n",
            "412\n",
            "tensor(15.0675, grad_fn=<MseLossBackward0>)\n",
            "413\n",
            "tensor(15.4840, grad_fn=<MseLossBackward0>)\n",
            "414\n",
            "tensor(19.6692, grad_fn=<MseLossBackward0>)\n",
            "415\n",
            "tensor(21.6562, grad_fn=<MseLossBackward0>)\n",
            "416\n",
            "tensor(22.3419, grad_fn=<MseLossBackward0>)\n",
            "417\n",
            "tensor(19.6196, grad_fn=<MseLossBackward0>)\n",
            "418\n",
            "tensor(17.2057, grad_fn=<MseLossBackward0>)\n",
            "419\n",
            "tensor(17.1233, grad_fn=<MseLossBackward0>)\n",
            "420\n",
            "tensor(15.9625, grad_fn=<MseLossBackward0>)\n",
            "421\n",
            "tensor(15.7642, grad_fn=<MseLossBackward0>)\n",
            "422\n",
            "tensor(18.0220, grad_fn=<MseLossBackward0>)\n",
            "423\n",
            "tensor(14.8695, grad_fn=<MseLossBackward0>)\n",
            "424\n",
            "tensor(16.2029, grad_fn=<MseLossBackward0>)\n",
            "425\n",
            "tensor(14.9214, grad_fn=<MseLossBackward0>)\n",
            "426\n",
            "tensor(16.2699, grad_fn=<MseLossBackward0>)\n",
            "427\n",
            "tensor(17.7175, grad_fn=<MseLossBackward0>)\n",
            "428\n",
            "tensor(18.2722, grad_fn=<MseLossBackward0>)\n",
            "429\n",
            "tensor(19.6325, grad_fn=<MseLossBackward0>)\n",
            "430\n",
            "tensor(16.8535, grad_fn=<MseLossBackward0>)\n",
            "431\n",
            "tensor(17.9196, grad_fn=<MseLossBackward0>)\n",
            "432\n",
            "tensor(17.6954, grad_fn=<MseLossBackward0>)\n",
            "433\n",
            "tensor(19.1852, grad_fn=<MseLossBackward0>)\n",
            "434\n",
            "tensor(16.1267, grad_fn=<MseLossBackward0>)\n",
            "435\n",
            "tensor(16.6614, grad_fn=<MseLossBackward0>)\n",
            "436\n",
            "tensor(15.5498, grad_fn=<MseLossBackward0>)\n",
            "437\n",
            "tensor(19.3252, grad_fn=<MseLossBackward0>)\n",
            "438\n",
            "tensor(19.4705, grad_fn=<MseLossBackward0>)\n",
            "439\n",
            "tensor(22.8392, grad_fn=<MseLossBackward0>)\n",
            "440\n",
            "tensor(20.4387, grad_fn=<MseLossBackward0>)\n",
            "441\n",
            "tensor(21.6794, grad_fn=<MseLossBackward0>)\n",
            "442\n",
            "tensor(22.3607, grad_fn=<MseLossBackward0>)\n",
            "443\n",
            "tensor(21.0956, grad_fn=<MseLossBackward0>)\n",
            "444\n",
            "tensor(21.5398, grad_fn=<MseLossBackward0>)\n",
            "445\n",
            "tensor(15.7503, grad_fn=<MseLossBackward0>)\n",
            "446\n",
            "tensor(18.5224, grad_fn=<MseLossBackward0>)\n",
            "447\n",
            "tensor(13.6327, grad_fn=<MseLossBackward0>)\n",
            "448\n",
            "tensor(14.6578, grad_fn=<MseLossBackward0>)\n",
            "449\n",
            "tensor(17.4606, grad_fn=<MseLossBackward0>)\n",
            "450\n",
            "tensor(20.9767, grad_fn=<MseLossBackward0>)\n",
            "451\n",
            "tensor(19.2557, grad_fn=<MseLossBackward0>)\n",
            "452\n",
            "tensor(23.2985, grad_fn=<MseLossBackward0>)\n",
            "453\n",
            "tensor(20.2542, grad_fn=<MseLossBackward0>)\n",
            "454\n",
            "tensor(17.8916, grad_fn=<MseLossBackward0>)\n",
            "455\n",
            "tensor(16.2109, grad_fn=<MseLossBackward0>)\n",
            "456\n",
            "tensor(18.1746, grad_fn=<MseLossBackward0>)\n",
            "457\n",
            "tensor(18.4929, grad_fn=<MseLossBackward0>)\n",
            "458\n",
            "tensor(15.1290, grad_fn=<MseLossBackward0>)\n",
            "459\n",
            "tensor(18.7021, grad_fn=<MseLossBackward0>)\n",
            "460\n",
            "tensor(22.7551, grad_fn=<MseLossBackward0>)\n",
            "461\n",
            "tensor(19.7066, grad_fn=<MseLossBackward0>)\n",
            "462\n",
            "tensor(21.4541, grad_fn=<MseLossBackward0>)\n",
            "463\n",
            "tensor(20.9059, grad_fn=<MseLossBackward0>)\n",
            "464\n",
            "tensor(18.2124, grad_fn=<MseLossBackward0>)\n",
            "465\n",
            "tensor(20.3622, grad_fn=<MseLossBackward0>)\n",
            "466\n",
            "tensor(15.1418, grad_fn=<MseLossBackward0>)\n",
            "467\n",
            "tensor(19.8471, grad_fn=<MseLossBackward0>)\n",
            "468\n",
            "tensor(16.7009, grad_fn=<MseLossBackward0>)\n",
            "469\n",
            "tensor(15.8590, grad_fn=<MseLossBackward0>)\n",
            "470\n",
            "tensor(15.2941, grad_fn=<MseLossBackward0>)\n",
            "471\n",
            "tensor(15.3948, grad_fn=<MseLossBackward0>)\n",
            "472\n",
            "tensor(17.7888, grad_fn=<MseLossBackward0>)\n",
            "473\n",
            "tensor(16.5177, grad_fn=<MseLossBackward0>)\n",
            "474\n",
            "tensor(16.9774, grad_fn=<MseLossBackward0>)\n",
            "475\n",
            "tensor(17.5235, grad_fn=<MseLossBackward0>)\n",
            "476\n",
            "tensor(14.3837, grad_fn=<MseLossBackward0>)\n",
            "477\n",
            "tensor(16.2432, grad_fn=<MseLossBackward0>)\n",
            "478\n",
            "tensor(15.3824, grad_fn=<MseLossBackward0>)\n",
            "479\n",
            "tensor(15.8257, grad_fn=<MseLossBackward0>)\n",
            "480\n",
            "tensor(16.3689, grad_fn=<MseLossBackward0>)\n",
            "481\n",
            "tensor(15.0038, grad_fn=<MseLossBackward0>)\n",
            "482\n",
            "tensor(16.7064, grad_fn=<MseLossBackward0>)\n",
            "483\n",
            "tensor(14.9492, grad_fn=<MseLossBackward0>)\n",
            "484\n",
            "tensor(16.5602, grad_fn=<MseLossBackward0>)\n",
            "485\n",
            "tensor(17.5564, grad_fn=<MseLossBackward0>)\n",
            "486\n",
            "tensor(15.9810, grad_fn=<MseLossBackward0>)\n",
            "487\n",
            "tensor(15.4163, grad_fn=<MseLossBackward0>)\n",
            "488\n",
            "tensor(18.4859, grad_fn=<MseLossBackward0>)\n",
            "489\n",
            "tensor(19.7205, grad_fn=<MseLossBackward0>)\n",
            "490\n",
            "tensor(18.7034, grad_fn=<MseLossBackward0>)\n",
            "491\n",
            "tensor(19.1225, grad_fn=<MseLossBackward0>)\n",
            "492\n",
            "tensor(18.2772, grad_fn=<MseLossBackward0>)\n",
            "493\n",
            "tensor(20.2090, grad_fn=<MseLossBackward0>)\n",
            "494\n",
            "tensor(17.6722, grad_fn=<MseLossBackward0>)\n",
            "495\n",
            "tensor(16.9693, grad_fn=<MseLossBackward0>)\n",
            "496\n",
            "tensor(17.9109, grad_fn=<MseLossBackward0>)\n",
            "497\n",
            "tensor(13.7175, grad_fn=<MseLossBackward0>)\n",
            "498\n",
            "tensor(18.2623, grad_fn=<MseLossBackward0>)\n",
            "499\n",
            "tensor(19.9979, grad_fn=<MseLossBackward0>)\n",
            "500\n",
            "tensor(15.2666, grad_fn=<MseLossBackward0>)\n",
            "501\n",
            "tensor(13.3831, grad_fn=<MseLossBackward0>)\n",
            "502\n",
            "tensor(16.1797, grad_fn=<MseLossBackward0>)\n",
            "503\n",
            "tensor(18.9864, grad_fn=<MseLossBackward0>)\n",
            "504\n",
            "tensor(19.6198, grad_fn=<MseLossBackward0>)\n",
            "505\n",
            "tensor(15.8654, grad_fn=<MseLossBackward0>)\n",
            "506\n",
            "tensor(17.4283, grad_fn=<MseLossBackward0>)\n",
            "507\n",
            "tensor(18.9516, grad_fn=<MseLossBackward0>)\n",
            "508\n",
            "tensor(18.9748, grad_fn=<MseLossBackward0>)\n",
            "509\n",
            "tensor(23.2636, grad_fn=<MseLossBackward0>)\n",
            "510\n",
            "tensor(14.2564, grad_fn=<MseLossBackward0>)\n",
            "511\n",
            "tensor(16.0824, grad_fn=<MseLossBackward0>)\n",
            "512\n",
            "tensor(18.1600, grad_fn=<MseLossBackward0>)\n",
            "513\n",
            "tensor(16.4742, grad_fn=<MseLossBackward0>)\n",
            "514\n",
            "tensor(17.0978, grad_fn=<MseLossBackward0>)\n",
            "515\n",
            "tensor(19.5563, grad_fn=<MseLossBackward0>)\n",
            "516\n",
            "tensor(15.3399, grad_fn=<MseLossBackward0>)\n",
            "517\n",
            "tensor(16.4975, grad_fn=<MseLossBackward0>)\n",
            "518\n",
            "tensor(18.1926, grad_fn=<MseLossBackward0>)\n",
            "519\n",
            "tensor(14.3366, grad_fn=<MseLossBackward0>)\n",
            "520\n",
            "tensor(18.0116, grad_fn=<MseLossBackward0>)\n",
            "521\n",
            "tensor(15.8069, grad_fn=<MseLossBackward0>)\n",
            "522\n",
            "tensor(16.4759, grad_fn=<MseLossBackward0>)\n",
            "523\n",
            "tensor(18.5751, grad_fn=<MseLossBackward0>)\n",
            "524\n",
            "tensor(17.1396, grad_fn=<MseLossBackward0>)\n",
            "525\n",
            "tensor(16.1602, grad_fn=<MseLossBackward0>)\n",
            "526\n",
            "tensor(18.0559, grad_fn=<MseLossBackward0>)\n",
            "527\n",
            "tensor(18.2141, grad_fn=<MseLossBackward0>)\n",
            "528\n",
            "tensor(18.9431, grad_fn=<MseLossBackward0>)\n",
            "529\n",
            "tensor(15.7811, grad_fn=<MseLossBackward0>)\n",
            "530\n",
            "tensor(15.4175, grad_fn=<MseLossBackward0>)\n",
            "531\n",
            "tensor(15.7830, grad_fn=<MseLossBackward0>)\n",
            "532\n",
            "tensor(15.0160, grad_fn=<MseLossBackward0>)\n",
            "533\n",
            "tensor(16.3469, grad_fn=<MseLossBackward0>)\n",
            "534\n",
            "tensor(17.4121, grad_fn=<MseLossBackward0>)\n",
            "535\n",
            "tensor(15.3158, grad_fn=<MseLossBackward0>)\n",
            "536\n",
            "tensor(16.2609, grad_fn=<MseLossBackward0>)\n",
            "537\n",
            "tensor(16.2359, grad_fn=<MseLossBackward0>)\n",
            "538\n",
            "tensor(15.7142, grad_fn=<MseLossBackward0>)\n",
            "539\n",
            "tensor(17.3194, grad_fn=<MseLossBackward0>)\n",
            "540\n",
            "tensor(14.3000, grad_fn=<MseLossBackward0>)\n",
            "541\n",
            "tensor(12.9267, grad_fn=<MseLossBackward0>)\n",
            "542\n",
            "tensor(12.8180, grad_fn=<MseLossBackward0>)\n",
            "543\n",
            "tensor(13.1500, grad_fn=<MseLossBackward0>)\n",
            "544\n",
            "tensor(16.7637, grad_fn=<MseLossBackward0>)\n",
            "545\n",
            "tensor(14.6249, grad_fn=<MseLossBackward0>)\n",
            "546\n",
            "tensor(13.5237, grad_fn=<MseLossBackward0>)\n",
            "547\n",
            "tensor(15.6260, grad_fn=<MseLossBackward0>)\n",
            "548\n",
            "tensor(14.4474, grad_fn=<MseLossBackward0>)\n",
            "549\n",
            "tensor(12.3706, grad_fn=<MseLossBackward0>)\n",
            "550\n",
            "tensor(14.1414, grad_fn=<MseLossBackward0>)\n",
            "551\n",
            "tensor(13.3138, grad_fn=<MseLossBackward0>)\n",
            "552\n",
            "tensor(14.8906, grad_fn=<MseLossBackward0>)\n",
            "553\n",
            "tensor(14.5677, grad_fn=<MseLossBackward0>)\n",
            "554\n",
            "tensor(16.6871, grad_fn=<MseLossBackward0>)\n",
            "555\n",
            "tensor(16.5169, grad_fn=<MseLossBackward0>)\n",
            "556\n",
            "tensor(15.4489, grad_fn=<MseLossBackward0>)\n",
            "557\n",
            "tensor(16.9833, grad_fn=<MseLossBackward0>)\n",
            "558\n",
            "tensor(15.9550, grad_fn=<MseLossBackward0>)\n",
            "559\n",
            "tensor(14.3767, grad_fn=<MseLossBackward0>)\n",
            "560\n",
            "tensor(15.1792, grad_fn=<MseLossBackward0>)\n",
            "561\n",
            "tensor(17.5917, grad_fn=<MseLossBackward0>)\n",
            "562\n",
            "tensor(18.4597, grad_fn=<MseLossBackward0>)\n",
            "563\n",
            "tensor(21.9642, grad_fn=<MseLossBackward0>)\n",
            "564\n",
            "tensor(18.6885, grad_fn=<MseLossBackward0>)\n",
            "565\n",
            "tensor(18.2402, grad_fn=<MseLossBackward0>)\n",
            "566\n",
            "tensor(14.5473, grad_fn=<MseLossBackward0>)\n",
            "567\n",
            "tensor(12.3711, grad_fn=<MseLossBackward0>)\n",
            "568\n",
            "tensor(13.6324, grad_fn=<MseLossBackward0>)\n",
            "569\n",
            "tensor(12.3755, grad_fn=<MseLossBackward0>)\n",
            "570\n",
            "tensor(13.9611, grad_fn=<MseLossBackward0>)\n",
            "571\n",
            "tensor(15.2212, grad_fn=<MseLossBackward0>)\n",
            "572\n",
            "tensor(17.7903, grad_fn=<MseLossBackward0>)\n",
            "573\n",
            "tensor(16.0162, grad_fn=<MseLossBackward0>)\n",
            "574\n",
            "tensor(19.4750, grad_fn=<MseLossBackward0>)\n",
            "575\n",
            "tensor(22.7129, grad_fn=<MseLossBackward0>)\n",
            "576\n",
            "tensor(19.9125, grad_fn=<MseLossBackward0>)\n",
            "577\n",
            "tensor(20.9233, grad_fn=<MseLossBackward0>)\n",
            "578\n",
            "tensor(19.7966, grad_fn=<MseLossBackward0>)\n",
            "579\n",
            "tensor(11.9379, grad_fn=<MseLossBackward0>)\n",
            "580\n",
            "tensor(15.2547, grad_fn=<MseLossBackward0>)\n",
            "581\n",
            "tensor(11.4702, grad_fn=<MseLossBackward0>)\n",
            "582\n",
            "tensor(13.0346, grad_fn=<MseLossBackward0>)\n",
            "583\n",
            "tensor(14.4063, grad_fn=<MseLossBackward0>)\n",
            "584\n",
            "tensor(15.3884, grad_fn=<MseLossBackward0>)\n",
            "585\n",
            "tensor(14.6336, grad_fn=<MseLossBackward0>)\n",
            "586\n",
            "tensor(14.6977, grad_fn=<MseLossBackward0>)\n",
            "587\n",
            "tensor(14.9889, grad_fn=<MseLossBackward0>)\n",
            "588\n",
            "tensor(14.9942, grad_fn=<MseLossBackward0>)\n",
            "589\n",
            "tensor(15.2679, grad_fn=<MseLossBackward0>)\n",
            "590\n",
            "tensor(14.6636, grad_fn=<MseLossBackward0>)\n",
            "591\n",
            "tensor(14.2840, grad_fn=<MseLossBackward0>)\n",
            "592\n",
            "tensor(15.6540, grad_fn=<MseLossBackward0>)\n",
            "593\n",
            "tensor(13.7773, grad_fn=<MseLossBackward0>)\n",
            "594\n",
            "tensor(14.3148, grad_fn=<MseLossBackward0>)\n",
            "595\n",
            "tensor(15.8433, grad_fn=<MseLossBackward0>)\n",
            "596\n",
            "tensor(14.9444, grad_fn=<MseLossBackward0>)\n",
            "597\n",
            "tensor(15.9247, grad_fn=<MseLossBackward0>)\n",
            "598\n",
            "tensor(15.3783, grad_fn=<MseLossBackward0>)\n",
            "599\n",
            "tensor(17.2130, grad_fn=<MseLossBackward0>)\n",
            "600\n",
            "tensor(17.9726, grad_fn=<MseLossBackward0>)\n",
            "601\n",
            "tensor(15.7451, grad_fn=<MseLossBackward0>)\n",
            "602\n",
            "tensor(16.6546, grad_fn=<MseLossBackward0>)\n",
            "603\n",
            "tensor(15.6365, grad_fn=<MseLossBackward0>)\n",
            "604\n",
            "tensor(13.7345, grad_fn=<MseLossBackward0>)\n",
            "605\n",
            "tensor(15.9553, grad_fn=<MseLossBackward0>)\n",
            "606\n",
            "tensor(14.7365, grad_fn=<MseLossBackward0>)\n",
            "607\n",
            "tensor(14.4185, grad_fn=<MseLossBackward0>)\n",
            "608\n",
            "tensor(12.6148, grad_fn=<MseLossBackward0>)\n",
            "609\n",
            "tensor(15.5547, grad_fn=<MseLossBackward0>)\n",
            "610\n",
            "tensor(12.1816, grad_fn=<MseLossBackward0>)\n",
            "611\n",
            "tensor(12.9954, grad_fn=<MseLossBackward0>)\n",
            "612\n",
            "tensor(12.4323, grad_fn=<MseLossBackward0>)\n",
            "613\n",
            "tensor(14.7418, grad_fn=<MseLossBackward0>)\n",
            "614\n",
            "tensor(17.4169, grad_fn=<MseLossBackward0>)\n",
            "615\n",
            "tensor(16.1472, grad_fn=<MseLossBackward0>)\n",
            "616\n",
            "tensor(16.7467, grad_fn=<MseLossBackward0>)\n",
            "617\n",
            "tensor(15.2045, grad_fn=<MseLossBackward0>)\n",
            "618\n",
            "tensor(14.8577, grad_fn=<MseLossBackward0>)\n",
            "619\n",
            "tensor(13.6452, grad_fn=<MseLossBackward0>)\n",
            "620\n",
            "tensor(14.0809, grad_fn=<MseLossBackward0>)\n",
            "621\n",
            "tensor(15.7120, grad_fn=<MseLossBackward0>)\n",
            "622\n",
            "tensor(15.2104, grad_fn=<MseLossBackward0>)\n",
            "623\n",
            "tensor(18.5729, grad_fn=<MseLossBackward0>)\n",
            "624\n",
            "tensor(17.0761, grad_fn=<MseLossBackward0>)\n",
            "625\n",
            "tensor(15.3174, grad_fn=<MseLossBackward0>)\n",
            "626\n",
            "tensor(14.9001, grad_fn=<MseLossBackward0>)\n",
            "627\n",
            "tensor(16.5448, grad_fn=<MseLossBackward0>)\n",
            "628\n",
            "tensor(15.7192, grad_fn=<MseLossBackward0>)\n",
            "629\n",
            "tensor(15.2476, grad_fn=<MseLossBackward0>)\n",
            "630\n",
            "tensor(14.5059, grad_fn=<MseLossBackward0>)\n",
            "631\n",
            "tensor(11.5092, grad_fn=<MseLossBackward0>)\n",
            "632\n",
            "tensor(13.1686, grad_fn=<MseLossBackward0>)\n",
            "633\n",
            "tensor(13.0941, grad_fn=<MseLossBackward0>)\n",
            "634\n",
            "tensor(14.0721, grad_fn=<MseLossBackward0>)\n",
            "635\n",
            "tensor(13.6584, grad_fn=<MseLossBackward0>)\n",
            "636\n",
            "tensor(15.2786, grad_fn=<MseLossBackward0>)\n",
            "637\n",
            "tensor(14.3203, grad_fn=<MseLossBackward0>)\n",
            "638\n",
            "tensor(15.3060, grad_fn=<MseLossBackward0>)\n",
            "639\n",
            "tensor(15.7019, grad_fn=<MseLossBackward0>)\n",
            "640\n",
            "tensor(15.9256, grad_fn=<MseLossBackward0>)\n",
            "641\n",
            "tensor(15.1137, grad_fn=<MseLossBackward0>)\n",
            "642\n",
            "tensor(15.3207, grad_fn=<MseLossBackward0>)\n",
            "643\n",
            "tensor(15.1828, grad_fn=<MseLossBackward0>)\n",
            "644\n",
            "tensor(17.5084, grad_fn=<MseLossBackward0>)\n",
            "645\n",
            "tensor(20.2750, grad_fn=<MseLossBackward0>)\n",
            "646\n",
            "tensor(15.2008, grad_fn=<MseLossBackward0>)\n",
            "647\n",
            "tensor(19.4283, grad_fn=<MseLossBackward0>)\n",
            "648\n",
            "tensor(16.3633, grad_fn=<MseLossBackward0>)\n",
            "649\n",
            "tensor(15.8052, grad_fn=<MseLossBackward0>)\n",
            "650\n",
            "tensor(18.1833, grad_fn=<MseLossBackward0>)\n",
            "651\n",
            "tensor(16.1293, grad_fn=<MseLossBackward0>)\n",
            "652\n",
            "tensor(19.9638, grad_fn=<MseLossBackward0>)\n",
            "653\n",
            "tensor(20.1741, grad_fn=<MseLossBackward0>)\n",
            "654\n",
            "tensor(18.9568, grad_fn=<MseLossBackward0>)\n",
            "655\n",
            "tensor(16.5179, grad_fn=<MseLossBackward0>)\n",
            "656\n",
            "tensor(14.4829, grad_fn=<MseLossBackward0>)\n",
            "657\n",
            "tensor(15.4585, grad_fn=<MseLossBackward0>)\n",
            "658\n",
            "tensor(13.8765, grad_fn=<MseLossBackward0>)\n",
            "659\n",
            "tensor(16.0383, grad_fn=<MseLossBackward0>)\n",
            "660\n",
            "tensor(15.5905, grad_fn=<MseLossBackward0>)\n",
            "661\n",
            "tensor(17.7788, grad_fn=<MseLossBackward0>)\n",
            "662\n",
            "tensor(14.5434, grad_fn=<MseLossBackward0>)\n",
            "663\n",
            "tensor(13.9403, grad_fn=<MseLossBackward0>)\n",
            "664\n",
            "tensor(13.2140, grad_fn=<MseLossBackward0>)\n",
            "665\n",
            "tensor(12.7622, grad_fn=<MseLossBackward0>)\n",
            "666\n",
            "tensor(14.5585, grad_fn=<MseLossBackward0>)\n",
            "667\n",
            "tensor(13.0503, grad_fn=<MseLossBackward0>)\n",
            "668\n",
            "tensor(13.1310, grad_fn=<MseLossBackward0>)\n",
            "669\n",
            "tensor(12.8068, grad_fn=<MseLossBackward0>)\n",
            "670\n",
            "tensor(13.3208, grad_fn=<MseLossBackward0>)\n",
            "671\n",
            "tensor(15.7614, grad_fn=<MseLossBackward0>)\n",
            "672\n",
            "tensor(15.3154, grad_fn=<MseLossBackward0>)\n",
            "673\n",
            "tensor(14.4510, grad_fn=<MseLossBackward0>)\n",
            "674\n",
            "tensor(14.7192, grad_fn=<MseLossBackward0>)\n",
            "675\n",
            "tensor(15.5550, grad_fn=<MseLossBackward0>)\n",
            "676\n",
            "tensor(15.3493, grad_fn=<MseLossBackward0>)\n",
            "677\n",
            "tensor(16.2833, grad_fn=<MseLossBackward0>)\n",
            "678\n",
            "tensor(16.5269, grad_fn=<MseLossBackward0>)\n",
            "679\n",
            "tensor(18.3095, grad_fn=<MseLossBackward0>)\n",
            "680\n",
            "tensor(19.0732, grad_fn=<MseLossBackward0>)\n",
            "681\n",
            "tensor(14.7571, grad_fn=<MseLossBackward0>)\n",
            "682\n",
            "tensor(14.4089, grad_fn=<MseLossBackward0>)\n",
            "683\n",
            "tensor(13.3008, grad_fn=<MseLossBackward0>)\n",
            "684\n",
            "tensor(13.2376, grad_fn=<MseLossBackward0>)\n",
            "685\n",
            "tensor(14.4048, grad_fn=<MseLossBackward0>)\n",
            "686\n",
            "tensor(12.0699, grad_fn=<MseLossBackward0>)\n",
            "687\n",
            "tensor(13.2567, grad_fn=<MseLossBackward0>)\n",
            "688\n",
            "tensor(11.4101, grad_fn=<MseLossBackward0>)\n",
            "689\n",
            "tensor(11.4973, grad_fn=<MseLossBackward0>)\n",
            "690\n",
            "tensor(13.4959, grad_fn=<MseLossBackward0>)\n",
            "691\n",
            "tensor(15.0965, grad_fn=<MseLossBackward0>)\n",
            "692\n",
            "tensor(15.8113, grad_fn=<MseLossBackward0>)\n",
            "693\n",
            "tensor(16.0023, grad_fn=<MseLossBackward0>)\n",
            "694\n",
            "tensor(15.1021, grad_fn=<MseLossBackward0>)\n",
            "695\n",
            "tensor(17.4785, grad_fn=<MseLossBackward0>)\n",
            "696\n",
            "tensor(15.7843, grad_fn=<MseLossBackward0>)\n",
            "697\n",
            "tensor(14.3902, grad_fn=<MseLossBackward0>)\n",
            "698\n",
            "tensor(16.9315, grad_fn=<MseLossBackward0>)\n",
            "699\n",
            "tensor(18.6400, grad_fn=<MseLossBackward0>)\n",
            "700\n",
            "tensor(18.0503, grad_fn=<MseLossBackward0>)\n",
            "701\n",
            "tensor(17.0244, grad_fn=<MseLossBackward0>)\n",
            "702\n",
            "tensor(15.2057, grad_fn=<MseLossBackward0>)\n",
            "703\n",
            "tensor(12.1985, grad_fn=<MseLossBackward0>)\n",
            "704\n",
            "tensor(11.9105, grad_fn=<MseLossBackward0>)\n",
            "705\n",
            "tensor(11.1107, grad_fn=<MseLossBackward0>)\n",
            "706\n",
            "tensor(15.0303, grad_fn=<MseLossBackward0>)\n",
            "707\n",
            "tensor(15.6988, grad_fn=<MseLossBackward0>)\n",
            "708\n",
            "tensor(15.1850, grad_fn=<MseLossBackward0>)\n",
            "709\n",
            "tensor(15.1835, grad_fn=<MseLossBackward0>)\n",
            "710\n",
            "tensor(13.5412, grad_fn=<MseLossBackward0>)\n",
            "711\n",
            "tensor(14.9531, grad_fn=<MseLossBackward0>)\n",
            "712\n",
            "tensor(13.3389, grad_fn=<MseLossBackward0>)\n",
            "713\n",
            "tensor(13.4824, grad_fn=<MseLossBackward0>)\n",
            "714\n",
            "tensor(13.6090, grad_fn=<MseLossBackward0>)\n",
            "715\n",
            "tensor(12.5628, grad_fn=<MseLossBackward0>)\n",
            "716\n",
            "tensor(14.2708, grad_fn=<MseLossBackward0>)\n",
            "717\n",
            "tensor(13.5020, grad_fn=<MseLossBackward0>)\n",
            "718\n",
            "tensor(16.8832, grad_fn=<MseLossBackward0>)\n",
            "719\n",
            "tensor(16.9538, grad_fn=<MseLossBackward0>)\n",
            "720\n",
            "tensor(18.5358, grad_fn=<MseLossBackward0>)\n",
            "721\n",
            "tensor(16.7367, grad_fn=<MseLossBackward0>)\n",
            "722\n",
            "tensor(15.0026, grad_fn=<MseLossBackward0>)\n",
            "723\n",
            "tensor(14.9262, grad_fn=<MseLossBackward0>)\n",
            "724\n",
            "tensor(14.0196, grad_fn=<MseLossBackward0>)\n",
            "725\n",
            "tensor(12.6564, grad_fn=<MseLossBackward0>)\n",
            "726\n",
            "tensor(14.3327, grad_fn=<MseLossBackward0>)\n",
            "727\n",
            "tensor(13.3465, grad_fn=<MseLossBackward0>)\n",
            "728\n",
            "tensor(14.3703, grad_fn=<MseLossBackward0>)\n",
            "729\n",
            "tensor(15.9941, grad_fn=<MseLossBackward0>)\n",
            "730\n",
            "tensor(14.3742, grad_fn=<MseLossBackward0>)\n",
            "731\n",
            "tensor(14.0441, grad_fn=<MseLossBackward0>)\n",
            "732\n",
            "tensor(16.3885, grad_fn=<MseLossBackward0>)\n",
            "733\n",
            "tensor(12.1030, grad_fn=<MseLossBackward0>)\n",
            "734\n",
            "tensor(11.6959, grad_fn=<MseLossBackward0>)\n",
            "735\n",
            "tensor(12.6036, grad_fn=<MseLossBackward0>)\n",
            "736\n",
            "tensor(15.1281, grad_fn=<MseLossBackward0>)\n",
            "737\n",
            "tensor(15.0520, grad_fn=<MseLossBackward0>)\n",
            "738\n",
            "tensor(13.6439, grad_fn=<MseLossBackward0>)\n",
            "739\n",
            "tensor(13.4223, grad_fn=<MseLossBackward0>)\n",
            "740\n",
            "tensor(15.9194, grad_fn=<MseLossBackward0>)\n",
            "741\n",
            "tensor(15.7210, grad_fn=<MseLossBackward0>)\n",
            "742\n",
            "tensor(17.8223, grad_fn=<MseLossBackward0>)\n",
            "743\n",
            "tensor(16.5124, grad_fn=<MseLossBackward0>)\n",
            "744\n",
            "tensor(15.6554, grad_fn=<MseLossBackward0>)\n",
            "745\n",
            "tensor(14.7308, grad_fn=<MseLossBackward0>)\n",
            "746\n",
            "tensor(15.6848, grad_fn=<MseLossBackward0>)\n",
            "747\n",
            "tensor(13.3210, grad_fn=<MseLossBackward0>)\n",
            "748\n",
            "tensor(14.9810, grad_fn=<MseLossBackward0>)\n",
            "749\n",
            "tensor(14.3154, grad_fn=<MseLossBackward0>)\n",
            "750\n",
            "tensor(13.7116, grad_fn=<MseLossBackward0>)\n",
            "751\n",
            "tensor(12.4243, grad_fn=<MseLossBackward0>)\n",
            "752\n",
            "tensor(14.0387, grad_fn=<MseLossBackward0>)\n",
            "753\n",
            "tensor(15.2645, grad_fn=<MseLossBackward0>)\n",
            "754\n",
            "tensor(12.8555, grad_fn=<MseLossBackward0>)\n",
            "755\n",
            "tensor(14.1186, grad_fn=<MseLossBackward0>)\n",
            "756\n",
            "tensor(14.0893, grad_fn=<MseLossBackward0>)\n",
            "757\n",
            "tensor(14.9259, grad_fn=<MseLossBackward0>)\n",
            "758\n",
            "tensor(14.4742, grad_fn=<MseLossBackward0>)\n",
            "759\n",
            "tensor(12.8552, grad_fn=<MseLossBackward0>)\n",
            "760\n",
            "tensor(14.0112, grad_fn=<MseLossBackward0>)\n",
            "761\n",
            "tensor(12.4739, grad_fn=<MseLossBackward0>)\n",
            "762\n",
            "tensor(13.3244, grad_fn=<MseLossBackward0>)\n",
            "763\n",
            "tensor(17.0382, grad_fn=<MseLossBackward0>)\n",
            "764\n",
            "tensor(12.8231, grad_fn=<MseLossBackward0>)\n",
            "765\n",
            "tensor(14.3835, grad_fn=<MseLossBackward0>)\n",
            "766\n",
            "tensor(14.4810, grad_fn=<MseLossBackward0>)\n",
            "767\n",
            "tensor(14.5652, grad_fn=<MseLossBackward0>)\n",
            "768\n",
            "tensor(15.5288, grad_fn=<MseLossBackward0>)\n",
            "769\n",
            "tensor(13.9941, grad_fn=<MseLossBackward0>)\n",
            "770\n",
            "tensor(15.5837, grad_fn=<MseLossBackward0>)\n",
            "771\n",
            "tensor(13.2668, grad_fn=<MseLossBackward0>)\n",
            "772\n",
            "tensor(12.3702, grad_fn=<MseLossBackward0>)\n",
            "773\n",
            "tensor(12.7209, grad_fn=<MseLossBackward0>)\n",
            "774\n",
            "tensor(12.1588, grad_fn=<MseLossBackward0>)\n",
            "775\n",
            "tensor(14.4513, grad_fn=<MseLossBackward0>)\n",
            "776\n",
            "tensor(14.1141, grad_fn=<MseLossBackward0>)\n",
            "777\n",
            "tensor(12.2386, grad_fn=<MseLossBackward0>)\n",
            "778\n",
            "tensor(14.8023, grad_fn=<MseLossBackward0>)\n",
            "779\n",
            "tensor(15.2929, grad_fn=<MseLossBackward0>)\n",
            "780\n",
            "tensor(14.2350, grad_fn=<MseLossBackward0>)\n",
            "781\n",
            "tensor(13.2941, grad_fn=<MseLossBackward0>)\n",
            "782\n",
            "tensor(11.6061, grad_fn=<MseLossBackward0>)\n",
            "783\n",
            "tensor(13.5833, grad_fn=<MseLossBackward0>)\n",
            "784\n",
            "tensor(14.6172, grad_fn=<MseLossBackward0>)\n",
            "785\n",
            "tensor(12.8767, grad_fn=<MseLossBackward0>)\n",
            "786\n",
            "tensor(14.3487, grad_fn=<MseLossBackward0>)\n",
            "787\n",
            "tensor(14.9975, grad_fn=<MseLossBackward0>)\n",
            "788\n",
            "tensor(18.1121, grad_fn=<MseLossBackward0>)\n",
            "789\n",
            "tensor(14.6716, grad_fn=<MseLossBackward0>)\n",
            "790\n",
            "tensor(11.6672, grad_fn=<MseLossBackward0>)\n",
            "791\n",
            "tensor(12.3437, grad_fn=<MseLossBackward0>)\n",
            "792\n",
            "tensor(12.1937, grad_fn=<MseLossBackward0>)\n",
            "793\n",
            "tensor(13.7406, grad_fn=<MseLossBackward0>)\n",
            "794\n",
            "tensor(13.9420, grad_fn=<MseLossBackward0>)\n",
            "795\n",
            "tensor(13.5698, grad_fn=<MseLossBackward0>)\n",
            "796\n",
            "tensor(14.2048, grad_fn=<MseLossBackward0>)\n",
            "797\n",
            "tensor(10.2751, grad_fn=<MseLossBackward0>)\n",
            "798\n",
            "tensor(11.5683, grad_fn=<MseLossBackward0>)\n",
            "799\n",
            "tensor(14.8031, grad_fn=<MseLossBackward0>)\n",
            "800\n",
            "tensor(10.3591, grad_fn=<MseLossBackward0>)\n",
            "801\n",
            "tensor(13.4830, grad_fn=<MseLossBackward0>)\n",
            "802\n",
            "tensor(13.3974, grad_fn=<MseLossBackward0>)\n",
            "803\n",
            "tensor(11.5667, grad_fn=<MseLossBackward0>)\n",
            "804\n",
            "tensor(13.5711, grad_fn=<MseLossBackward0>)\n",
            "805\n",
            "tensor(11.6255, grad_fn=<MseLossBackward0>)\n",
            "806\n",
            "tensor(14.4735, grad_fn=<MseLossBackward0>)\n",
            "807\n",
            "tensor(16.2348, grad_fn=<MseLossBackward0>)\n",
            "808\n",
            "tensor(14.1575, grad_fn=<MseLossBackward0>)\n",
            "809\n",
            "tensor(16.3867, grad_fn=<MseLossBackward0>)\n",
            "810\n",
            "tensor(11.7921, grad_fn=<MseLossBackward0>)\n",
            "811\n",
            "tensor(12.2287, grad_fn=<MseLossBackward0>)\n",
            "812\n",
            "tensor(13.6961, grad_fn=<MseLossBackward0>)\n",
            "813\n",
            "tensor(11.6821, grad_fn=<MseLossBackward0>)\n",
            "814\n",
            "tensor(13.4703, grad_fn=<MseLossBackward0>)\n",
            "815\n",
            "tensor(12.1191, grad_fn=<MseLossBackward0>)\n",
            "816\n",
            "tensor(12.1713, grad_fn=<MseLossBackward0>)\n",
            "817\n",
            "tensor(12.3981, grad_fn=<MseLossBackward0>)\n",
            "818\n",
            "tensor(12.6549, grad_fn=<MseLossBackward0>)\n",
            "819\n",
            "tensor(13.4078, grad_fn=<MseLossBackward0>)\n",
            "820\n",
            "tensor(12.1028, grad_fn=<MseLossBackward0>)\n",
            "821\n",
            "tensor(13.0453, grad_fn=<MseLossBackward0>)\n",
            "822\n",
            "tensor(13.7967, grad_fn=<MseLossBackward0>)\n",
            "823\n",
            "tensor(12.6829, grad_fn=<MseLossBackward0>)\n",
            "824\n",
            "tensor(16.3522, grad_fn=<MseLossBackward0>)\n",
            "825\n",
            "tensor(14.9119, grad_fn=<MseLossBackward0>)\n",
            "826\n",
            "tensor(10.9305, grad_fn=<MseLossBackward0>)\n",
            "827\n",
            "tensor(15.7986, grad_fn=<MseLossBackward0>)\n",
            "828\n",
            "tensor(11.4749, grad_fn=<MseLossBackward0>)\n",
            "829\n",
            "tensor(13.5489, grad_fn=<MseLossBackward0>)\n",
            "830\n",
            "tensor(14.6980, grad_fn=<MseLossBackward0>)\n",
            "831\n",
            "tensor(13.8944, grad_fn=<MseLossBackward0>)\n",
            "832\n",
            "tensor(16.4058, grad_fn=<MseLossBackward0>)\n",
            "833\n",
            "tensor(12.8143, grad_fn=<MseLossBackward0>)\n",
            "834\n",
            "tensor(11.9139, grad_fn=<MseLossBackward0>)\n",
            "835\n",
            "tensor(12.3918, grad_fn=<MseLossBackward0>)\n",
            "836\n",
            "tensor(10.2904, grad_fn=<MseLossBackward0>)\n",
            "837\n",
            "tensor(12.3559, grad_fn=<MseLossBackward0>)\n",
            "838\n",
            "tensor(13.2180, grad_fn=<MseLossBackward0>)\n",
            "839\n",
            "tensor(10.3495, grad_fn=<MseLossBackward0>)\n",
            "840\n",
            "tensor(11.7700, grad_fn=<MseLossBackward0>)\n",
            "841\n",
            "tensor(11.8702, grad_fn=<MseLossBackward0>)\n",
            "842\n",
            "tensor(11.5180, grad_fn=<MseLossBackward0>)\n",
            "843\n",
            "tensor(12.6851, grad_fn=<MseLossBackward0>)\n",
            "844\n",
            "tensor(12.8335, grad_fn=<MseLossBackward0>)\n",
            "845\n",
            "tensor(12.4438, grad_fn=<MseLossBackward0>)\n",
            "846\n",
            "tensor(13.0161, grad_fn=<MseLossBackward0>)\n",
            "847\n",
            "tensor(13.0078, grad_fn=<MseLossBackward0>)\n",
            "848\n",
            "tensor(13.8213, grad_fn=<MseLossBackward0>)\n",
            "849\n",
            "tensor(13.8777, grad_fn=<MseLossBackward0>)\n",
            "850\n",
            "tensor(12.8157, grad_fn=<MseLossBackward0>)\n",
            "851\n",
            "tensor(14.0652, grad_fn=<MseLossBackward0>)\n",
            "852\n",
            "tensor(12.2854, grad_fn=<MseLossBackward0>)\n",
            "853\n",
            "tensor(12.4887, grad_fn=<MseLossBackward0>)\n",
            "854\n",
            "tensor(10.4619, grad_fn=<MseLossBackward0>)\n",
            "855\n",
            "tensor(9.5826, grad_fn=<MseLossBackward0>)\n",
            "856\n",
            "tensor(9.1953, grad_fn=<MseLossBackward0>)\n",
            "857\n",
            "tensor(13.0669, grad_fn=<MseLossBackward0>)\n",
            "858\n",
            "tensor(11.1222, grad_fn=<MseLossBackward0>)\n",
            "859\n",
            "tensor(13.6255, grad_fn=<MseLossBackward0>)\n",
            "860\n",
            "tensor(14.4323, grad_fn=<MseLossBackward0>)\n",
            "861\n",
            "tensor(13.2904, grad_fn=<MseLossBackward0>)\n",
            "862\n",
            "tensor(14.5963, grad_fn=<MseLossBackward0>)\n",
            "863\n",
            "tensor(12.7587, grad_fn=<MseLossBackward0>)\n",
            "864\n",
            "tensor(10.1160, grad_fn=<MseLossBackward0>)\n",
            "865\n",
            "tensor(14.3507, grad_fn=<MseLossBackward0>)\n",
            "866\n",
            "tensor(13.3667, grad_fn=<MseLossBackward0>)\n",
            "867\n",
            "tensor(12.9470, grad_fn=<MseLossBackward0>)\n",
            "868\n",
            "tensor(10.9787, grad_fn=<MseLossBackward0>)\n",
            "869\n",
            "tensor(11.5162, grad_fn=<MseLossBackward0>)\n",
            "870\n",
            "tensor(13.7863, grad_fn=<MseLossBackward0>)\n",
            "871\n",
            "tensor(10.5116, grad_fn=<MseLossBackward0>)\n",
            "872\n",
            "tensor(13.1812, grad_fn=<MseLossBackward0>)\n",
            "873\n",
            "tensor(11.5435, grad_fn=<MseLossBackward0>)\n",
            "874\n",
            "tensor(12.8820, grad_fn=<MseLossBackward0>)\n",
            "875\n",
            "tensor(13.7730, grad_fn=<MseLossBackward0>)\n",
            "876\n",
            "tensor(11.1634, grad_fn=<MseLossBackward0>)\n",
            "877\n",
            "tensor(14.4583, grad_fn=<MseLossBackward0>)\n",
            "878\n",
            "tensor(13.1119, grad_fn=<MseLossBackward0>)\n",
            "879\n",
            "tensor(15.2491, grad_fn=<MseLossBackward0>)\n",
            "880\n",
            "tensor(13.8239, grad_fn=<MseLossBackward0>)\n",
            "881\n",
            "tensor(12.1438, grad_fn=<MseLossBackward0>)\n",
            "882\n",
            "tensor(11.7410, grad_fn=<MseLossBackward0>)\n",
            "883\n",
            "tensor(12.9374, grad_fn=<MseLossBackward0>)\n",
            "884\n",
            "tensor(14.9799, grad_fn=<MseLossBackward0>)\n",
            "885\n",
            "tensor(12.1059, grad_fn=<MseLossBackward0>)\n",
            "886\n",
            "tensor(12.1173, grad_fn=<MseLossBackward0>)\n",
            "887\n",
            "tensor(12.3900, grad_fn=<MseLossBackward0>)\n",
            "888\n",
            "tensor(11.6510, grad_fn=<MseLossBackward0>)\n",
            "889\n",
            "tensor(14.8030, grad_fn=<MseLossBackward0>)\n",
            "890\n",
            "tensor(15.5610, grad_fn=<MseLossBackward0>)\n",
            "891\n",
            "tensor(17.0476, grad_fn=<MseLossBackward0>)\n",
            "892\n",
            "tensor(14.1067, grad_fn=<MseLossBackward0>)\n",
            "893\n",
            "tensor(11.6776, grad_fn=<MseLossBackward0>)\n",
            "894\n",
            "tensor(13.3634, grad_fn=<MseLossBackward0>)\n",
            "895\n",
            "tensor(10.9128, grad_fn=<MseLossBackward0>)\n",
            "896\n",
            "tensor(10.8575, grad_fn=<MseLossBackward0>)\n",
            "897\n",
            "tensor(13.2085, grad_fn=<MseLossBackward0>)\n",
            "898\n",
            "tensor(12.5548, grad_fn=<MseLossBackward0>)\n",
            "899\n",
            "tensor(12.8470, grad_fn=<MseLossBackward0>)\n",
            "900\n",
            "tensor(12.5655, grad_fn=<MseLossBackward0>)\n",
            "901\n",
            "tensor(13.5678, grad_fn=<MseLossBackward0>)\n",
            "902\n",
            "tensor(15.4873, grad_fn=<MseLossBackward0>)\n",
            "903\n",
            "tensor(13.0002, grad_fn=<MseLossBackward0>)\n",
            "904\n",
            "tensor(13.0231, grad_fn=<MseLossBackward0>)\n",
            "905\n",
            "tensor(11.5357, grad_fn=<MseLossBackward0>)\n",
            "906\n",
            "tensor(12.9153, grad_fn=<MseLossBackward0>)\n",
            "907\n",
            "tensor(11.0841, grad_fn=<MseLossBackward0>)\n",
            "908\n",
            "tensor(11.4313, grad_fn=<MseLossBackward0>)\n",
            "909\n",
            "tensor(11.4175, grad_fn=<MseLossBackward0>)\n",
            "910\n",
            "tensor(12.2555, grad_fn=<MseLossBackward0>)\n",
            "911\n",
            "tensor(12.3618, grad_fn=<MseLossBackward0>)\n",
            "912\n",
            "tensor(12.5897, grad_fn=<MseLossBackward0>)\n",
            "913\n",
            "tensor(12.5662, grad_fn=<MseLossBackward0>)\n",
            "914\n",
            "tensor(13.4644, grad_fn=<MseLossBackward0>)\n",
            "915\n",
            "tensor(17.3836, grad_fn=<MseLossBackward0>)\n",
            "916\n",
            "tensor(16.9005, grad_fn=<MseLossBackward0>)\n",
            "917\n",
            "tensor(14.3503, grad_fn=<MseLossBackward0>)\n",
            "918\n",
            "tensor(13.3755, grad_fn=<MseLossBackward0>)\n",
            "919\n",
            "tensor(12.2110, grad_fn=<MseLossBackward0>)\n",
            "920\n",
            "tensor(11.8779, grad_fn=<MseLossBackward0>)\n",
            "921\n",
            "tensor(11.9661, grad_fn=<MseLossBackward0>)\n",
            "922\n",
            "tensor(11.8997, grad_fn=<MseLossBackward0>)\n",
            "923\n",
            "tensor(15.1525, grad_fn=<MseLossBackward0>)\n",
            "924\n",
            "tensor(12.1903, grad_fn=<MseLossBackward0>)\n",
            "925\n",
            "tensor(10.6066, grad_fn=<MseLossBackward0>)\n",
            "926\n",
            "tensor(12.9487, grad_fn=<MseLossBackward0>)\n",
            "927\n",
            "tensor(12.5237, grad_fn=<MseLossBackward0>)\n",
            "928\n",
            "tensor(10.9997, grad_fn=<MseLossBackward0>)\n",
            "929\n",
            "tensor(11.0899, grad_fn=<MseLossBackward0>)\n",
            "930\n",
            "tensor(12.9190, grad_fn=<MseLossBackward0>)\n",
            "931\n",
            "tensor(10.5243, grad_fn=<MseLossBackward0>)\n",
            "932\n",
            "tensor(10.6500, grad_fn=<MseLossBackward0>)\n",
            "933\n",
            "tensor(10.3668, grad_fn=<MseLossBackward0>)\n",
            "934\n",
            "tensor(10.6578, grad_fn=<MseLossBackward0>)\n",
            "935\n",
            "tensor(11.1130, grad_fn=<MseLossBackward0>)\n",
            "936\n",
            "tensor(10.1400, grad_fn=<MseLossBackward0>)\n",
            "937\n",
            "tensor(12.1062, grad_fn=<MseLossBackward0>)\n",
            "938\n",
            "tensor(12.6607, grad_fn=<MseLossBackward0>)\n",
            "939\n",
            "tensor(14.5604, grad_fn=<MseLossBackward0>)\n",
            "940\n",
            "tensor(12.0396, grad_fn=<MseLossBackward0>)\n",
            "941\n",
            "tensor(13.9043, grad_fn=<MseLossBackward0>)\n",
            "942\n",
            "tensor(14.3495, grad_fn=<MseLossBackward0>)\n",
            "943\n",
            "tensor(12.0224, grad_fn=<MseLossBackward0>)\n",
            "944\n",
            "tensor(13.4861, grad_fn=<MseLossBackward0>)\n",
            "945\n",
            "tensor(12.2718, grad_fn=<MseLossBackward0>)\n",
            "946\n",
            "tensor(13.0763, grad_fn=<MseLossBackward0>)\n",
            "947\n",
            "tensor(12.1980, grad_fn=<MseLossBackward0>)\n",
            "948\n",
            "tensor(11.5399, grad_fn=<MseLossBackward0>)\n",
            "949\n",
            "tensor(11.3851, grad_fn=<MseLossBackward0>)\n",
            "950\n",
            "tensor(11.0898, grad_fn=<MseLossBackward0>)\n",
            "951\n",
            "tensor(11.2983, grad_fn=<MseLossBackward0>)\n",
            "952\n",
            "tensor(12.0518, grad_fn=<MseLossBackward0>)\n",
            "953\n",
            "tensor(13.5125, grad_fn=<MseLossBackward0>)\n",
            "954\n",
            "tensor(16.2926, grad_fn=<MseLossBackward0>)\n",
            "955\n",
            "tensor(14.4625, grad_fn=<MseLossBackward0>)\n",
            "956\n",
            "tensor(14.6531, grad_fn=<MseLossBackward0>)\n",
            "957\n",
            "tensor(12.2883, grad_fn=<MseLossBackward0>)\n",
            "958\n",
            "tensor(12.3268, grad_fn=<MseLossBackward0>)\n",
            "959\n",
            "tensor(10.0870, grad_fn=<MseLossBackward0>)\n",
            "960\n",
            "tensor(10.4741, grad_fn=<MseLossBackward0>)\n",
            "961\n",
            "tensor(12.3805, grad_fn=<MseLossBackward0>)\n",
            "962\n",
            "tensor(12.5141, grad_fn=<MseLossBackward0>)\n",
            "963\n",
            "tensor(13.8387, grad_fn=<MseLossBackward0>)\n",
            "964\n",
            "tensor(12.1440, grad_fn=<MseLossBackward0>)\n",
            "965\n",
            "tensor(11.5288, grad_fn=<MseLossBackward0>)\n",
            "966\n",
            "tensor(10.5600, grad_fn=<MseLossBackward0>)\n",
            "967\n",
            "tensor(10.7251, grad_fn=<MseLossBackward0>)\n",
            "968\n",
            "tensor(10.7245, grad_fn=<MseLossBackward0>)\n",
            "969\n",
            "tensor(10.5621, grad_fn=<MseLossBackward0>)\n",
            "970\n",
            "tensor(13.4453, grad_fn=<MseLossBackward0>)\n",
            "971\n",
            "tensor(11.3814, grad_fn=<MseLossBackward0>)\n",
            "972\n",
            "tensor(11.5582, grad_fn=<MseLossBackward0>)\n",
            "973\n",
            "tensor(14.4595, grad_fn=<MseLossBackward0>)\n",
            "974\n",
            "tensor(10.8656, grad_fn=<MseLossBackward0>)\n",
            "975\n",
            "tensor(11.4832, grad_fn=<MseLossBackward0>)\n",
            "976\n",
            "tensor(13.9347, grad_fn=<MseLossBackward0>)\n",
            "977\n",
            "tensor(14.0371, grad_fn=<MseLossBackward0>)\n",
            "978\n",
            "tensor(14.5365, grad_fn=<MseLossBackward0>)\n",
            "979\n",
            "tensor(15.7305, grad_fn=<MseLossBackward0>)\n",
            "980\n",
            "tensor(13.9703, grad_fn=<MseLossBackward0>)\n",
            "981\n",
            "tensor(11.7630, grad_fn=<MseLossBackward0>)\n",
            "982\n",
            "tensor(10.7068, grad_fn=<MseLossBackward0>)\n",
            "983\n",
            "tensor(11.4860, grad_fn=<MseLossBackward0>)\n",
            "984\n",
            "tensor(10.8001, grad_fn=<MseLossBackward0>)\n",
            "985\n",
            "tensor(12.9018, grad_fn=<MseLossBackward0>)\n",
            "986\n",
            "tensor(12.4127, grad_fn=<MseLossBackward0>)\n",
            "987\n",
            "tensor(13.0184, grad_fn=<MseLossBackward0>)\n",
            "988\n",
            "tensor(11.4568, grad_fn=<MseLossBackward0>)\n",
            "989\n",
            "tensor(10.1799, grad_fn=<MseLossBackward0>)\n",
            "990\n",
            "tensor(9.4632, grad_fn=<MseLossBackward0>)\n",
            "991\n",
            "tensor(11.3033, grad_fn=<MseLossBackward0>)\n",
            "992\n",
            "tensor(10.9206, grad_fn=<MseLossBackward0>)\n",
            "993\n",
            "tensor(11.6004, grad_fn=<MseLossBackward0>)\n",
            "994\n",
            "tensor(12.4561, grad_fn=<MseLossBackward0>)\n",
            "995\n",
            "tensor(12.7993, grad_fn=<MseLossBackward0>)\n",
            "996\n",
            "tensor(10.7776, grad_fn=<MseLossBackward0>)\n",
            "997\n",
            "tensor(12.1187, grad_fn=<MseLossBackward0>)\n",
            "998\n",
            "tensor(11.3230, grad_fn=<MseLossBackward0>)\n",
            "999\n",
            "tensor(11.2791, grad_fn=<MseLossBackward0>)\n"
          ]
        }
      ],
      "source": [
        "#Train our model and evaluate on the test set\n",
        "train_pred = []\n",
        "train_values = []\n",
        "val_pred = []\n",
        "val_values = []\n",
        "for e in range(1000):\n",
        "    print(e)\n",
        "    model.train()     # Optional when not using Model Specific layer\n",
        "    for data in train_loader:\n",
        "\n",
        "      optim.zero_grad()\n",
        "      data.x = data.x.to(device, dtype = torch.float)\n",
        "      data.y = data.y.to(device, dtype = torch.float)\n",
        "\n",
        "      pred = model(data.x, data.edge_index)\n",
        "      \n",
        "      loss = F.mse_loss(pred.squeeze(), data.y.squeeze())\n",
        "      pred_np = pred.detach().numpy()\n",
        "      data.y_np = data.y.detach().numpy() \n",
        "      train_pred.append(pred_np)\n",
        "      train_values.append(data.y_np)\n",
        "      loss.backward()\n",
        "      optim.step()\n",
        "    \n",
        "    model.eval()\n",
        "    for data in test_loader:\n",
        "           # Optional when not using Model Specific layer\n",
        "      optim.zero_grad()\n",
        "      data.x = data.x.to(device, dtype = torch.float)\n",
        "      data.y = data.y.to(device, dtype = torch.float)\n",
        "      \n",
        "      pred = model(data.x, data.edge_index)\n",
        "      \n",
        "      loss = F.mse_loss(pred.squeeze(), data.y.squeeze())\n",
        "      pred_np = pred.detach().numpy()\n",
        "      data.y_np = data.y.detach().numpy() \n",
        "      val_pred.append(pred_np)\n",
        "      val_values.append(data.y_np)\n",
        "      print(loss)\n",
        "        "
      ]
    },
    {
      "cell_type": "markdown",
      "metadata": {
        "id": "Xlb71wX7FCQV"
      },
      "source": [
        "##Visualise learning curves"
      ]
    },
    {
      "cell_type": "code",
      "execution_count": null,
      "metadata": {
        "id": "ZP4-OfnstoZf"
      },
      "outputs": [],
      "source": [
        "#Obtain the training/validation curves\n",
        "def train_graph(pred, train, val_pred, val_train, epochs):\n",
        "\n",
        "  median_scores_train = []\n",
        "  median_scores_test = []\n",
        "\n",
        "  mean_scores_train = []\n",
        "  mean_scores_test = []\n",
        "\n",
        "  for i in range(1,epochs):\n",
        "    median_scores_train.append(median_absolute_error(pred[i], train[i]))\n",
        "    mean_scores_train.append(mean_absolute_error(pred[i], train[i]))\n",
        "    median_scores_test.append(median_absolute_error(val_pred[i], val_train[i]))\n",
        "    mean_scores_test.append(mean_absolute_error(val_pred[i], val_train[i]))\n",
        "\n",
        "  epoch = []\n",
        "  for i in range(1,epochs):\n",
        "    epoch.append(i)\n",
        "\n",
        "  ysmoothed_median_train = gaussian_filter1d(median_scores_train, sigma=2)\n",
        "  ysmoothed_mean_train = gaussian_filter1d(mean_scores_train, sigma=2)\n",
        "\n",
        "  ysmoothed_median_test = gaussian_filter1d(median_scores_test, sigma=2)\n",
        "  ysmoothed_mean_test = gaussian_filter1d(mean_scores_test, sigma=2)\n",
        "\n",
        "  plt.rcParams['figure.figsize'] = [7, 7]\n",
        "  plt.plot(epoch, ysmoothed_median_train, label = 'Train Median Absolute error')\n",
        "  plt.plot(epoch, ysmoothed_mean_train, label = 'Train Mean Absolute error')\n",
        "\n",
        "  plt.plot(epoch, ysmoothed_median_test, label = 'Test Median Absolute error')\n",
        "  plt.plot(epoch, ysmoothed_mean_test, label = 'Test Mean Absolute error')\n",
        "\n",
        "  listOf_Xticks = np.arange(0, epochs, epochs/10)\n",
        "  plt.xticks(listOf_Xticks)\n",
        "\n",
        "  plt.ylim([0, 12])\n",
        "  plt.xlabel(\"Epochs\")\n",
        "  plt.ylabel(\"Error\")\n",
        "  plt.title(\"Median/Mean absolute error vs Epochs(GCN)\")\n",
        "  plt.legend()\n",
        "  plt.show()\n",
        "  print(\"Mimimum test median absolute error\", min(median_scores_test))\n",
        "  print(\"Mimimum test mean absolute error\", min(mean_scores_test))"
      ]
    },
    {
      "cell_type": "code",
      "execution_count": 24,
      "metadata": {
        "id": "tWqoOkn7uw0m",
        "colab": {
          "base_uri": "https://localhost:8080/",
          "height": 493
        },
        "outputId": "a240c90d-4d78-4778-eba2-74d6092f6818"
      },
      "outputs": [
        {
          "output_type": "display_data",
          "data": {
            "text/plain": [
              "<Figure size 504x504 with 1 Axes>"
            ],
            "image/png": "[encoded data removed]"
          },
          "metadata": {
            "needs_background": "light"
          }
        },
        {
          "output_type": "stream",
          "name": "stdout",
          "text": [
            "Mimimum test median absolute error 1.0637054\n",
            "Mimimum test mean absolute error 2.1767857\n"
          ]
        }
      ],
      "source": [
        "#Learning curves for the GCN\n",
        "train_graph(train_pred, train_values, val_pred, val_values, 1000)"
      ]
    },
    {
      "cell_type": "markdown",
      "metadata": {
        "id": "cHySZc5usLaR"
      },
      "source": [
        "##Test Evaluation"
      ]
    },
    {
      "cell_type": "code",
      "execution_count": 25,
      "metadata": {
        "id": "iHwzv1dGsNlI"
      },
      "outputs": [],
      "source": [
        "val_pred = []\n",
        "val_values = []\n",
        "for data in test_loader:\n",
        "           # Optional when not using Model Specific layer\n",
        "      data.x = data.x.to(device, dtype = torch.float)\n",
        "      data.y = data.y.to(device, dtype = torch.float)\n",
        "      \n",
        "      pred = model(data.x, data.edge_index)\n",
        "      \n",
        "      loss = F.mse_loss(pred.squeeze(), data.y.squeeze())\n",
        "      pred_np = pred.detach().numpy()\n",
        "      data.y_np = data.y.detach().numpy() \n",
        "      val_pred.append(pred_np)\n",
        "      val_values.append(data.y_np)"
      ]
    },
    {
      "cell_type": "code",
      "execution_count": 26,
      "metadata": {
        "id": "iMnCaA_VsvuQ"
      },
      "outputs": [],
      "source": [
        "val_pred = np.array(val_pred)\n",
        "val_values = np.array(val_values)"
      ]
    },
    {
      "cell_type": "code",
      "execution_count": 27,
      "metadata": {
        "id": "B225A5JjtlOt",
        "colab": {
          "base_uri": "https://localhost:8080/"
        },
        "outputId": "ee17c382-3e85-484f-ddb1-c4d8014951c9"
      },
      "outputs": [
        {
          "output_type": "execute_result",
          "data": {
            "text/plain": [
              "1.5182743"
            ]
          },
          "metadata": {},
          "execution_count": 27
        }
      ],
      "source": [
        "median_absolute_error(val_pred.flatten(), val_values.flatten())"
      ]
    },
    {
      "cell_type": "code",
      "execution_count": 28,
      "metadata": {
        "id": "oUUFRj_J0hqt",
        "colab": {
          "base_uri": "https://localhost:8080/"
        },
        "outputId": "a81449f4-e812-4202-a530-764d8d99cc0f"
      },
      "outputs": [
        {
          "output_type": "execute_result",
          "data": {
            "text/plain": [
              "2.4276462"
            ]
          },
          "metadata": {},
          "execution_count": 28
        }
      ],
      "source": [
        "mean_absolute_error(val_pred.flatten(), val_values.flatten())"
      ]
    },
    {
      "cell_type": "markdown",
      "metadata": {
        "id": "Kz-qbE64Cype"
      },
      "source": [
        "#Data preparation(CNN and MLP)"
      ]
    },
    {
      "cell_type": "code",
      "execution_count": 29,
      "metadata": {
        "id": "2zX_5GgyQo6Y"
      },
      "outputs": [],
      "source": [
        "#Creating our dataset\n",
        "for i in range(1,50):\n",
        "  globals()['min_df_'+str(i)] = graph_dataset(globals()['G_'+str(i)])\n",
        "  globals()['min_df_'+str(i)]\n",
        "  for index, row in globals()['min_df_'+str(i)].iterrows():\n",
        "    globals()['G_'+str(i)].add_edge(row['edge_1'], row['edge_2'])\n",
        "\n",
        "  globals()['min_df_'+str(i)].sort_values( by = ['edge_1'], inplace = True) \n",
        "  globals()['min_df_'+str(i)]['distance'] = globals()['min_df_'+str(i)]['distance'].astype(int)\n",
        "  pow={0:globals()['min_df_'+str(i)].iloc[0, 2], 1:globals()['min_df_'+str(i)].iloc[1, 2], 2:globals()['min_df_'+str(i)].iloc[2, 2], 3:globals()['min_df_'+str(i)].iloc[3, 2], 4:globals()['min_df_'+str(i)].iloc[4, 2]}\n",
        "  nx.set_node_attributes(globals()['G_'+str(i)], pow, 'y')\n",
        "  \n",
        "\n"
      ]
    },
    {
      "cell_type": "code",
      "execution_count": 30,
      "metadata": {
        "id": "UWJVrvgSQygn"
      },
      "outputs": [],
      "source": [
        "#Data preparation\n",
        "Graph = []\n",
        "coord_x = []\n",
        "coord_y = []\n",
        "coord_near_x = []\n",
        "coord_near_y = []\n",
        "distance = []\n",
        "for i in range(1, 200):\n",
        "    for index, row in globals()['min_df_'+str(i)].iterrows():\n",
        "      Graph.append(i)\n",
        "      coord_x.append(nx.get_node_attributes(globals()['G_'+str(i)], 'pos_x')[row['edge_1']])\n",
        "      \n",
        "      coord_y.append(nx.get_node_attributes(globals()['G_'+str(i)], 'pos_y')[row['edge_1']])\n",
        "\n",
        "      distance.append(row['distance'])"
      ]
    },
    {
      "cell_type": "code",
      "execution_count": 31,
      "metadata": {
        "id": "9y5PwNZxTbd_"
      },
      "outputs": [],
      "source": [
        "#Assigning values in the dataset\n",
        "combined_data = pd.DataFrame(columns = ['Graph', 'coord_x', 'coord_y', 'distance'])\n",
        "combined_data['Graph'] = Graph\n",
        "combined_data['coord_x'] = coord_x\n",
        "combined_data['coord_y'] = coord_y\n",
        "combined_data['distance'] = distance\n"
      ]
    },
    {
      "cell_type": "code",
      "execution_count": 32,
      "metadata": {
        "id": "TZWrvVElY3wH",
        "colab": {
          "base_uri": "https://localhost:8080/",
          "height": 424
        },
        "outputId": "cb173e30-f187-4de6-a7fa-94f0061ec74f"
      },
      "outputs": [
        {
          "output_type": "execute_result",
          "data": {
            "text/plain": [
              "     Graph  coord_x  coord_y  distance\n",
              "0        1       51       60     20.00\n",
              "1        1       45       40     13.00\n",
              "2        1       42       53     25.00\n",
              "3        1       10       60     17.00\n",
              "4        1       18       45     17.00\n",
              "..     ...      ...      ...       ...\n",
              "991    199       52       69     27.29\n",
              "992    199       48       42     27.29\n",
              "993    199       50       60     33.53\n",
              "994    199       16       68     18.11\n",
              "995    199       18       50     33.53\n",
              "\n",
              "[996 rows x 4 columns]"
            ],
            "text/html": [
              "\n",
              "  <div id=\"df-013db409-80fc-4aa2-ae32-a50fbb431d5b\">\n",
              "    <div class=\"colab-df-container\">\n",
              "      <div>\n",
              "<style scoped>\n",
              "    .dataframe tbody tr th:only-of-type {\n",
              "        vertical-align: middle;\n",
              "    }\n",
              "\n",
              "    .dataframe tbody tr th {\n",
              "        vertical-align: top;\n",
              "    }\n",
              "\n",
              "    .dataframe thead th {\n",
              "        text-align: right;\n",
              "    }\n",
              "</style>\n",
              "<table border=\"1\" class=\"dataframe\">\n",
              "  <thead>\n",
              "    <tr style=\"text-align: right;\">\n",
              "      <th></th>\n",
              "      <th>Graph</th>\n",
              "      <th>coord_x</th>\n",
              "      <th>coord_y</th>\n",
              "      <th>distance</th>\n",
              "    </tr>\n",
              "  </thead>\n",
              "  <tbody>\n",
              "    <tr>\n",
              "      <th>0</th>\n",
              "      <td>1</td>\n",
              "      <td>51</td>\n",
              "      <td>60</td>\n",
              "      <td>20.00</td>\n",
              "    </tr>\n",
              "    <tr>\n",
              "      <th>1</th>\n",
              "      <td>1</td>\n",
              "      <td>45</td>\n",
              "      <td>40</td>\n",
              "      <td>13.00</td>\n",
              "    </tr>\n",
              "    <tr>\n",
              "      <th>2</th>\n",
              "      <td>1</td>\n",
              "      <td>42</td>\n",
              "      <td>53</td>\n",
              "      <td>25.00</td>\n",
              "    </tr>\n",
              "    <tr>\n",
              "      <th>3</th>\n",
              "      <td>1</td>\n",
              "      <td>10</td>\n",
              "      <td>60</td>\n",
              "      <td>17.00</td>\n",
              "    </tr>\n",
              "    <tr>\n",
              "      <th>4</th>\n",
              "      <td>1</td>\n",
              "      <td>18</td>\n",
              "      <td>45</td>\n",
              "      <td>17.00</td>\n",
              "    </tr>\n",
              "    <tr>\n",
              "      <th>...</th>\n",
              "      <td>...</td>\n",
              "      <td>...</td>\n",
              "      <td>...</td>\n",
              "      <td>...</td>\n",
              "    </tr>\n",
              "    <tr>\n",
              "      <th>991</th>\n",
              "      <td>199</td>\n",
              "      <td>52</td>\n",
              "      <td>69</td>\n",
              "      <td>27.29</td>\n",
              "    </tr>\n",
              "    <tr>\n",
              "      <th>992</th>\n",
              "      <td>199</td>\n",
              "      <td>48</td>\n",
              "      <td>42</td>\n",
              "      <td>27.29</td>\n",
              "    </tr>\n",
              "    <tr>\n",
              "      <th>993</th>\n",
              "      <td>199</td>\n",
              "      <td>50</td>\n",
              "      <td>60</td>\n",
              "      <td>33.53</td>\n",
              "    </tr>\n",
              "    <tr>\n",
              "      <th>994</th>\n",
              "      <td>199</td>\n",
              "      <td>16</td>\n",
              "      <td>68</td>\n",
              "      <td>18.11</td>\n",
              "    </tr>\n",
              "    <tr>\n",
              "      <th>995</th>\n",
              "      <td>199</td>\n",
              "      <td>18</td>\n",
              "      <td>50</td>\n",
              "      <td>33.53</td>\n",
              "    </tr>\n",
              "  </tbody>\n",
              "</table>\n",
              "<p>996 rows × 4 columns</p>\n",
              "</div>\n",
              "      <button class=\"colab-df-convert\" onclick=\"convertToInteractive('df-013db409-80fc-4aa2-ae32-a50fbb431d5b')\"\n",
              "              title=\"Convert this dataframe to an interactive table.\"\n",
              "              style=\"display:none;\">\n",
              "        \n",
              "  <svg xmlns=\"http://www.w3.org/2000/svg\" height=\"24px\"viewBox=\"0 0 24 24\"\n",
              "       width=\"24px\">\n",
              "    <path d=\"M0 0h24v24H0V0z\" fill=\"none\"/>\n",
              "    <path d=\"M18.56 5.44l.94 2.06.94-2.06 2.06-.94-2.06-.94-.94-2.06-.94 2.06-2.06.94zm-11 1L8.5 8.5l.94-2.06 2.06-.94-2.06-.94L8.5 2.5l-.94 2.06-2.06.94zm10 10l.94 2.06.94-2.06 2.06-.94-2.06-.94-.94-2.06-.94 2.06-2.06.94z\"/><path d=\"M17.41 7.96l-1.37-1.37c-.4-.4-.92-.59-1.43-.59-.52 0-1.04.2-1.43.59L10.3 9.45l-7.72 7.72c-.78.78-.78 2.05 0 2.83L4 21.41c.39.39.9.59 1.41.59.51 0 1.02-.2 1.41-.59l7.78-7.78 2.81-2.81c.8-.78.8-2.07 0-2.86zM5.41 20L4 18.59l7.72-7.72 1.47 1.35L5.41 20z\"/>\n",
              "  </svg>\n",
              "      </button>\n",
              "      \n",
              "  <style>\n",
              "    .colab-df-container {\n",
              "      display:flex;\n",
              "      flex-wrap:wrap;\n",
              "      gap: 12px;\n",
              "    }\n",
              "\n",
              "    .colab-df-convert {\n",
              "      background-color: #E8F0FE;\n",
              "      border: none;\n",
              "      border-radius: 50%;\n",
              "      cursor: pointer;\n",
              "      display: none;\n",
              "      fill: #1967D2;\n",
              "      height: 32px;\n",
              "      padding: 0 0 0 0;\n",
              "      width: 32px;\n",
              "    }\n",
              "\n",
              "    .colab-df-convert:hover {\n",
              "      background-color: #E2EBFA;\n",
              "      box-shadow: 0px 1px 2px rgba(60, 64, 67, 0.3), 0px 1px 3px 1px rgba(60, 64, 67, 0.15);\n",
              "      fill: #174EA6;\n",
              "    }\n",
              "\n",
              "    [theme=dark] .colab-df-convert {\n",
              "      background-color: #3B4455;\n",
              "      fill: #D2E3FC;\n",
              "    }\n",
              "\n",
              "    [theme=dark] .colab-df-convert:hover {\n",
              "      background-color: #434B5C;\n",
              "      box-shadow: 0px 1px 3px 1px rgba(0, 0, 0, 0.15);\n",
              "      filter: drop-shadow(0px 1px 2px rgba(0, 0, 0, 0.3));\n",
              "      fill: #FFFFFF;\n",
              "    }\n",
              "  </style>\n",
              "\n",
              "      <script>\n",
              "        const buttonEl =\n",
              "          document.querySelector('#df-013db409-80fc-4aa2-ae32-a50fbb431d5b button.colab-df-convert');\n",
              "        buttonEl.style.display =\n",
              "          google.colab.kernel.accessAllowed ? 'block' : 'none';\n",
              "\n",
              "        async function convertToInteractive(key) {\n",
              "          const element = document.querySelector('#df-013db409-80fc-4aa2-ae32-a50fbb431d5b');\n",
              "          const dataTable =\n",
              "            await google.colab.kernel.invokeFunction('convertToInteractive',\n",
              "                                                     [key], {});\n",
              "          if (!dataTable) return;\n",
              "\n",
              "          const docLinkHtml = 'Like what you see? Visit the ' +\n",
              "            '<a target=\"_blank\" href=https://colab.research.google.com/notebooks/data_table.ipynb>data table notebook</a>'\n",
              "            + ' to learn more about interactive tables.';\n",
              "          element.innerHTML = '';\n",
              "          dataTable['output_type'] = 'display_data';\n",
              "          await google.colab.output.renderOutput(dataTable, element);\n",
              "          const docLink = document.createElement('div');\n",
              "          docLink.innerHTML = docLinkHtml;\n",
              "          element.appendChild(docLink);\n",
              "        }\n",
              "      </script>\n",
              "    </div>\n",
              "  </div>\n",
              "  "
            ]
          },
          "metadata": {},
          "execution_count": 32
        }
      ],
      "source": [
        "#Look at the first few rows of our dataset\n",
        "combined_data"
      ]
    },
    {
      "cell_type": "markdown",
      "metadata": {
        "id": "S1LWD75nFXup"
      },
      "source": [
        "#MLP"
      ]
    },
    {
      "cell_type": "markdown",
      "metadata": {
        "id": "23xVy3wGDPhx"
      },
      "source": [
        "##Train/Test split"
      ]
    },
    {
      "cell_type": "code",
      "execution_count": 33,
      "metadata": {
        "id": "jS5MjSTSXoKC"
      },
      "outputs": [],
      "source": [
        "#Splitting our training and testing data\n",
        "x = combined_data[['coord_x', 'coord_y']]\n",
        "y = combined_data[['distance']]\n",
        "\n",
        "X_train, X_test, y_train, y_test = train_test_split(x, y, test_size = 0.10, random_state=42, shuffle=False)"
      ]
    },
    {
      "cell_type": "markdown",
      "metadata": {
        "id": "EtS0u_dfFkKf"
      },
      "source": [
        "##Train model"
      ]
    },
    {
      "cell_type": "code",
      "execution_count": 34,
      "metadata": {
        "id": "3hS6z66kYvo6",
        "colab": {
          "base_uri": "https://localhost:8080/"
        },
        "outputId": "4acdaa6c-0168-4716-ab73-9af0e311a354"
      },
      "outputs": [
        {
          "output_type": "stream",
          "name": "stderr",
          "text": [
            "/usr/local/lib/python3.7/dist-packages/sklearn/neural_network/_multilayer_perceptron.py:1599: DataConversionWarning: A column-vector y was passed when a 1d array was expected. Please change the shape of y to (n_samples, ), for example using ravel().\n",
            "  y = column_or_1d(y, warn=True)\n",
            "/usr/local/lib/python3.7/dist-packages/sklearn/neural_network/_multilayer_perceptron.py:696: ConvergenceWarning: Stochastic Optimizer: Maximum iterations (300) reached and the optimization hasn't converged yet.\n",
            "  ConvergenceWarning,\n"
          ]
        }
      ],
      "source": [
        "#Initialise our MLP regressor\n",
        "clf = MLPRegressor(random_state=20, max_iter=300).fit(X_train, y_train)"
      ]
    },
    {
      "cell_type": "markdown",
      "metadata": {
        "id": "XaWPIRJpEU0e"
      },
      "source": [
        "##Evaluate for the test set"
      ]
    },
    {
      "cell_type": "code",
      "execution_count": 35,
      "metadata": {
        "id": "KnVd8--ilpMB"
      },
      "outputs": [],
      "source": [
        "#Predict on test set\n",
        "pred = clf.predict(X_test)"
      ]
    },
    {
      "cell_type": "code",
      "execution_count": 36,
      "metadata": {
        "id": "r-VJYpbhl3mV",
        "colab": {
          "base_uri": "https://localhost:8080/"
        },
        "outputId": "ba98d4e6-2d7d-4d0f-cd1b-e255813f05e4"
      },
      "outputs": [
        {
          "output_type": "execute_result",
          "data": {
            "text/plain": [
              "6.071695174861901"
            ]
          },
          "metadata": {},
          "execution_count": 36
        }
      ],
      "source": [
        "#Mean absolute error for the MLP\n",
        "mean_absolute_error(y_test, pred)"
      ]
    },
    {
      "cell_type": "code",
      "execution_count": 37,
      "metadata": {
        "id": "KcJX-ajvlc6R",
        "colab": {
          "base_uri": "https://localhost:8080/"
        },
        "outputId": "ca1bb354-349a-4b99-eb06-0f6299dfd35e"
      },
      "outputs": [
        {
          "output_type": "execute_result",
          "data": {
            "text/plain": [
              "5.514080452828173"
            ]
          },
          "metadata": {},
          "execution_count": 37
        }
      ],
      "source": [
        "#Median absolute error for the MLP\n",
        "median_absolute_error(y_test, pred)"
      ]
    },
    {
      "cell_type": "markdown",
      "metadata": {
        "id": "NTTu-CHpD7cc"
      },
      "source": [
        "#Convolution Neural Network"
      ]
    },
    {
      "cell_type": "markdown",
      "metadata": {
        "id": "7SvlWLolDvr9"
      },
      "source": [
        "##Prepare data for our CNN"
      ]
    },
    {
      "cell_type": "code",
      "execution_count": 38,
      "metadata": {
        "id": "REedzAcNmD6z"
      },
      "outputs": [],
      "source": [
        "#Reshape values for CNN\n",
        "x = x.values\n",
        "x = x.reshape(x.shape[0], x.shape[1], 1)"
      ]
    },
    {
      "cell_type": "markdown",
      "metadata": {
        "id": "xw3QiJ9_F2nE"
      },
      "source": [
        "##Train/Test split"
      ]
    },
    {
      "cell_type": "code",
      "execution_count": 39,
      "metadata": {
        "id": "ISUn-1a-mGk7"
      },
      "outputs": [],
      "source": [
        "#Train/Test split\n",
        "X_train, X_test, y_train, y_test = train_test_split(x, y, test_size = 0.20, random_state=42, shuffle=False)"
      ]
    },
    {
      "cell_type": "markdown",
      "metadata": {
        "id": "E_iIlX1pF6hv"
      },
      "source": [
        "##Define our model"
      ]
    },
    {
      "cell_type": "code",
      "execution_count": 40,
      "metadata": {
        "id": "Yts27nQcmNKN"
      },
      "outputs": [],
      "source": [
        "#Define our CNN \n",
        "model = Sequential()\n",
        "model.add(Conv1D(32, 2, activation=\"relu\", input_shape=(2, 1)))\n",
        "model.add(Flatten())\n",
        "model.add(Dense(64, activation=\"relu\"))\n",
        "model.add(Dense(32, activation=\"relu\"))\n",
        "model.add(Dense(1))\n",
        "model.compile(loss=[\"mae\"], optimizer=\"adam\")"
      ]
    },
    {
      "cell_type": "code",
      "execution_count": 41,
      "metadata": {
        "id": "LNjfNSXNNhIe",
        "colab": {
          "base_uri": "https://localhost:8080/"
        },
        "outputId": "a548e573-9229-4f09-daa0-e124e99dbb4e"
      },
      "outputs": [
        {
          "output_type": "stream",
          "name": "stdout",
          "text": [
            "Model: \"sequential\"\n",
            "_________________________________________________________________\n",
            " Layer (type)                Output Shape              Param #   \n",
            "=================================================================\n",
            " conv1d (Conv1D)             (None, 1, 32)             96        \n",
            "                                                                 \n",
            " flatten (Flatten)           (None, 32)                0         \n",
            "                                                                 \n",
            " dense (Dense)               (None, 64)                2112      \n",
            "                                                                 \n",
            " dense_1 (Dense)             (None, 32)                2080      \n",
            "                                                                 \n",
            " dense_2 (Dense)             (None, 1)                 33        \n",
            "                                                                 \n",
            "=================================================================\n",
            "Total params: 4,321\n",
            "Trainable params: 4,321\n",
            "Non-trainable params: 0\n",
            "_________________________________________________________________\n"
          ]
        }
      ],
      "source": [
        "#Model architecture\n",
        "model.summary()"
      ]
    },
    {
      "cell_type": "markdown",
      "metadata": {
        "id": "NMzZAVV-F8tT"
      },
      "source": [
        "##Train CNN"
      ]
    },
    {
      "cell_type": "code",
      "execution_count": 42,
      "metadata": {
        "id": "cEfW3M2qmQpg",
        "colab": {
          "base_uri": "https://localhost:8080/"
        },
        "outputId": "450cd6f5-ac96-4b42-9f9e-1e1ae257da0a"
      },
      "outputs": [
        {
          "output_type": "stream",
          "name": "stdout",
          "text": [
            "Epoch 1/300\n",
            "25/25 [==============================] - 1s 10ms/step - loss: 18.9552 - val_loss: 8.0024\n",
            "Epoch 2/300\n",
            "25/25 [==============================] - 0s 3ms/step - loss: 6.5964 - val_loss: 6.3200\n",
            "Epoch 3/300\n",
            "25/25 [==============================] - 0s 4ms/step - loss: 6.3203 - val_loss: 6.1248\n",
            "Epoch 4/300\n",
            "25/25 [==============================] - 0s 3ms/step - loss: 6.1977 - val_loss: 6.2390\n",
            "Epoch 5/300\n",
            "25/25 [==============================] - 0s 3ms/step - loss: 6.1758 - val_loss: 6.1781\n",
            "Epoch 6/300\n",
            "25/25 [==============================] - 0s 4ms/step - loss: 6.1778 - val_loss: 6.0845\n",
            "Epoch 7/300\n",
            "25/25 [==============================] - 0s 3ms/step - loss: 6.1326 - val_loss: 5.9063\n",
            "Epoch 8/300\n",
            "25/25 [==============================] - 0s 4ms/step - loss: 6.1606 - val_loss: 5.9973\n",
            "Epoch 9/300\n",
            "25/25 [==============================] - 0s 3ms/step - loss: 6.0813 - val_loss: 6.2451\n",
            "Epoch 10/300\n",
            "25/25 [==============================] - 0s 4ms/step - loss: 6.0997 - val_loss: 6.1123\n",
            "Epoch 11/300\n",
            "25/25 [==============================] - 0s 3ms/step - loss: 6.0594 - val_loss: 5.7955\n",
            "Epoch 12/300\n",
            "25/25 [==============================] - 0s 3ms/step - loss: 6.0284 - val_loss: 5.8613\n",
            "Epoch 13/300\n",
            "25/25 [==============================] - 0s 3ms/step - loss: 6.0184 - val_loss: 6.0137\n",
            "Epoch 14/300\n",
            "25/25 [==============================] - 0s 4ms/step - loss: 6.0006 - val_loss: 5.7875\n",
            "Epoch 15/300\n",
            "25/25 [==============================] - 0s 3ms/step - loss: 5.9556 - val_loss: 5.9693\n",
            "Epoch 16/300\n",
            "25/25 [==============================] - 0s 4ms/step - loss: 5.9610 - val_loss: 5.6771\n",
            "Epoch 17/300\n",
            "25/25 [==============================] - 0s 4ms/step - loss: 6.0548 - val_loss: 5.6716\n",
            "Epoch 18/300\n",
            "25/25 [==============================] - 0s 3ms/step - loss: 5.9579 - val_loss: 5.7233\n",
            "Epoch 19/300\n",
            "25/25 [==============================] - 0s 4ms/step - loss: 6.0087 - val_loss: 5.6676\n",
            "Epoch 20/300\n",
            "25/25 [==============================] - 0s 4ms/step - loss: 5.9531 - val_loss: 5.8440\n",
            "Epoch 21/300\n",
            "25/25 [==============================] - 0s 3ms/step - loss: 5.9097 - val_loss: 5.7191\n",
            "Epoch 22/300\n",
            "25/25 [==============================] - 0s 3ms/step - loss: 5.9053 - val_loss: 5.5618\n",
            "Epoch 23/300\n",
            "25/25 [==============================] - 0s 3ms/step - loss: 5.8993 - val_loss: 5.6205\n",
            "Epoch 24/300\n",
            "25/25 [==============================] - 0s 3ms/step - loss: 5.9200 - val_loss: 5.5790\n",
            "Epoch 25/300\n",
            "25/25 [==============================] - 0s 4ms/step - loss: 5.8402 - val_loss: 5.4012\n",
            "Epoch 26/300\n",
            "25/25 [==============================] - 0s 16ms/step - loss: 5.8965 - val_loss: 5.4678\n",
            "Epoch 27/300\n",
            "25/25 [==============================] - 0s 13ms/step - loss: 5.8618 - val_loss: 5.4802\n",
            "Epoch 28/300\n",
            "25/25 [==============================] - 0s 10ms/step - loss: 5.8127 - val_loss: 5.6891\n",
            "Epoch 29/300\n",
            "25/25 [==============================] - 0s 8ms/step - loss: 5.9207 - val_loss: 5.5781\n",
            "Epoch 30/300\n",
            "25/25 [==============================] - 0s 6ms/step - loss: 5.8760 - val_loss: 6.1138\n",
            "Epoch 31/300\n",
            "25/25 [==============================] - 0s 4ms/step - loss: 5.8816 - val_loss: 5.6278\n",
            "Epoch 32/300\n",
            "25/25 [==============================] - 0s 4ms/step - loss: 5.8502 - val_loss: 5.5254\n",
            "Epoch 33/300\n",
            "25/25 [==============================] - 0s 3ms/step - loss: 5.8377 - val_loss: 5.2832\n",
            "Epoch 34/300\n",
            "25/25 [==============================] - 0s 3ms/step - loss: 5.8975 - val_loss: 5.2268\n",
            "Epoch 35/300\n",
            "25/25 [==============================] - 0s 3ms/step - loss: 5.9331 - val_loss: 5.2822\n",
            "Epoch 36/300\n",
            "25/25 [==============================] - 0s 3ms/step - loss: 5.8862 - val_loss: 5.4587\n",
            "Epoch 37/300\n",
            "25/25 [==============================] - 0s 4ms/step - loss: 5.7883 - val_loss: 5.6326\n",
            "Epoch 38/300\n",
            "25/25 [==============================] - 0s 3ms/step - loss: 5.7832 - val_loss: 5.4935\n",
            "Epoch 39/300\n",
            "25/25 [==============================] - 0s 4ms/step - loss: 5.7529 - val_loss: 5.5765\n",
            "Epoch 40/300\n",
            "25/25 [==============================] - 0s 3ms/step - loss: 5.7664 - val_loss: 5.8541\n",
            "Epoch 41/300\n",
            "25/25 [==============================] - 0s 3ms/step - loss: 5.7858 - val_loss: 6.0221\n",
            "Epoch 42/300\n",
            "25/25 [==============================] - 0s 4ms/step - loss: 5.8282 - val_loss: 6.5111\n",
            "Epoch 43/300\n",
            "25/25 [==============================] - 0s 3ms/step - loss: 5.7711 - val_loss: 5.3347\n",
            "Epoch 44/300\n",
            "25/25 [==============================] - 0s 3ms/step - loss: 5.8449 - val_loss: 5.2464\n",
            "Epoch 45/300\n",
            "25/25 [==============================] - 0s 3ms/step - loss: 5.8333 - val_loss: 5.4701\n",
            "Epoch 46/300\n",
            "25/25 [==============================] - 0s 3ms/step - loss: 5.7509 - val_loss: 6.0463\n",
            "Epoch 47/300\n",
            "25/25 [==============================] - 0s 3ms/step - loss: 5.7557 - val_loss: 5.5162\n",
            "Epoch 48/300\n",
            "25/25 [==============================] - 0s 4ms/step - loss: 5.7282 - val_loss: 5.5228\n",
            "Epoch 49/300\n",
            "25/25 [==============================] - 0s 3ms/step - loss: 5.7883 - val_loss: 5.6984\n",
            "Epoch 50/300\n",
            "25/25 [==============================] - 0s 3ms/step - loss: 5.7697 - val_loss: 5.9806\n",
            "Epoch 51/300\n",
            "25/25 [==============================] - 0s 3ms/step - loss: 5.8187 - val_loss: 5.8722\n",
            "Epoch 52/300\n",
            "25/25 [==============================] - 0s 3ms/step - loss: 5.7389 - val_loss: 5.7294\n",
            "Epoch 53/300\n",
            "25/25 [==============================] - 0s 4ms/step - loss: 5.7639 - val_loss: 5.5081\n",
            "Epoch 54/300\n",
            "25/25 [==============================] - 0s 3ms/step - loss: 5.7268 - val_loss: 5.6420\n",
            "Epoch 55/300\n",
            "25/25 [==============================] - 0s 4ms/step - loss: 5.7135 - val_loss: 5.4132\n",
            "Epoch 56/300\n",
            "25/25 [==============================] - 0s 3ms/step - loss: 5.7521 - val_loss: 5.8125\n",
            "Epoch 57/300\n",
            "25/25 [==============================] - 0s 3ms/step - loss: 5.7069 - val_loss: 5.5764\n",
            "Epoch 58/300\n",
            "25/25 [==============================] - 0s 3ms/step - loss: 5.7186 - val_loss: 5.6594\n",
            "Epoch 59/300\n",
            "25/25 [==============================] - 0s 4ms/step - loss: 5.7309 - val_loss: 5.4010\n",
            "Epoch 60/300\n",
            "25/25 [==============================] - 0s 3ms/step - loss: 5.6898 - val_loss: 5.6128\n",
            "Epoch 61/300\n",
            "25/25 [==============================] - 0s 3ms/step - loss: 5.7086 - val_loss: 5.4660\n",
            "Epoch 62/300\n",
            "25/25 [==============================] - 0s 3ms/step - loss: 5.7012 - val_loss: 5.9236\n",
            "Epoch 63/300\n",
            "25/25 [==============================] - 0s 3ms/step - loss: 5.7134 - val_loss: 5.5860\n",
            "Epoch 64/300\n",
            "25/25 [==============================] - 0s 3ms/step - loss: 5.7221 - val_loss: 5.7275\n",
            "Epoch 65/300\n",
            "25/25 [==============================] - 0s 4ms/step - loss: 5.6870 - val_loss: 5.2371\n",
            "Epoch 66/300\n",
            "25/25 [==============================] - 0s 3ms/step - loss: 5.7619 - val_loss: 5.2222\n",
            "Epoch 67/300\n",
            "25/25 [==============================] - 0s 3ms/step - loss: 5.7158 - val_loss: 5.3027\n",
            "Epoch 68/300\n",
            "25/25 [==============================] - 0s 3ms/step - loss: 5.7296 - val_loss: 5.5946\n",
            "Epoch 69/300\n",
            "25/25 [==============================] - 0s 3ms/step - loss: 5.7152 - val_loss: 5.3942\n",
            "Epoch 70/300\n",
            "25/25 [==============================] - 0s 4ms/step - loss: 5.6848 - val_loss: 5.7310\n",
            "Epoch 71/300\n",
            "25/25 [==============================] - 0s 3ms/step - loss: 5.6916 - val_loss: 5.6499\n",
            "Epoch 72/300\n",
            "25/25 [==============================] - 0s 3ms/step - loss: 5.7335 - val_loss: 5.8617\n",
            "Epoch 73/300\n",
            "25/25 [==============================] - 0s 3ms/step - loss: 5.7056 - val_loss: 5.6436\n",
            "Epoch 74/300\n",
            "25/25 [==============================] - 0s 3ms/step - loss: 5.6557 - val_loss: 5.8270\n",
            "Epoch 75/300\n",
            "25/25 [==============================] - 0s 3ms/step - loss: 5.7100 - val_loss: 5.5826\n",
            "Epoch 76/300\n",
            "25/25 [==============================] - 0s 4ms/step - loss: 5.7003 - val_loss: 5.3393\n",
            "Epoch 77/300\n",
            "25/25 [==============================] - 0s 4ms/step - loss: 5.6625 - val_loss: 5.4566\n",
            "Epoch 78/300\n",
            "25/25 [==============================] - 0s 3ms/step - loss: 5.7076 - val_loss: 5.4349\n",
            "Epoch 79/300\n",
            "25/25 [==============================] - 0s 3ms/step - loss: 5.7154 - val_loss: 5.6398\n",
            "Epoch 80/300\n",
            "25/25 [==============================] - 0s 3ms/step - loss: 5.7993 - val_loss: 5.3962\n",
            "Epoch 81/300\n",
            "25/25 [==============================] - 0s 4ms/step - loss: 5.6726 - val_loss: 5.0898\n",
            "Epoch 82/300\n",
            "25/25 [==============================] - 0s 3ms/step - loss: 5.7067 - val_loss: 5.3719\n",
            "Epoch 83/300\n",
            "25/25 [==============================] - 0s 3ms/step - loss: 5.7029 - val_loss: 5.5564\n",
            "Epoch 84/300\n",
            "25/25 [==============================] - 0s 4ms/step - loss: 5.6649 - val_loss: 5.5130\n",
            "Epoch 85/300\n",
            "25/25 [==============================] - 0s 3ms/step - loss: 5.6895 - val_loss: 5.8273\n",
            "Epoch 86/300\n",
            "25/25 [==============================] - 0s 4ms/step - loss: 5.6778 - val_loss: 5.8006\n",
            "Epoch 87/300\n",
            "25/25 [==============================] - 0s 3ms/step - loss: 5.7974 - val_loss: 5.6721\n",
            "Epoch 88/300\n",
            "25/25 [==============================] - 0s 4ms/step - loss: 5.6894 - val_loss: 5.7378\n",
            "Epoch 89/300\n",
            "25/25 [==============================] - 0s 3ms/step - loss: 5.7573 - val_loss: 5.8329\n",
            "Epoch 90/300\n",
            "25/25 [==============================] - 0s 4ms/step - loss: 5.6893 - val_loss: 5.4613\n",
            "Epoch 91/300\n",
            "25/25 [==============================] - 0s 3ms/step - loss: 5.6687 - val_loss: 5.6360\n",
            "Epoch 92/300\n",
            "25/25 [==============================] - 0s 4ms/step - loss: 5.6417 - val_loss: 5.7950\n",
            "Epoch 93/300\n",
            "25/25 [==============================] - 0s 3ms/step - loss: 5.6602 - val_loss: 5.4175\n",
            "Epoch 94/300\n",
            "25/25 [==============================] - 0s 3ms/step - loss: 5.6179 - val_loss: 5.4348\n",
            "Epoch 95/300\n",
            "25/25 [==============================] - 0s 3ms/step - loss: 5.6220 - val_loss: 5.8252\n",
            "Epoch 96/300\n",
            "25/25 [==============================] - 0s 3ms/step - loss: 5.7165 - val_loss: 5.6590\n",
            "Epoch 97/300\n",
            "25/25 [==============================] - 0s 3ms/step - loss: 5.6194 - val_loss: 5.4613\n",
            "Epoch 98/300\n",
            "25/25 [==============================] - 0s 4ms/step - loss: 5.6085 - val_loss: 5.2750\n",
            "Epoch 99/300\n",
            "25/25 [==============================] - 0s 3ms/step - loss: 5.6853 - val_loss: 5.3836\n",
            "Epoch 100/300\n",
            "25/25 [==============================] - 0s 4ms/step - loss: 5.6026 - val_loss: 5.3424\n",
            "Epoch 101/300\n",
            "25/25 [==============================] - 0s 3ms/step - loss: 5.6191 - val_loss: 5.8177\n",
            "Epoch 102/300\n",
            "25/25 [==============================] - 0s 4ms/step - loss: 5.7318 - val_loss: 5.3876\n",
            "Epoch 103/300\n",
            "25/25 [==============================] - 0s 4ms/step - loss: 5.6480 - val_loss: 6.0859\n",
            "Epoch 104/300\n",
            "25/25 [==============================] - 0s 4ms/step - loss: 5.7187 - val_loss: 5.9599\n",
            "Epoch 105/300\n",
            "25/25 [==============================] - 0s 4ms/step - loss: 5.6970 - val_loss: 5.5097\n",
            "Epoch 106/300\n",
            "25/25 [==============================] - 0s 4ms/step - loss: 5.6669 - val_loss: 5.8051\n",
            "Epoch 107/300\n",
            "25/25 [==============================] - 0s 4ms/step - loss: 5.6075 - val_loss: 5.1170\n",
            "Epoch 108/300\n",
            "25/25 [==============================] - 0s 3ms/step - loss: 5.6172 - val_loss: 5.2881\n",
            "Epoch 109/300\n",
            "25/25 [==============================] - 0s 4ms/step - loss: 5.5914 - val_loss: 5.5009\n",
            "Epoch 110/300\n",
            "25/25 [==============================] - 0s 4ms/step - loss: 5.6512 - val_loss: 5.1611\n",
            "Epoch 111/300\n",
            "25/25 [==============================] - 0s 4ms/step - loss: 5.6207 - val_loss: 5.2871\n",
            "Epoch 112/300\n",
            "25/25 [==============================] - 0s 3ms/step - loss: 5.6172 - val_loss: 5.0299\n",
            "Epoch 113/300\n",
            "25/25 [==============================] - 0s 4ms/step - loss: 5.7499 - val_loss: 5.2626\n",
            "Epoch 114/300\n",
            "25/25 [==============================] - 0s 4ms/step - loss: 5.6426 - val_loss: 5.2974\n",
            "Epoch 115/300\n",
            "25/25 [==============================] - 0s 3ms/step - loss: 5.6329 - val_loss: 5.0809\n",
            "Epoch 116/300\n",
            "25/25 [==============================] - 0s 4ms/step - loss: 5.6477 - val_loss: 5.3729\n",
            "Epoch 117/300\n",
            "25/25 [==============================] - 0s 4ms/step - loss: 5.6097 - val_loss: 5.3741\n",
            "Epoch 118/300\n",
            "25/25 [==============================] - 0s 3ms/step - loss: 5.5912 - val_loss: 5.4872\n",
            "Epoch 119/300\n",
            "25/25 [==============================] - 0s 4ms/step - loss: 5.5858 - val_loss: 5.3959\n",
            "Epoch 120/300\n",
            "25/25 [==============================] - 0s 3ms/step - loss: 5.6098 - val_loss: 5.0389\n",
            "Epoch 121/300\n",
            "25/25 [==============================] - 0s 4ms/step - loss: 5.6363 - val_loss: 5.2220\n",
            "Epoch 122/300\n",
            "25/25 [==============================] - 0s 4ms/step - loss: 5.6056 - val_loss: 5.1943\n",
            "Epoch 123/300\n",
            "25/25 [==============================] - 0s 4ms/step - loss: 5.6157 - val_loss: 5.4654\n",
            "Epoch 124/300\n",
            "25/25 [==============================] - 0s 4ms/step - loss: 5.5695 - val_loss: 5.0861\n",
            "Epoch 125/300\n",
            "25/25 [==============================] - 0s 3ms/step - loss: 5.6108 - val_loss: 5.2694\n",
            "Epoch 126/300\n",
            "25/25 [==============================] - 0s 3ms/step - loss: 5.6375 - val_loss: 5.1378\n",
            "Epoch 127/300\n",
            "25/25 [==============================] - 0s 3ms/step - loss: 5.5691 - val_loss: 5.8253\n",
            "Epoch 128/300\n",
            "25/25 [==============================] - 0s 3ms/step - loss: 5.5970 - val_loss: 5.2708\n",
            "Epoch 129/300\n",
            "25/25 [==============================] - 0s 4ms/step - loss: 5.6069 - val_loss: 5.3718\n",
            "Epoch 130/300\n",
            "25/25 [==============================] - 0s 4ms/step - loss: 5.5732 - val_loss: 5.4421\n",
            "Epoch 131/300\n",
            "25/25 [==============================] - 0s 4ms/step - loss: 5.5713 - val_loss: 5.7213\n",
            "Epoch 132/300\n",
            "25/25 [==============================] - 0s 3ms/step - loss: 5.6282 - val_loss: 5.6817\n",
            "Epoch 133/300\n",
            "25/25 [==============================] - 0s 3ms/step - loss: 5.5866 - val_loss: 5.8224\n",
            "Epoch 134/300\n",
            "25/25 [==============================] - 0s 4ms/step - loss: 5.5563 - val_loss: 5.1845\n",
            "Epoch 135/300\n",
            "25/25 [==============================] - 0s 4ms/step - loss: 5.6150 - val_loss: 5.8849\n",
            "Epoch 136/300\n",
            "25/25 [==============================] - 0s 4ms/step - loss: 5.6010 - val_loss: 5.7591\n",
            "Epoch 137/300\n",
            "25/25 [==============================] - 0s 4ms/step - loss: 5.5666 - val_loss: 5.6202\n",
            "Epoch 138/300\n",
            "25/25 [==============================] - 0s 3ms/step - loss: 5.5778 - val_loss: 5.5010\n",
            "Epoch 139/300\n",
            "25/25 [==============================] - 0s 4ms/step - loss: 5.5859 - val_loss: 5.2923\n",
            "Epoch 140/300\n",
            "25/25 [==============================] - 0s 4ms/step - loss: 5.6149 - val_loss: 5.6822\n",
            "Epoch 141/300\n",
            "25/25 [==============================] - 0s 4ms/step - loss: 5.5537 - val_loss: 5.4710\n",
            "Epoch 142/300\n",
            "25/25 [==============================] - 0s 3ms/step - loss: 5.5562 - val_loss: 5.3677\n",
            "Epoch 143/300\n",
            "25/25 [==============================] - 0s 3ms/step - loss: 5.5700 - val_loss: 5.6084\n",
            "Epoch 144/300\n",
            "25/25 [==============================] - 0s 4ms/step - loss: 5.5304 - val_loss: 5.3561\n",
            "Epoch 145/300\n",
            "25/25 [==============================] - 0s 3ms/step - loss: 5.5376 - val_loss: 5.4624\n",
            "Epoch 146/300\n",
            "25/25 [==============================] - 0s 4ms/step - loss: 5.5542 - val_loss: 5.5069\n",
            "Epoch 147/300\n",
            "25/25 [==============================] - 0s 4ms/step - loss: 5.5936 - val_loss: 6.0103\n",
            "Epoch 148/300\n",
            "25/25 [==============================] - 0s 3ms/step - loss: 5.5634 - val_loss: 5.5920\n",
            "Epoch 149/300\n",
            "25/25 [==============================] - 0s 3ms/step - loss: 5.5802 - val_loss: 5.3759\n",
            "Epoch 150/300\n",
            "25/25 [==============================] - 0s 3ms/step - loss: 5.6277 - val_loss: 5.4102\n",
            "Epoch 151/300\n",
            "25/25 [==============================] - 0s 3ms/step - loss: 5.6044 - val_loss: 5.0674\n",
            "Epoch 152/300\n",
            "25/25 [==============================] - 0s 4ms/step - loss: 5.5443 - val_loss: 5.3971\n",
            "Epoch 153/300\n",
            "25/25 [==============================] - 0s 4ms/step - loss: 5.5561 - val_loss: 5.3779\n",
            "Epoch 154/300\n",
            "25/25 [==============================] - 0s 3ms/step - loss: 5.5310 - val_loss: 5.1745\n",
            "Epoch 155/300\n",
            "25/25 [==============================] - 0s 4ms/step - loss: 5.5655 - val_loss: 5.1867\n",
            "Epoch 156/300\n",
            "25/25 [==============================] - 0s 3ms/step - loss: 5.7266 - val_loss: 5.1535\n",
            "Epoch 157/300\n",
            "25/25 [==============================] - 0s 3ms/step - loss: 5.6184 - val_loss: 5.2968\n",
            "Epoch 158/300\n",
            "25/25 [==============================] - 0s 3ms/step - loss: 5.5126 - val_loss: 5.6029\n",
            "Epoch 159/300\n",
            "25/25 [==============================] - 0s 4ms/step - loss: 5.5411 - val_loss: 5.1896\n",
            "Epoch 160/300\n",
            "25/25 [==============================] - 0s 4ms/step - loss: 5.5801 - val_loss: 5.3741\n",
            "Epoch 161/300\n",
            "25/25 [==============================] - 0s 4ms/step - loss: 5.5211 - val_loss: 5.4567\n",
            "Epoch 162/300\n",
            "25/25 [==============================] - 0s 3ms/step - loss: 5.5010 - val_loss: 5.1247\n",
            "Epoch 163/300\n",
            "25/25 [==============================] - 0s 3ms/step - loss: 5.5088 - val_loss: 5.2891\n",
            "Epoch 164/300\n",
            "25/25 [==============================] - 0s 4ms/step - loss: 5.5300 - val_loss: 5.6122\n",
            "Epoch 165/300\n",
            "25/25 [==============================] - 0s 4ms/step - loss: 5.5991 - val_loss: 5.8687\n",
            "Epoch 166/300\n",
            "25/25 [==============================] - 0s 3ms/step - loss: 5.5186 - val_loss: 5.2952\n",
            "Epoch 167/300\n",
            "25/25 [==============================] - 0s 4ms/step - loss: 5.4910 - val_loss: 5.4760\n",
            "Epoch 168/300\n",
            "25/25 [==============================] - 0s 4ms/step - loss: 5.5163 - val_loss: 5.1862\n",
            "Epoch 169/300\n",
            "25/25 [==============================] - 0s 3ms/step - loss: 5.5247 - val_loss: 5.2777\n",
            "Epoch 170/300\n",
            "25/25 [==============================] - 0s 4ms/step - loss: 5.5410 - val_loss: 5.3267\n",
            "Epoch 171/300\n",
            "25/25 [==============================] - 0s 4ms/step - loss: 5.5168 - val_loss: 5.0263\n",
            "Epoch 172/300\n",
            "25/25 [==============================] - 0s 4ms/step - loss: 5.4836 - val_loss: 5.2200\n",
            "Epoch 173/300\n",
            "25/25 [==============================] - 0s 4ms/step - loss: 5.5403 - val_loss: 5.7798\n",
            "Epoch 174/300\n",
            "25/25 [==============================] - 0s 4ms/step - loss: 5.5666 - val_loss: 5.3471\n",
            "Epoch 175/300\n",
            "25/25 [==============================] - 0s 4ms/step - loss: 5.4851 - val_loss: 5.3068\n",
            "Epoch 176/300\n",
            "25/25 [==============================] - 0s 4ms/step - loss: 5.4836 - val_loss: 5.7832\n",
            "Epoch 177/300\n",
            "25/25 [==============================] - 0s 3ms/step - loss: 5.5180 - val_loss: 5.6116\n",
            "Epoch 178/300\n",
            "25/25 [==============================] - 0s 3ms/step - loss: 5.4920 - val_loss: 5.3129\n",
            "Epoch 179/300\n",
            "25/25 [==============================] - 0s 4ms/step - loss: 5.4532 - val_loss: 5.0912\n",
            "Epoch 180/300\n",
            "25/25 [==============================] - 0s 4ms/step - loss: 5.4771 - val_loss: 4.9805\n",
            "Epoch 181/300\n",
            "25/25 [==============================] - 0s 3ms/step - loss: 5.6291 - val_loss: 5.1858\n",
            "Epoch 182/300\n",
            "25/25 [==============================] - 0s 3ms/step - loss: 5.5102 - val_loss: 5.9452\n",
            "Epoch 183/300\n",
            "25/25 [==============================] - 0s 4ms/step - loss: 5.5572 - val_loss: 5.3061\n",
            "Epoch 184/300\n",
            "25/25 [==============================] - 0s 3ms/step - loss: 5.5493 - val_loss: 5.7902\n",
            "Epoch 185/300\n",
            "25/25 [==============================] - 0s 5ms/step - loss: 5.4869 - val_loss: 5.5111\n",
            "Epoch 186/300\n",
            "25/25 [==============================] - 0s 4ms/step - loss: 5.4939 - val_loss: 5.4973\n",
            "Epoch 187/300\n",
            "25/25 [==============================] - 0s 3ms/step - loss: 5.4872 - val_loss: 5.1408\n",
            "Epoch 188/300\n",
            "25/25 [==============================] - 0s 4ms/step - loss: 5.5144 - val_loss: 5.0782\n",
            "Epoch 189/300\n",
            "25/25 [==============================] - 0s 4ms/step - loss: 5.5261 - val_loss: 5.1727\n",
            "Epoch 190/300\n",
            "25/25 [==============================] - 0s 4ms/step - loss: 5.4997 - val_loss: 5.0659\n",
            "Epoch 191/300\n",
            "25/25 [==============================] - 0s 4ms/step - loss: 5.4720 - val_loss: 5.1757\n",
            "Epoch 192/300\n",
            "25/25 [==============================] - 0s 4ms/step - loss: 5.4446 - val_loss: 5.4632\n",
            "Epoch 193/300\n",
            "25/25 [==============================] - 0s 4ms/step - loss: 5.4839 - val_loss: 5.3795\n",
            "Epoch 194/300\n",
            "25/25 [==============================] - 0s 3ms/step - loss: 5.4513 - val_loss: 5.0600\n",
            "Epoch 195/300\n",
            "25/25 [==============================] - 0s 4ms/step - loss: 5.5176 - val_loss: 5.0574\n",
            "Epoch 196/300\n",
            "25/25 [==============================] - 0s 3ms/step - loss: 5.4795 - val_loss: 5.4737\n",
            "Epoch 197/300\n",
            "25/25 [==============================] - 0s 4ms/step - loss: 5.4806 - val_loss: 5.5904\n",
            "Epoch 198/300\n",
            "25/25 [==============================] - 0s 3ms/step - loss: 5.5635 - val_loss: 5.3903\n",
            "Epoch 199/300\n",
            "25/25 [==============================] - 0s 3ms/step - loss: 5.4257 - val_loss: 5.1646\n",
            "Epoch 200/300\n",
            "25/25 [==============================] - 0s 3ms/step - loss: 5.4229 - val_loss: 4.9794\n",
            "Epoch 201/300\n",
            "25/25 [==============================] - 0s 4ms/step - loss: 5.4796 - val_loss: 5.0535\n",
            "Epoch 202/300\n",
            "25/25 [==============================] - 0s 3ms/step - loss: 5.4580 - val_loss: 4.9511\n",
            "Epoch 203/300\n",
            "25/25 [==============================] - 0s 4ms/step - loss: 5.4587 - val_loss: 4.9928\n",
            "Epoch 204/300\n",
            "25/25 [==============================] - 0s 4ms/step - loss: 5.4150 - val_loss: 5.7797\n",
            "Epoch 205/300\n",
            "25/25 [==============================] - 0s 3ms/step - loss: 5.4750 - val_loss: 5.2921\n",
            "Epoch 206/300\n",
            "25/25 [==============================] - 0s 4ms/step - loss: 5.4778 - val_loss: 5.1852\n",
            "Epoch 207/300\n",
            "25/25 [==============================] - 0s 4ms/step - loss: 5.4137 - val_loss: 5.3695\n",
            "Epoch 208/300\n",
            "25/25 [==============================] - 0s 4ms/step - loss: 5.4278 - val_loss: 5.2270\n",
            "Epoch 209/300\n",
            "25/25 [==============================] - 0s 3ms/step - loss: 5.4089 - val_loss: 5.3765\n",
            "Epoch 210/300\n",
            "25/25 [==============================] - 0s 4ms/step - loss: 5.4006 - val_loss: 5.5371\n",
            "Epoch 211/300\n",
            "25/25 [==============================] - 0s 3ms/step - loss: 5.4472 - val_loss: 5.0826\n",
            "Epoch 212/300\n",
            "25/25 [==============================] - 0s 4ms/step - loss: 5.4631 - val_loss: 5.1876\n",
            "Epoch 213/300\n",
            "25/25 [==============================] - 0s 4ms/step - loss: 5.4672 - val_loss: 5.1177\n",
            "Epoch 214/300\n",
            "25/25 [==============================] - 0s 4ms/step - loss: 5.4129 - val_loss: 5.3206\n",
            "Epoch 215/300\n",
            "25/25 [==============================] - 0s 4ms/step - loss: 5.4010 - val_loss: 5.1426\n",
            "Epoch 216/300\n",
            "25/25 [==============================] - 0s 4ms/step - loss: 5.3915 - val_loss: 5.3049\n",
            "Epoch 217/300\n",
            "25/25 [==============================] - 0s 4ms/step - loss: 5.3833 - val_loss: 5.3066\n",
            "Epoch 218/300\n",
            "25/25 [==============================] - 0s 3ms/step - loss: 5.4158 - val_loss: 5.1891\n",
            "Epoch 219/300\n",
            "25/25 [==============================] - 0s 4ms/step - loss: 5.4153 - val_loss: 5.1751\n",
            "Epoch 220/300\n",
            "25/25 [==============================] - 0s 4ms/step - loss: 5.3794 - val_loss: 5.8750\n",
            "Epoch 221/300\n",
            "25/25 [==============================] - 0s 3ms/step - loss: 5.4637 - val_loss: 5.1254\n",
            "Epoch 222/300\n",
            "25/25 [==============================] - 0s 3ms/step - loss: 5.4231 - val_loss: 5.3886\n",
            "Epoch 223/300\n",
            "25/25 [==============================] - 0s 4ms/step - loss: 5.4053 - val_loss: 5.5299\n",
            "Epoch 224/300\n",
            "25/25 [==============================] - 0s 4ms/step - loss: 5.5096 - val_loss: 5.3412\n",
            "Epoch 225/300\n",
            "25/25 [==============================] - 0s 4ms/step - loss: 5.4343 - val_loss: 5.2039\n",
            "Epoch 226/300\n",
            "25/25 [==============================] - 0s 3ms/step - loss: 5.4033 - val_loss: 5.3407\n",
            "Epoch 227/300\n",
            "25/25 [==============================] - 0s 4ms/step - loss: 5.4234 - val_loss: 5.2962\n",
            "Epoch 228/300\n",
            "25/25 [==============================] - 0s 4ms/step - loss: 5.4152 - val_loss: 5.6879\n",
            "Epoch 229/300\n",
            "25/25 [==============================] - 0s 4ms/step - loss: 5.4741 - val_loss: 5.5270\n",
            "Epoch 230/300\n",
            "25/25 [==============================] - 0s 4ms/step - loss: 5.4108 - val_loss: 4.8701\n",
            "Epoch 231/300\n",
            "25/25 [==============================] - 0s 4ms/step - loss: 5.4565 - val_loss: 5.0726\n",
            "Epoch 232/300\n",
            "25/25 [==============================] - 0s 3ms/step - loss: 5.3560 - val_loss: 4.9565\n",
            "Epoch 233/300\n",
            "25/25 [==============================] - 0s 4ms/step - loss: 5.3861 - val_loss: 5.1566\n",
            "Epoch 234/300\n",
            "25/25 [==============================] - 0s 4ms/step - loss: 5.3785 - val_loss: 5.1576\n",
            "Epoch 235/300\n",
            "25/25 [==============================] - 0s 4ms/step - loss: 5.4216 - val_loss: 5.2042\n",
            "Epoch 236/300\n",
            "25/25 [==============================] - 0s 4ms/step - loss: 5.4029 - val_loss: 5.3786\n",
            "Epoch 237/300\n",
            "25/25 [==============================] - 0s 4ms/step - loss: 5.3878 - val_loss: 5.0732\n",
            "Epoch 238/300\n",
            "25/25 [==============================] - 0s 3ms/step - loss: 5.3371 - val_loss: 5.2706\n",
            "Epoch 239/300\n",
            "25/25 [==============================] - 0s 3ms/step - loss: 5.3484 - val_loss: 5.1926\n",
            "Epoch 240/300\n",
            "25/25 [==============================] - 0s 4ms/step - loss: 5.3835 - val_loss: 4.7744\n",
            "Epoch 241/300\n",
            "25/25 [==============================] - 0s 4ms/step - loss: 5.3828 - val_loss: 4.9800\n",
            "Epoch 242/300\n",
            "25/25 [==============================] - 0s 4ms/step - loss: 5.3763 - val_loss: 4.9219\n",
            "Epoch 243/300\n",
            "25/25 [==============================] - 0s 4ms/step - loss: 5.3697 - val_loss: 4.9720\n",
            "Epoch 244/300\n",
            "25/25 [==============================] - 0s 4ms/step - loss: 5.4330 - val_loss: 5.2918\n",
            "Epoch 245/300\n",
            "25/25 [==============================] - 0s 3ms/step - loss: 5.3248 - val_loss: 5.6915\n",
            "Epoch 246/300\n",
            "25/25 [==============================] - 0s 4ms/step - loss: 5.3705 - val_loss: 5.1928\n",
            "Epoch 247/300\n",
            "25/25 [==============================] - 0s 4ms/step - loss: 5.3126 - val_loss: 4.9492\n",
            "Epoch 248/300\n",
            "25/25 [==============================] - 0s 4ms/step - loss: 5.3551 - val_loss: 5.1814\n",
            "Epoch 249/300\n",
            "25/25 [==============================] - 0s 4ms/step - loss: 5.4270 - val_loss: 4.9716\n",
            "Epoch 250/300\n",
            "25/25 [==============================] - 0s 3ms/step - loss: 5.3750 - val_loss: 4.9262\n",
            "Epoch 251/300\n",
            "25/25 [==============================] - 0s 3ms/step - loss: 5.3204 - val_loss: 5.2756\n",
            "Epoch 252/300\n",
            "25/25 [==============================] - 0s 3ms/step - loss: 5.3551 - val_loss: 5.0503\n",
            "Epoch 253/300\n",
            "25/25 [==============================] - 0s 4ms/step - loss: 5.3208 - val_loss: 5.2653\n",
            "Epoch 254/300\n",
            "25/25 [==============================] - 0s 4ms/step - loss: 5.3326 - val_loss: 4.9252\n",
            "Epoch 255/300\n",
            "25/25 [==============================] - 0s 4ms/step - loss: 5.3727 - val_loss: 5.0579\n",
            "Epoch 256/300\n",
            "25/25 [==============================] - 0s 4ms/step - loss: 5.3970 - val_loss: 5.4966\n",
            "Epoch 257/300\n",
            "25/25 [==============================] - 0s 5ms/step - loss: 5.3171 - val_loss: 4.9859\n",
            "Epoch 258/300\n",
            "25/25 [==============================] - 0s 4ms/step - loss: 5.3392 - val_loss: 5.0142\n",
            "Epoch 259/300\n",
            "25/25 [==============================] - 0s 4ms/step - loss: 5.3503 - val_loss: 5.4981\n",
            "Epoch 260/300\n",
            "25/25 [==============================] - 0s 4ms/step - loss: 5.3430 - val_loss: 5.5010\n",
            "Epoch 261/300\n",
            "25/25 [==============================] - 0s 4ms/step - loss: 5.3094 - val_loss: 5.1683\n",
            "Epoch 262/300\n",
            "25/25 [==============================] - 0s 4ms/step - loss: 5.3091 - val_loss: 5.1732\n",
            "Epoch 263/300\n",
            "25/25 [==============================] - 0s 4ms/step - loss: 5.3387 - val_loss: 5.6929\n",
            "Epoch 264/300\n",
            "25/25 [==============================] - 0s 4ms/step - loss: 5.3742 - val_loss: 5.9255\n",
            "Epoch 265/300\n",
            "25/25 [==============================] - 0s 4ms/step - loss: 5.3717 - val_loss: 4.9593\n",
            "Epoch 266/300\n",
            "25/25 [==============================] - 0s 4ms/step - loss: 5.3897 - val_loss: 4.8770\n",
            "Epoch 267/300\n",
            "25/25 [==============================] - 0s 4ms/step - loss: 5.3768 - val_loss: 5.1556\n",
            "Epoch 268/300\n",
            "25/25 [==============================] - 0s 4ms/step - loss: 5.3093 - val_loss: 4.9436\n",
            "Epoch 269/300\n",
            "25/25 [==============================] - 0s 3ms/step - loss: 5.4401 - val_loss: 5.3753\n",
            "Epoch 270/300\n",
            "25/25 [==============================] - 0s 4ms/step - loss: 5.3064 - val_loss: 5.1410\n",
            "Epoch 271/300\n",
            "25/25 [==============================] - 0s 4ms/step - loss: 5.2672 - val_loss: 4.9007\n",
            "Epoch 272/300\n",
            "25/25 [==============================] - 0s 4ms/step - loss: 5.2867 - val_loss: 5.8334\n",
            "Epoch 273/300\n",
            "25/25 [==============================] - 0s 4ms/step - loss: 5.2912 - val_loss: 4.9578\n",
            "Epoch 274/300\n",
            "25/25 [==============================] - 0s 4ms/step - loss: 5.2664 - val_loss: 4.9367\n",
            "Epoch 275/300\n",
            "25/25 [==============================] - 0s 3ms/step - loss: 5.2572 - val_loss: 5.2350\n",
            "Epoch 276/300\n",
            "25/25 [==============================] - 0s 4ms/step - loss: 5.2513 - val_loss: 5.3210\n",
            "Epoch 277/300\n",
            "25/25 [==============================] - 0s 4ms/step - loss: 5.3266 - val_loss: 5.3251\n",
            "Epoch 278/300\n",
            "25/25 [==============================] - 0s 4ms/step - loss: 5.2967 - val_loss: 4.9534\n",
            "Epoch 279/300\n",
            "25/25 [==============================] - 0s 4ms/step - loss: 5.2556 - val_loss: 5.0917\n",
            "Epoch 280/300\n",
            "25/25 [==============================] - 0s 10ms/step - loss: 5.2971 - val_loss: 4.8543\n",
            "Epoch 281/300\n",
            "25/25 [==============================] - 0s 14ms/step - loss: 5.3083 - val_loss: 5.1237\n",
            "Epoch 282/300\n",
            "25/25 [==============================] - 0s 14ms/step - loss: 5.2526 - val_loss: 5.0391\n",
            "Epoch 283/300\n",
            "25/25 [==============================] - 0s 13ms/step - loss: 5.2922 - val_loss: 4.8705\n",
            "Epoch 284/300\n",
            "25/25 [==============================] - 0s 5ms/step - loss: 5.2685 - val_loss: 4.9406\n",
            "Epoch 285/300\n",
            "25/25 [==============================] - 0s 4ms/step - loss: 5.2337 - val_loss: 4.8656\n",
            "Epoch 286/300\n",
            "25/25 [==============================] - 0s 4ms/step - loss: 5.2279 - val_loss: 5.0250\n",
            "Epoch 287/300\n",
            "25/25 [==============================] - 0s 3ms/step - loss: 5.4024 - val_loss: 4.8024\n",
            "Epoch 288/300\n",
            "25/25 [==============================] - 0s 16ms/step - loss: 5.4859 - val_loss: 4.9224\n",
            "Epoch 289/300\n",
            "25/25 [==============================] - 0s 14ms/step - loss: 5.2882 - val_loss: 4.7340\n",
            "Epoch 290/300\n",
            "25/25 [==============================] - 0s 13ms/step - loss: 5.2618 - val_loss: 5.0909\n",
            "Epoch 291/300\n",
            "25/25 [==============================] - 0s 8ms/step - loss: 5.2769 - val_loss: 5.0721\n",
            "Epoch 292/300\n",
            "25/25 [==============================] - 0s 3ms/step - loss: 5.2764 - val_loss: 5.5616\n",
            "Epoch 293/300\n",
            "25/25 [==============================] - 0s 4ms/step - loss: 5.2628 - val_loss: 5.0316\n",
            "Epoch 294/300\n",
            "25/25 [==============================] - 0s 4ms/step - loss: 5.1922 - val_loss: 4.9255\n",
            "Epoch 295/300\n",
            "25/25 [==============================] - 0s 4ms/step - loss: 5.2174 - val_loss: 4.9467\n",
            "Epoch 296/300\n",
            "25/25 [==============================] - 0s 4ms/step - loss: 5.2276 - val_loss: 4.9576\n",
            "Epoch 297/300\n",
            "25/25 [==============================] - 0s 3ms/step - loss: 5.1884 - val_loss: 4.6155\n",
            "Epoch 298/300\n",
            "25/25 [==============================] - 0s 4ms/step - loss: 5.2794 - val_loss: 5.0242\n",
            "Epoch 299/300\n",
            "25/25 [==============================] - 0s 4ms/step - loss: 5.2073 - val_loss: 4.8949\n",
            "Epoch 300/300\n",
            "25/25 [==============================] - 0s 4ms/step - loss: 5.2211 - val_loss: 4.7249\n"
          ]
        }
      ],
      "source": [
        "#Train model\n",
        "history = model.fit(X_train, y_train, batch_size=32,epochs=300, verbose=1, validation_data = (X_test,y_test))"
      ]
    },
    {
      "cell_type": "markdown",
      "metadata": {
        "id": "X6B0pEN0EYwg"
      },
      "source": [
        "##Evaluate for the test set"
      ]
    },
    {
      "cell_type": "code",
      "execution_count": 43,
      "metadata": {
        "id": "kejZ8WeMmUEO",
        "colab": {
          "base_uri": "https://localhost:8080/"
        },
        "outputId": "b8a52f97-c7f7-46f2-c9fd-627d46ca7db1"
      },
      "outputs": [
        {
          "output_type": "stream",
          "name": "stdout",
          "text": [
            "7/7 [==============================] - 0s 2ms/step\n"
          ]
        }
      ],
      "source": [
        "#Predict for Test set\n",
        "ypred = model.predict(X_test)"
      ]
    },
    {
      "cell_type": "code",
      "execution_count": 44,
      "metadata": {
        "id": "pga569npmqyn",
        "colab": {
          "base_uri": "https://localhost:8080/"
        },
        "outputId": "81c3ef34-2626-454d-8f5f-10f0e6274348"
      },
      "outputs": [
        {
          "output_type": "execute_result",
          "data": {
            "text/plain": [
              "3.5217706298828118"
            ]
          },
          "metadata": {},
          "execution_count": 44
        }
      ],
      "source": [
        "#Median absolute error for the CNN\n",
        "median_absolute_error(y_test, ypred)"
      ]
    },
    {
      "cell_type": "code",
      "execution_count": 45,
      "metadata": {
        "id": "ypF7qIsFmtK3",
        "colab": {
          "base_uri": "https://localhost:8080/"
        },
        "outputId": "f9fcf9b7-dc77-4821-bd43-74802c272b3a"
      },
      "outputs": [
        {
          "output_type": "execute_result",
          "data": {
            "text/plain": [
              "4.724883182144165"
            ]
          },
          "metadata": {},
          "execution_count": 45
        }
      ],
      "source": [
        "#Nean absolute error for the CNN\n",
        "mean_absolute_error(y_test, ypred)"
      ]
    },
    {
      "cell_type": "markdown",
      "metadata": {
        "id": "b4cPOtLG1Dzc"
      },
      "source": [
        "#Federated learning with GCN"
      ]
    },
    {
      "cell_type": "markdown",
      "metadata": {
        "id": "b-3qYyOarw49"
      },
      "source": [
        "Reference[2] : https://towardsdatascience.com/preserving-data-privacy-in-deep-learning-part-1-a04894f78029"
      ]
    },
    {
      "cell_type": "markdown",
      "metadata": {
        "id": "on-saKIrE1az"
      },
      "source": [
        "##Prepare dataset for each client"
      ]
    },
    {
      "cell_type": "code",
      "execution_count": 46,
      "metadata": {
        "id": "1e-Nl80JZe8Y"
      },
      "outputs": [],
      "source": [
        "#Create multiple train_loader for different clients\n",
        "for i in range(0, 6):\n",
        "\n",
        "  ran = random.randint(0,175)\n",
        "  globals()['train_data_'+str(i)] = data_list[ran:ran+25]\n"
      ]
    },
    {
      "cell_type": "code",
      "execution_count": 47,
      "metadata": {
        "id": "g0st3NYrZbKN",
        "colab": {
          "base_uri": "https://localhost:8080/"
        },
        "outputId": "84bc60ff-6f5a-428c-8237-3904d95c3829"
      },
      "outputs": [
        {
          "output_type": "stream",
          "name": "stderr",
          "text": [
            "/usr/local/lib/python3.7/dist-packages/torch_geometric/deprecation.py:12: UserWarning: 'data.DataLoader' is deprecated, use 'loader.DataLoader' instead\n",
            "  warnings.warn(out)\n"
          ]
        }
      ],
      "source": [
        "for i in range(0,6):\n",
        "\n",
        "  globals()['train_loader_'+str(i)] = DataLoader((globals()['train_data_'+str(i)]), batch_size=10, shuffle=False)"
      ]
    },
    {
      "cell_type": "markdown",
      "metadata": {
        "id": "dBe7o0PqGG6E"
      },
      "source": [
        "##Initialise FL parameters"
      ]
    },
    {
      "cell_type": "code",
      "execution_count": 48,
      "metadata": {
        "id": "1_WdRwvU1OWL"
      },
      "outputs": [],
      "source": [
        "#FL parameters\n",
        "num_clients = 10\n",
        "num_selected = 6\n",
        "num_rounds = 150\n",
        "epochs = 50\n",
        "batch_size = 10"
      ]
    },
    {
      "cell_type": "markdown",
      "metadata": {
        "id": "kqQPRZ7PGe06"
      },
      "source": [
        "##Initialise Global model"
      ]
    },
    {
      "cell_type": "code",
      "execution_count": 49,
      "metadata": {
        "id": "EqbBo35v1V2D"
      },
      "outputs": [],
      "source": [
        "#GCN Architecture\n",
        "class GCN(torch.nn.Module):\n",
        "    def __init__(self, hidden_channels):\n",
        "        super(GCN, self).__init__()\n",
        "        torch.manual_seed(12345)\n",
        "        \n",
        "        self.linear2 = torch.nn.Linear(2, 512)\n",
        "        self.conv2 = GCNConv(512,256)\n",
        "        self.conv3 = GCNConv(256,128)\n",
        "\n",
        "        self.conv4 = GCNConv(128,64)\n",
        "\n",
        "        \n",
        "        \n",
        "        self.linear1 = torch.nn.Linear(64,1)\n",
        "        #self.linear3 = torch.nn.Linear(32,1)\n",
        "    def forward(self, x, edge_index):\n",
        "       \n",
        "        x = self.linear2(x)\n",
        "        x = x.relu()\n",
        "        \n",
        "        x = F.dropout(x, p=0.5, training=self.training)\n",
        "        \n",
        "        x = self.conv2(x, edge_index)\n",
        "        x = x.relu()\n",
        "\n",
        "               \n",
        "        x = self.conv3(x, edge_index)\n",
        "        x = x.relu()\n",
        "        \n",
        "        x = self.conv4(x, edge_index)\n",
        "        x = x.relu()\n",
        "        \n",
        "\n",
        "        x = self.linear1(x)\n",
        "        x = x.relu()\n",
        "\n",
        "        \n",
        "\n",
        "\n",
        "        \n",
        "               \n",
        "        return x"
      ]
    },
    {
      "cell_type": "markdown",
      "metadata": {
        "id": "l7KRk4brGlNx"
      },
      "source": [
        "##Train model"
      ]
    },
    {
      "cell_type": "code",
      "execution_count": 50,
      "metadata": {
        "id": "4PaCuj1o13vO"
      },
      "outputs": [],
      "source": [
        "#Train client model on client data\n",
        "def client_update(client_model, optimizer, train_loader, epoch):\n",
        "    \"\"\"\n",
        "    This function updates/trains client model on client data\n",
        "    \"\"\"\n",
        "    model.train()\n",
        "    for e in range(epoch):\n",
        "        for data in train_loader:\n",
        "          total_loss = 0\n",
        "          opt.zero_grad()\n",
        "          data.x = data.x.to(device, dtype = torch.float)\n",
        "          data.y = data.y.to(device, dtype = torch.float)\n",
        "          pred = model(data.x, data.edge_index)\n",
        "          loss = F.mse_loss(pred.squeeze(), data.y.squeeze())\n",
        "          #total_loss += loss.item() * data.num_graphs\n",
        "    \n",
        "          loss.backward()\n",
        "          opt.step()\n",
        "    return loss.item()"
      ]
    },
    {
      "cell_type": "code",
      "execution_count": 51,
      "metadata": {
        "id": "91I9AvVO4LvZ"
      },
      "outputs": [],
      "source": [
        "#Fedaveraging\n",
        "def server_aggregate(global_model, client_models):\n",
        "    \"\"\"\n",
        "    This function has aggregation method 'mean'\n",
        "    \"\"\"\n",
        "    ### This will take simple mean of the weights of models ###\n",
        "    global_dict = global_model.state_dict()\n",
        "    for k in global_dict.keys():\n",
        "      global_dict[k] = torch.stack([client_models[i].state_dict()[k].float() for i in range(len(client_models))], 0).mean(0)\n",
        "      global_model.load_state_dict(global_dict)\n",
        "    for model in client_models:\n",
        "      model.load_state_dict(global_model.state_dict())"
      ]
    },
    {
      "cell_type": "code",
      "execution_count": 52,
      "metadata": {
        "id": "wpKgCQpP1-0d"
      },
      "outputs": [],
      "source": [
        "#Define global model\n",
        "device = torch.device('cuda' if torch.cuda.is_available() else 'cpu')\n",
        "global_model = GCN(256).to(device)"
      ]
    },
    {
      "cell_type": "code",
      "execution_count": 53,
      "metadata": {
        "id": "ussNjEzn5Af6"
      },
      "outputs": [],
      "source": [
        "#Define client model as an object of the global model\n",
        "client_models = [ global_model for _ in range(num_selected)]"
      ]
    },
    {
      "cell_type": "code",
      "execution_count": 54,
      "metadata": {
        "id": "2f-n9oAv5Rka"
      },
      "outputs": [],
      "source": [
        "#Initialise weight parameters\n",
        "for model in client_models:\n",
        "    model.load_state_dict(global_model.state_dict())"
      ]
    },
    {
      "cell_type": "code",
      "execution_count": 55,
      "metadata": {
        "id": "hO3nX_QZ5o7y"
      },
      "outputs": [],
      "source": [
        "#Define optimiser\n",
        "opt = torch.optim.Adam(model.parameters(), lr=0.001)"
      ]
    },
    {
      "cell_type": "code",
      "execution_count": null,
      "metadata": {
        "id": "fSHUSaDM698F",
        "colab": {
          "base_uri": "https://localhost:8080/"
        },
        "outputId": "59a3fac6-7b57-4195-ae57-0e0047d9202b"
      },
      "outputs": [
        {
          "output_type": "stream",
          "name": "stdout",
          "text": [
            "Round 0\n"
          ]
        },
        {
          "output_type": "stream",
          "name": "stderr",
          "text": [
            "100%|██████████| 6/6 [00:03<00:00,  1.54it/s]\n"
          ]
        },
        {
          "output_type": "stream",
          "name": "stdout",
          "text": [
            "Round 1\n"
          ]
        },
        {
          "output_type": "stream",
          "name": "stderr",
          "text": [
            "100%|██████████| 6/6 [00:04<00:00,  1.25it/s]\n"
          ]
        },
        {
          "output_type": "stream",
          "name": "stdout",
          "text": [
            "Round 2\n"
          ]
        },
        {
          "output_type": "stream",
          "name": "stderr",
          "text": [
            "100%|██████████| 6/6 [00:04<00:00,  1.21it/s]\n"
          ]
        },
        {
          "output_type": "stream",
          "name": "stdout",
          "text": [
            "Round 3\n"
          ]
        },
        {
          "output_type": "stream",
          "name": "stderr",
          "text": [
            "100%|██████████| 6/6 [00:05<00:00,  1.19it/s]\n"
          ]
        },
        {
          "output_type": "stream",
          "name": "stdout",
          "text": [
            "Round 4\n"
          ]
        },
        {
          "output_type": "stream",
          "name": "stderr",
          "text": [
            "100%|██████████| 6/6 [00:05<00:00,  1.14it/s]\n"
          ]
        },
        {
          "output_type": "stream",
          "name": "stdout",
          "text": [
            "Round 5\n"
          ]
        },
        {
          "output_type": "stream",
          "name": "stderr",
          "text": [
            "100%|██████████| 6/6 [00:05<00:00,  1.11it/s]\n"
          ]
        },
        {
          "output_type": "stream",
          "name": "stdout",
          "text": [
            "Round 6\n"
          ]
        },
        {
          "output_type": "stream",
          "name": "stderr",
          "text": [
            "100%|██████████| 6/6 [00:05<00:00,  1.13it/s]\n"
          ]
        },
        {
          "output_type": "stream",
          "name": "stdout",
          "text": [
            "Round 7\n"
          ]
        },
        {
          "output_type": "stream",
          "name": "stderr",
          "text": [
            "100%|██████████| 6/6 [00:05<00:00,  1.10it/s]\n"
          ]
        },
        {
          "output_type": "stream",
          "name": "stdout",
          "text": [
            "Round 8\n"
          ]
        },
        {
          "output_type": "stream",
          "name": "stderr",
          "text": [
            "100%|██████████| 6/6 [00:05<00:00,  1.03it/s]\n"
          ]
        },
        {
          "output_type": "stream",
          "name": "stdout",
          "text": [
            "Round 9\n"
          ]
        },
        {
          "output_type": "stream",
          "name": "stderr",
          "text": [
            "100%|██████████| 6/6 [00:06<00:00,  1.05s/it]\n"
          ]
        },
        {
          "output_type": "stream",
          "name": "stdout",
          "text": [
            "Round 10\n"
          ]
        },
        {
          "output_type": "stream",
          "name": "stderr",
          "text": [
            "100%|██████████| 6/6 [00:05<00:00,  1.01it/s]\n"
          ]
        },
        {
          "output_type": "stream",
          "name": "stdout",
          "text": [
            "Round 11\n"
          ]
        },
        {
          "output_type": "stream",
          "name": "stderr",
          "text": [
            "100%|██████████| 6/6 [00:05<00:00,  1.04it/s]\n"
          ]
        },
        {
          "output_type": "stream",
          "name": "stdout",
          "text": [
            "Round 12\n"
          ]
        },
        {
          "output_type": "stream",
          "name": "stderr",
          "text": [
            "100%|██████████| 6/6 [00:05<00:00,  1.03it/s]\n"
          ]
        },
        {
          "output_type": "stream",
          "name": "stdout",
          "text": [
            "Round 13\n"
          ]
        },
        {
          "output_type": "stream",
          "name": "stderr",
          "text": [
            "100%|██████████| 6/6 [00:05<00:00,  1.06it/s]\n"
          ]
        },
        {
          "output_type": "stream",
          "name": "stdout",
          "text": [
            "Round 14\n"
          ]
        },
        {
          "output_type": "stream",
          "name": "stderr",
          "text": [
            "100%|██████████| 6/6 [00:05<00:00,  1.07it/s]\n"
          ]
        },
        {
          "output_type": "stream",
          "name": "stdout",
          "text": [
            "Round 15\n"
          ]
        },
        {
          "output_type": "stream",
          "name": "stderr",
          "text": [
            "100%|██████████| 6/6 [00:05<00:00,  1.07it/s]\n"
          ]
        },
        {
          "output_type": "stream",
          "name": "stdout",
          "text": [
            "Round 16\n"
          ]
        },
        {
          "output_type": "stream",
          "name": "stderr",
          "text": [
            "100%|██████████| 6/6 [00:05<00:00,  1.06it/s]\n"
          ]
        },
        {
          "output_type": "stream",
          "name": "stdout",
          "text": [
            "Round 17\n"
          ]
        },
        {
          "output_type": "stream",
          "name": "stderr",
          "text": [
            "100%|██████████| 6/6 [00:05<00:00,  1.06it/s]\n"
          ]
        },
        {
          "output_type": "stream",
          "name": "stdout",
          "text": [
            "Round 18\n"
          ]
        },
        {
          "output_type": "stream",
          "name": "stderr",
          "text": [
            "100%|██████████| 6/6 [00:05<00:00,  1.06it/s]\n"
          ]
        },
        {
          "output_type": "stream",
          "name": "stdout",
          "text": [
            "Round 19\n"
          ]
        },
        {
          "output_type": "stream",
          "name": "stderr",
          "text": [
            "100%|██████████| 6/6 [00:05<00:00,  1.04it/s]\n"
          ]
        },
        {
          "output_type": "stream",
          "name": "stdout",
          "text": [
            "Round 20\n"
          ]
        },
        {
          "output_type": "stream",
          "name": "stderr",
          "text": [
            "100%|██████████| 6/6 [00:05<00:00,  1.04it/s]\n"
          ]
        },
        {
          "output_type": "stream",
          "name": "stdout",
          "text": [
            "Round 21\n"
          ]
        },
        {
          "output_type": "stream",
          "name": "stderr",
          "text": [
            "100%|██████████| 6/6 [00:05<00:00,  1.04it/s]\n"
          ]
        },
        {
          "output_type": "stream",
          "name": "stdout",
          "text": [
            "Round 22\n"
          ]
        },
        {
          "output_type": "stream",
          "name": "stderr",
          "text": [
            "100%|██████████| 6/6 [00:05<00:00,  1.04it/s]\n"
          ]
        },
        {
          "output_type": "stream",
          "name": "stdout",
          "text": [
            "Round 23\n"
          ]
        },
        {
          "output_type": "stream",
          "name": "stderr",
          "text": [
            "100%|██████████| 6/6 [00:05<00:00,  1.05it/s]\n"
          ]
        },
        {
          "output_type": "stream",
          "name": "stdout",
          "text": [
            "Round 24\n"
          ]
        },
        {
          "output_type": "stream",
          "name": "stderr",
          "text": [
            "100%|██████████| 6/6 [00:05<00:00,  1.05it/s]\n"
          ]
        },
        {
          "output_type": "stream",
          "name": "stdout",
          "text": [
            "Round 25\n"
          ]
        },
        {
          "output_type": "stream",
          "name": "stderr",
          "text": [
            "100%|██████████| 6/6 [00:05<00:00,  1.06it/s]\n"
          ]
        },
        {
          "output_type": "stream",
          "name": "stdout",
          "text": [
            "Round 26\n"
          ]
        },
        {
          "output_type": "stream",
          "name": "stderr",
          "text": [
            "100%|██████████| 6/6 [00:05<00:00,  1.05it/s]\n"
          ]
        },
        {
          "output_type": "stream",
          "name": "stdout",
          "text": [
            "Round 27\n"
          ]
        },
        {
          "output_type": "stream",
          "name": "stderr",
          "text": [
            "100%|██████████| 6/6 [00:05<00:00,  1.05it/s]\n"
          ]
        },
        {
          "output_type": "stream",
          "name": "stdout",
          "text": [
            "Round 28\n"
          ]
        },
        {
          "output_type": "stream",
          "name": "stderr",
          "text": [
            "100%|██████████| 6/6 [00:05<00:00,  1.04it/s]\n"
          ]
        },
        {
          "output_type": "stream",
          "name": "stdout",
          "text": [
            "Round 29\n"
          ]
        },
        {
          "output_type": "stream",
          "name": "stderr",
          "text": [
            "100%|██████████| 6/6 [00:05<00:00,  1.04it/s]\n"
          ]
        },
        {
          "output_type": "stream",
          "name": "stdout",
          "text": [
            "Round 30\n"
          ]
        },
        {
          "output_type": "stream",
          "name": "stderr",
          "text": [
            "100%|██████████| 6/6 [00:05<00:00,  1.04it/s]\n"
          ]
        },
        {
          "output_type": "stream",
          "name": "stdout",
          "text": [
            "Round 31\n"
          ]
        },
        {
          "output_type": "stream",
          "name": "stderr",
          "text": [
            "100%|██████████| 6/6 [00:05<00:00,  1.05it/s]\n"
          ]
        },
        {
          "output_type": "stream",
          "name": "stdout",
          "text": [
            "Round 32\n"
          ]
        },
        {
          "output_type": "stream",
          "name": "stderr",
          "text": [
            "100%|██████████| 6/6 [00:05<00:00,  1.03it/s]\n"
          ]
        },
        {
          "output_type": "stream",
          "name": "stdout",
          "text": [
            "Round 33\n"
          ]
        },
        {
          "output_type": "stream",
          "name": "stderr",
          "text": [
            "100%|██████████| 6/6 [00:05<00:00,  1.04it/s]\n"
          ]
        },
        {
          "output_type": "stream",
          "name": "stdout",
          "text": [
            "Round 34\n"
          ]
        },
        {
          "output_type": "stream",
          "name": "stderr",
          "text": [
            "100%|██████████| 6/6 [00:06<00:00,  1.07s/it]\n"
          ]
        },
        {
          "output_type": "stream",
          "name": "stdout",
          "text": [
            "Round 35\n"
          ]
        },
        {
          "output_type": "stream",
          "name": "stderr",
          "text": [
            "100%|██████████| 6/6 [00:06<00:00,  1.02s/it]\n"
          ]
        },
        {
          "output_type": "stream",
          "name": "stdout",
          "text": [
            "Round 36\n"
          ]
        },
        {
          "output_type": "stream",
          "name": "stderr",
          "text": [
            "100%|██████████| 6/6 [00:05<00:00,  1.03it/s]\n"
          ]
        },
        {
          "output_type": "stream",
          "name": "stdout",
          "text": [
            "Round 37\n"
          ]
        },
        {
          "output_type": "stream",
          "name": "stderr",
          "text": [
            "100%|██████████| 6/6 [00:05<00:00,  1.06it/s]\n"
          ]
        },
        {
          "output_type": "stream",
          "name": "stdout",
          "text": [
            "Round 38\n"
          ]
        },
        {
          "output_type": "stream",
          "name": "stderr",
          "text": [
            "100%|██████████| 6/6 [00:05<00:00,  1.05it/s]\n"
          ]
        },
        {
          "output_type": "stream",
          "name": "stdout",
          "text": [
            "Round 39\n"
          ]
        },
        {
          "output_type": "stream",
          "name": "stderr",
          "text": [
            "100%|██████████| 6/6 [00:05<00:00,  1.01it/s]\n"
          ]
        },
        {
          "output_type": "stream",
          "name": "stdout",
          "text": [
            "Round 40\n"
          ]
        },
        {
          "output_type": "stream",
          "name": "stderr",
          "text": [
            "100%|██████████| 6/6 [00:05<00:00,  1.03it/s]\n"
          ]
        },
        {
          "output_type": "stream",
          "name": "stdout",
          "text": [
            "Round 41\n"
          ]
        },
        {
          "output_type": "stream",
          "name": "stderr",
          "text": [
            "100%|██████████| 6/6 [00:05<00:00,  1.03it/s]\n"
          ]
        },
        {
          "output_type": "stream",
          "name": "stdout",
          "text": [
            "Round 42\n"
          ]
        },
        {
          "output_type": "stream",
          "name": "stderr",
          "text": [
            "100%|██████████| 6/6 [00:05<00:00,  1.02it/s]\n"
          ]
        },
        {
          "output_type": "stream",
          "name": "stdout",
          "text": [
            "Round 43\n"
          ]
        },
        {
          "output_type": "stream",
          "name": "stderr",
          "text": [
            "100%|██████████| 6/6 [00:05<00:00,  1.02it/s]\n"
          ]
        },
        {
          "output_type": "stream",
          "name": "stdout",
          "text": [
            "Round 44\n"
          ]
        },
        {
          "output_type": "stream",
          "name": "stderr",
          "text": [
            "100%|██████████| 6/6 [00:05<00:00,  1.02it/s]\n"
          ]
        },
        {
          "output_type": "stream",
          "name": "stdout",
          "text": [
            "Round 45\n"
          ]
        },
        {
          "output_type": "stream",
          "name": "stderr",
          "text": [
            "100%|██████████| 6/6 [00:05<00:00,  1.02it/s]\n"
          ]
        },
        {
          "output_type": "stream",
          "name": "stdout",
          "text": [
            "Round 46\n"
          ]
        },
        {
          "output_type": "stream",
          "name": "stderr",
          "text": [
            "100%|██████████| 6/6 [00:05<00:00,  1.03it/s]\n"
          ]
        },
        {
          "output_type": "stream",
          "name": "stdout",
          "text": [
            "Round 47\n"
          ]
        },
        {
          "output_type": "stream",
          "name": "stderr",
          "text": [
            "100%|██████████| 6/6 [00:05<00:00,  1.03it/s]\n"
          ]
        },
        {
          "output_type": "stream",
          "name": "stdout",
          "text": [
            "Round 48\n"
          ]
        },
        {
          "output_type": "stream",
          "name": "stderr",
          "text": [
            "100%|██████████| 6/6 [00:05<00:00,  1.02it/s]\n"
          ]
        },
        {
          "output_type": "stream",
          "name": "stdout",
          "text": [
            "Round 49\n"
          ]
        },
        {
          "output_type": "stream",
          "name": "stderr",
          "text": [
            "100%|██████████| 6/6 [00:05<00:00,  1.02it/s]\n"
          ]
        },
        {
          "output_type": "stream",
          "name": "stdout",
          "text": [
            "Round 50\n"
          ]
        },
        {
          "output_type": "stream",
          "name": "stderr",
          "text": [
            "100%|██████████| 6/6 [00:05<00:00,  1.01it/s]\n"
          ]
        },
        {
          "output_type": "stream",
          "name": "stdout",
          "text": [
            "Round 51\n"
          ]
        },
        {
          "output_type": "stream",
          "name": "stderr",
          "text": [
            "100%|██████████| 6/6 [00:05<00:00,  1.01it/s]\n"
          ]
        },
        {
          "output_type": "stream",
          "name": "stdout",
          "text": [
            "Round 52\n"
          ]
        },
        {
          "output_type": "stream",
          "name": "stderr",
          "text": [
            "100%|██████████| 6/6 [00:06<00:00,  1.01s/it]\n"
          ]
        },
        {
          "output_type": "stream",
          "name": "stdout",
          "text": [
            "Round 53\n"
          ]
        },
        {
          "output_type": "stream",
          "name": "stderr",
          "text": [
            "100%|██████████| 6/6 [00:06<00:00,  1.00s/it]\n"
          ]
        },
        {
          "output_type": "stream",
          "name": "stdout",
          "text": [
            "Round 54\n"
          ]
        },
        {
          "output_type": "stream",
          "name": "stderr",
          "text": [
            "100%|██████████| 6/6 [00:06<00:00,  1.01s/it]\n"
          ]
        },
        {
          "output_type": "stream",
          "name": "stdout",
          "text": [
            "Round 55\n"
          ]
        },
        {
          "output_type": "stream",
          "name": "stderr",
          "text": [
            "100%|██████████| 6/6 [00:05<00:00,  1.01it/s]\n"
          ]
        },
        {
          "output_type": "stream",
          "name": "stdout",
          "text": [
            "Round 56\n"
          ]
        },
        {
          "output_type": "stream",
          "name": "stderr",
          "text": [
            "100%|██████████| 6/6 [00:05<00:00,  1.01it/s]\n"
          ]
        },
        {
          "output_type": "stream",
          "name": "stdout",
          "text": [
            "Round 57\n"
          ]
        },
        {
          "output_type": "stream",
          "name": "stderr",
          "text": [
            "100%|██████████| 6/6 [00:06<00:00,  1.00s/it]\n"
          ]
        },
        {
          "output_type": "stream",
          "name": "stdout",
          "text": [
            "Round 58\n"
          ]
        },
        {
          "output_type": "stream",
          "name": "stderr",
          "text": [
            "100%|██████████| 6/6 [00:06<00:00,  1.00s/it]\n"
          ]
        },
        {
          "output_type": "stream",
          "name": "stdout",
          "text": [
            "Round 59\n"
          ]
        },
        {
          "output_type": "stream",
          "name": "stderr",
          "text": [
            "100%|██████████| 6/6 [00:06<00:00,  1.14s/it]\n"
          ]
        },
        {
          "output_type": "stream",
          "name": "stdout",
          "text": [
            "Round 60\n"
          ]
        },
        {
          "output_type": "stream",
          "name": "stderr",
          "text": [
            "100%|██████████| 6/6 [00:06<00:00,  1.01s/it]\n"
          ]
        },
        {
          "output_type": "stream",
          "name": "stdout",
          "text": [
            "Round 61\n"
          ]
        },
        {
          "output_type": "stream",
          "name": "stderr",
          "text": [
            "100%|██████████| 6/6 [00:05<00:00,  1.00it/s]\n"
          ]
        },
        {
          "output_type": "stream",
          "name": "stdout",
          "text": [
            "Round 62\n"
          ]
        },
        {
          "output_type": "stream",
          "name": "stderr",
          "text": [
            "100%|██████████| 6/6 [00:05<00:00,  1.02it/s]\n"
          ]
        },
        {
          "output_type": "stream",
          "name": "stdout",
          "text": [
            "Round 63\n"
          ]
        },
        {
          "output_type": "stream",
          "name": "stderr",
          "text": [
            "100%|██████████| 6/6 [00:06<00:00,  1.00s/it]\n"
          ]
        },
        {
          "output_type": "stream",
          "name": "stdout",
          "text": [
            "Round 64\n"
          ]
        },
        {
          "output_type": "stream",
          "name": "stderr",
          "text": [
            "100%|██████████| 6/6 [00:06<00:00,  1.01s/it]\n"
          ]
        },
        {
          "output_type": "stream",
          "name": "stdout",
          "text": [
            "Round 65\n"
          ]
        },
        {
          "output_type": "stream",
          "name": "stderr",
          "text": [
            "100%|██████████| 6/6 [00:05<00:00,  1.01it/s]\n"
          ]
        },
        {
          "output_type": "stream",
          "name": "stdout",
          "text": [
            "Round 66\n"
          ]
        },
        {
          "output_type": "stream",
          "name": "stderr",
          "text": [
            "100%|██████████| 6/6 [00:06<00:00,  1.01s/it]\n"
          ]
        },
        {
          "output_type": "stream",
          "name": "stdout",
          "text": [
            "Round 67\n"
          ]
        },
        {
          "output_type": "stream",
          "name": "stderr",
          "text": [
            "100%|██████████| 6/6 [00:06<00:00,  1.01s/it]\n"
          ]
        },
        {
          "output_type": "stream",
          "name": "stdout",
          "text": [
            "Round 68\n"
          ]
        },
        {
          "output_type": "stream",
          "name": "stderr",
          "text": [
            "100%|██████████| 6/6 [00:06<00:00,  1.01s/it]\n"
          ]
        },
        {
          "output_type": "stream",
          "name": "stdout",
          "text": [
            "Round 69\n"
          ]
        },
        {
          "output_type": "stream",
          "name": "stderr",
          "text": [
            "100%|██████████| 6/6 [00:06<00:00,  1.00s/it]\n"
          ]
        },
        {
          "output_type": "stream",
          "name": "stdout",
          "text": [
            "Round 70\n"
          ]
        },
        {
          "output_type": "stream",
          "name": "stderr",
          "text": [
            "100%|██████████| 6/6 [00:06<00:00,  1.01s/it]\n"
          ]
        },
        {
          "output_type": "stream",
          "name": "stdout",
          "text": [
            "Round 71\n"
          ]
        },
        {
          "output_type": "stream",
          "name": "stderr",
          "text": [
            "100%|██████████| 6/6 [00:06<00:00,  1.03s/it]\n"
          ]
        },
        {
          "output_type": "stream",
          "name": "stdout",
          "text": [
            "Round 72\n"
          ]
        },
        {
          "output_type": "stream",
          "name": "stderr",
          "text": [
            "100%|██████████| 6/6 [00:06<00:00,  1.02s/it]\n"
          ]
        },
        {
          "output_type": "stream",
          "name": "stdout",
          "text": [
            "Round 73\n"
          ]
        },
        {
          "output_type": "stream",
          "name": "stderr",
          "text": [
            "100%|██████████| 6/6 [00:06<00:00,  1.00s/it]\n"
          ]
        },
        {
          "output_type": "stream",
          "name": "stdout",
          "text": [
            "Round 74\n"
          ]
        },
        {
          "output_type": "stream",
          "name": "stderr",
          "text": [
            "100%|██████████| 6/6 [00:06<00:00,  1.01s/it]\n"
          ]
        },
        {
          "output_type": "stream",
          "name": "stdout",
          "text": [
            "Round 75\n"
          ]
        },
        {
          "output_type": "stream",
          "name": "stderr",
          "text": [
            "100%|██████████| 6/6 [00:06<00:00,  1.02s/it]\n"
          ]
        },
        {
          "output_type": "stream",
          "name": "stdout",
          "text": [
            "Round 76\n"
          ]
        },
        {
          "output_type": "stream",
          "name": "stderr",
          "text": [
            "100%|██████████| 6/6 [00:06<00:00,  1.02s/it]\n"
          ]
        },
        {
          "output_type": "stream",
          "name": "stdout",
          "text": [
            "Round 77\n"
          ]
        },
        {
          "output_type": "stream",
          "name": "stderr",
          "text": [
            "100%|██████████| 6/6 [00:06<00:00,  1.04s/it]\n"
          ]
        },
        {
          "output_type": "stream",
          "name": "stdout",
          "text": [
            "Round 78\n"
          ]
        },
        {
          "output_type": "stream",
          "name": "stderr",
          "text": [
            "100%|██████████| 6/6 [00:06<00:00,  1.03s/it]\n"
          ]
        },
        {
          "output_type": "stream",
          "name": "stdout",
          "text": [
            "Round 79\n"
          ]
        },
        {
          "output_type": "stream",
          "name": "stderr",
          "text": [
            "100%|██████████| 6/6 [00:06<00:00,  1.02s/it]\n"
          ]
        },
        {
          "output_type": "stream",
          "name": "stdout",
          "text": [
            "Round 80\n"
          ]
        },
        {
          "output_type": "stream",
          "name": "stderr",
          "text": [
            "100%|██████████| 6/6 [00:06<00:00,  1.05s/it]\n"
          ]
        },
        {
          "output_type": "stream",
          "name": "stdout",
          "text": [
            "Round 81\n"
          ]
        },
        {
          "output_type": "stream",
          "name": "stderr",
          "text": [
            "100%|██████████| 6/6 [00:06<00:00,  1.07s/it]\n"
          ]
        },
        {
          "output_type": "stream",
          "name": "stdout",
          "text": [
            "Round 82\n"
          ]
        },
        {
          "output_type": "stream",
          "name": "stderr",
          "text": [
            "100%|██████████| 6/6 [00:06<00:00,  1.10s/it]\n"
          ]
        },
        {
          "output_type": "stream",
          "name": "stdout",
          "text": [
            "Round 83\n"
          ]
        },
        {
          "output_type": "stream",
          "name": "stderr",
          "text": [
            "100%|██████████| 6/6 [00:07<00:00,  1.19s/it]\n"
          ]
        },
        {
          "output_type": "stream",
          "name": "stdout",
          "text": [
            "Round 84\n"
          ]
        },
        {
          "output_type": "stream",
          "name": "stderr",
          "text": [
            "100%|██████████| 6/6 [00:06<00:00,  1.10s/it]\n"
          ]
        },
        {
          "output_type": "stream",
          "name": "stdout",
          "text": [
            "Round 85\n"
          ]
        },
        {
          "output_type": "stream",
          "name": "stderr",
          "text": [
            "100%|██████████| 6/6 [00:06<00:00,  1.12s/it]\n"
          ]
        },
        {
          "output_type": "stream",
          "name": "stdout",
          "text": [
            "Round 86\n"
          ]
        },
        {
          "output_type": "stream",
          "name": "stderr",
          "text": [
            "100%|██████████| 6/6 [00:06<00:00,  1.13s/it]\n"
          ]
        },
        {
          "output_type": "stream",
          "name": "stdout",
          "text": [
            "Round 87\n"
          ]
        },
        {
          "output_type": "stream",
          "name": "stderr",
          "text": [
            "100%|██████████| 6/6 [00:06<00:00,  1.14s/it]\n"
          ]
        },
        {
          "output_type": "stream",
          "name": "stdout",
          "text": [
            "Round 88\n"
          ]
        },
        {
          "output_type": "stream",
          "name": "stderr",
          "text": [
            "100%|██████████| 6/6 [00:06<00:00,  1.16s/it]\n"
          ]
        },
        {
          "output_type": "stream",
          "name": "stdout",
          "text": [
            "Round 89\n"
          ]
        },
        {
          "output_type": "stream",
          "name": "stderr",
          "text": [
            "100%|██████████| 6/6 [00:07<00:00,  1.18s/it]\n"
          ]
        },
        {
          "output_type": "stream",
          "name": "stdout",
          "text": [
            "Round 90\n"
          ]
        },
        {
          "output_type": "stream",
          "name": "stderr",
          "text": [
            "100%|██████████| 6/6 [00:07<00:00,  1.18s/it]\n"
          ]
        },
        {
          "output_type": "stream",
          "name": "stdout",
          "text": [
            "Round 91\n"
          ]
        },
        {
          "output_type": "stream",
          "name": "stderr",
          "text": [
            "100%|██████████| 6/6 [00:07<00:00,  1.19s/it]\n"
          ]
        },
        {
          "output_type": "stream",
          "name": "stdout",
          "text": [
            "Round 92\n"
          ]
        },
        {
          "output_type": "stream",
          "name": "stderr",
          "text": [
            "100%|██████████| 6/6 [00:07<00:00,  1.20s/it]\n"
          ]
        },
        {
          "output_type": "stream",
          "name": "stdout",
          "text": [
            "Round 93\n"
          ]
        },
        {
          "output_type": "stream",
          "name": "stderr",
          "text": [
            "100%|██████████| 6/6 [00:07<00:00,  1.20s/it]\n"
          ]
        },
        {
          "output_type": "stream",
          "name": "stdout",
          "text": [
            "Round 94\n"
          ]
        },
        {
          "output_type": "stream",
          "name": "stderr",
          "text": [
            "100%|██████████| 6/6 [00:07<00:00,  1.21s/it]\n"
          ]
        },
        {
          "output_type": "stream",
          "name": "stdout",
          "text": [
            "Round 95\n"
          ]
        },
        {
          "output_type": "stream",
          "name": "stderr",
          "text": [
            "100%|██████████| 6/6 [00:07<00:00,  1.24s/it]\n"
          ]
        },
        {
          "output_type": "stream",
          "name": "stdout",
          "text": [
            "Round 96\n"
          ]
        },
        {
          "output_type": "stream",
          "name": "stderr",
          "text": [
            "100%|██████████| 6/6 [00:07<00:00,  1.26s/it]\n"
          ]
        },
        {
          "output_type": "stream",
          "name": "stdout",
          "text": [
            "Round 97\n"
          ]
        },
        {
          "output_type": "stream",
          "name": "stderr",
          "text": [
            "100%|██████████| 6/6 [00:07<00:00,  1.27s/it]\n"
          ]
        },
        {
          "output_type": "stream",
          "name": "stdout",
          "text": [
            "Round 98\n"
          ]
        },
        {
          "output_type": "stream",
          "name": "stderr",
          "text": [
            "100%|██████████| 6/6 [00:07<00:00,  1.28s/it]\n"
          ]
        },
        {
          "output_type": "stream",
          "name": "stdout",
          "text": [
            "Round 99\n"
          ]
        },
        {
          "output_type": "stream",
          "name": "stderr",
          "text": [
            "100%|██████████| 6/6 [00:07<00:00,  1.29s/it]\n"
          ]
        },
        {
          "output_type": "stream",
          "name": "stdout",
          "text": [
            "Round 100\n"
          ]
        },
        {
          "output_type": "stream",
          "name": "stderr",
          "text": [
            "100%|██████████| 6/6 [00:07<00:00,  1.28s/it]\n"
          ]
        },
        {
          "output_type": "stream",
          "name": "stdout",
          "text": [
            "Round 101\n"
          ]
        },
        {
          "output_type": "stream",
          "name": "stderr",
          "text": [
            "100%|██████████| 6/6 [00:07<00:00,  1.31s/it]\n"
          ]
        },
        {
          "output_type": "stream",
          "name": "stdout",
          "text": [
            "Round 102\n"
          ]
        },
        {
          "output_type": "stream",
          "name": "stderr",
          "text": [
            "100%|██████████| 6/6 [00:07<00:00,  1.32s/it]\n"
          ]
        },
        {
          "output_type": "stream",
          "name": "stdout",
          "text": [
            "Round 103\n"
          ]
        },
        {
          "output_type": "stream",
          "name": "stderr",
          "text": [
            "100%|██████████| 6/6 [00:08<00:00,  1.46s/it]\n"
          ]
        },
        {
          "output_type": "stream",
          "name": "stdout",
          "text": [
            "Round 104\n"
          ]
        },
        {
          "output_type": "stream",
          "name": "stderr",
          "text": [
            "100%|██████████| 6/6 [00:08<00:00,  1.37s/it]\n"
          ]
        },
        {
          "output_type": "stream",
          "name": "stdout",
          "text": [
            "Round 105\n"
          ]
        },
        {
          "output_type": "stream",
          "name": "stderr",
          "text": [
            "100%|██████████| 6/6 [00:08<00:00,  1.38s/it]\n"
          ]
        },
        {
          "output_type": "stream",
          "name": "stdout",
          "text": [
            "Round 106\n"
          ]
        },
        {
          "output_type": "stream",
          "name": "stderr",
          "text": [
            "100%|██████████| 6/6 [00:08<00:00,  1.39s/it]\n"
          ]
        },
        {
          "output_type": "stream",
          "name": "stdout",
          "text": [
            "Round 107\n"
          ]
        },
        {
          "output_type": "stream",
          "name": "stderr",
          "text": [
            "100%|██████████| 6/6 [00:08<00:00,  1.42s/it]\n"
          ]
        },
        {
          "output_type": "stream",
          "name": "stdout",
          "text": [
            "Round 108\n"
          ]
        },
        {
          "output_type": "stream",
          "name": "stderr",
          "text": [
            "100%|██████████| 6/6 [00:08<00:00,  1.46s/it]\n"
          ]
        },
        {
          "output_type": "stream",
          "name": "stdout",
          "text": [
            "Round 109\n"
          ]
        },
        {
          "output_type": "stream",
          "name": "stderr",
          "text": [
            "100%|██████████| 6/6 [00:08<00:00,  1.48s/it]\n"
          ]
        },
        {
          "output_type": "stream",
          "name": "stdout",
          "text": [
            "Round 110\n"
          ]
        },
        {
          "output_type": "stream",
          "name": "stderr",
          "text": [
            "100%|██████████| 6/6 [00:09<00:00,  1.52s/it]\n"
          ]
        },
        {
          "output_type": "stream",
          "name": "stdout",
          "text": [
            "Round 111\n"
          ]
        },
        {
          "output_type": "stream",
          "name": "stderr",
          "text": [
            "100%|██████████| 6/6 [00:09<00:00,  1.55s/it]\n"
          ]
        },
        {
          "output_type": "stream",
          "name": "stdout",
          "text": [
            "Round 112\n"
          ]
        },
        {
          "output_type": "stream",
          "name": "stderr",
          "text": [
            "100%|██████████| 6/6 [00:09<00:00,  1.59s/it]\n"
          ]
        },
        {
          "output_type": "stream",
          "name": "stdout",
          "text": [
            "Round 113\n"
          ]
        },
        {
          "output_type": "stream",
          "name": "stderr",
          "text": [
            "100%|██████████| 6/6 [00:09<00:00,  1.60s/it]\n"
          ]
        },
        {
          "output_type": "stream",
          "name": "stdout",
          "text": [
            "Round 114\n"
          ]
        },
        {
          "output_type": "stream",
          "name": "stderr",
          "text": [
            "100%|██████████| 6/6 [00:09<00:00,  1.63s/it]\n"
          ]
        },
        {
          "output_type": "stream",
          "name": "stdout",
          "text": [
            "Round 115\n"
          ]
        },
        {
          "output_type": "stream",
          "name": "stderr",
          "text": [
            "100%|██████████| 6/6 [00:10<00:00,  1.68s/it]\n"
          ]
        },
        {
          "output_type": "stream",
          "name": "stdout",
          "text": [
            "Round 116\n"
          ]
        },
        {
          "output_type": "stream",
          "name": "stderr",
          "text": [
            "100%|██████████| 6/6 [00:10<00:00,  1.70s/it]\n"
          ]
        },
        {
          "output_type": "stream",
          "name": "stdout",
          "text": [
            "Round 117\n"
          ]
        },
        {
          "output_type": "stream",
          "name": "stderr",
          "text": [
            "100%|██████████| 6/6 [00:10<00:00,  1.69s/it]\n"
          ]
        },
        {
          "output_type": "stream",
          "name": "stdout",
          "text": [
            "Round 118\n"
          ]
        },
        {
          "output_type": "stream",
          "name": "stderr",
          "text": [
            "100%|██████████| 6/6 [00:10<00:00,  1.81s/it]\n"
          ]
        },
        {
          "output_type": "stream",
          "name": "stdout",
          "text": [
            "Round 119\n"
          ]
        },
        {
          "output_type": "stream",
          "name": "stderr",
          "text": [
            "100%|██████████| 6/6 [00:10<00:00,  1.71s/it]\n"
          ]
        },
        {
          "output_type": "stream",
          "name": "stdout",
          "text": [
            "Round 120\n"
          ]
        },
        {
          "output_type": "stream",
          "name": "stderr",
          "text": [
            "100%|██████████| 6/6 [00:10<00:00,  1.72s/it]\n"
          ]
        },
        {
          "output_type": "stream",
          "name": "stdout",
          "text": [
            "Round 121\n"
          ]
        },
        {
          "output_type": "stream",
          "name": "stderr",
          "text": [
            "100%|██████████| 6/6 [00:10<00:00,  1.75s/it]\n"
          ]
        },
        {
          "output_type": "stream",
          "name": "stdout",
          "text": [
            "Round 122\n"
          ]
        },
        {
          "output_type": "stream",
          "name": "stderr",
          "text": [
            "100%|██████████| 6/6 [00:10<00:00,  1.74s/it]\n"
          ]
        },
        {
          "output_type": "stream",
          "name": "stdout",
          "text": [
            "Round 123\n"
          ]
        },
        {
          "output_type": "stream",
          "name": "stderr",
          "text": [
            "100%|██████████| 6/6 [00:10<00:00,  1.75s/it]\n"
          ]
        },
        {
          "output_type": "stream",
          "name": "stdout",
          "text": [
            "Round 124\n"
          ]
        },
        {
          "output_type": "stream",
          "name": "stderr",
          "text": [
            "100%|██████████| 6/6 [00:10<00:00,  1.76s/it]\n"
          ]
        },
        {
          "output_type": "stream",
          "name": "stdout",
          "text": [
            "Round 125\n"
          ]
        },
        {
          "output_type": "stream",
          "name": "stderr",
          "text": [
            "100%|██████████| 6/6 [00:10<00:00,  1.75s/it]\n"
          ]
        },
        {
          "output_type": "stream",
          "name": "stdout",
          "text": [
            "Round 126\n"
          ]
        },
        {
          "output_type": "stream",
          "name": "stderr",
          "text": [
            "100%|██████████| 6/6 [00:10<00:00,  1.75s/it]\n"
          ]
        },
        {
          "output_type": "stream",
          "name": "stdout",
          "text": [
            "Round 127\n"
          ]
        },
        {
          "output_type": "stream",
          "name": "stderr",
          "text": [
            "100%|██████████| 6/6 [00:10<00:00,  1.77s/it]\n"
          ]
        },
        {
          "output_type": "stream",
          "name": "stdout",
          "text": [
            "Round 128\n"
          ]
        },
        {
          "output_type": "stream",
          "name": "stderr",
          "text": [
            "100%|██████████| 6/6 [00:10<00:00,  1.77s/it]\n"
          ]
        },
        {
          "output_type": "stream",
          "name": "stdout",
          "text": [
            "Round 129\n"
          ]
        },
        {
          "output_type": "stream",
          "name": "stderr",
          "text": [
            "100%|██████████| 6/6 [00:10<00:00,  1.77s/it]\n"
          ]
        },
        {
          "output_type": "stream",
          "name": "stdout",
          "text": [
            "Round 130\n"
          ]
        },
        {
          "output_type": "stream",
          "name": "stderr",
          "text": [
            "100%|██████████| 6/6 [00:10<00:00,  1.77s/it]\n"
          ]
        },
        {
          "output_type": "stream",
          "name": "stdout",
          "text": [
            "Round 131\n"
          ]
        },
        {
          "output_type": "stream",
          "name": "stderr",
          "text": [
            "100%|██████████| 6/6 [00:10<00:00,  1.78s/it]\n"
          ]
        },
        {
          "output_type": "stream",
          "name": "stdout",
          "text": [
            "Round 132\n"
          ]
        },
        {
          "output_type": "stream",
          "name": "stderr",
          "text": [
            "100%|██████████| 6/6 [00:11<00:00,  1.87s/it]\n"
          ]
        },
        {
          "output_type": "stream",
          "name": "stdout",
          "text": [
            "Round 133\n"
          ]
        },
        {
          "output_type": "stream",
          "name": "stderr",
          "text": [
            "100%|██████████| 6/6 [00:10<00:00,  1.76s/it]\n"
          ]
        },
        {
          "output_type": "stream",
          "name": "stdout",
          "text": [
            "Round 134\n"
          ]
        },
        {
          "output_type": "stream",
          "name": "stderr",
          "text": [
            "100%|██████████| 6/6 [00:10<00:00,  1.79s/it]\n"
          ]
        },
        {
          "output_type": "stream",
          "name": "stdout",
          "text": [
            "Round 135\n"
          ]
        },
        {
          "output_type": "stream",
          "name": "stderr",
          "text": [
            "100%|██████████| 6/6 [00:10<00:00,  1.80s/it]\n"
          ]
        },
        {
          "output_type": "stream",
          "name": "stdout",
          "text": [
            "Round 136\n"
          ]
        },
        {
          "output_type": "stream",
          "name": "stderr",
          "text": [
            "100%|██████████| 6/6 [00:11<00:00,  1.84s/it]\n"
          ]
        },
        {
          "output_type": "stream",
          "name": "stdout",
          "text": [
            "Round 137\n"
          ]
        },
        {
          "output_type": "stream",
          "name": "stderr",
          "text": [
            "100%|██████████| 6/6 [00:10<00:00,  1.83s/it]\n"
          ]
        },
        {
          "output_type": "stream",
          "name": "stdout",
          "text": [
            "Round 138\n"
          ]
        },
        {
          "output_type": "stream",
          "name": "stderr",
          "text": [
            "100%|██████████| 6/6 [00:10<00:00,  1.82s/it]\n"
          ]
        },
        {
          "output_type": "stream",
          "name": "stdout",
          "text": [
            "Round 139\n"
          ]
        },
        {
          "output_type": "stream",
          "name": "stderr",
          "text": [
            "100%|██████████| 6/6 [00:10<00:00,  1.82s/it]\n"
          ]
        },
        {
          "output_type": "stream",
          "name": "stdout",
          "text": [
            "Round 140\n"
          ]
        },
        {
          "output_type": "stream",
          "name": "stderr",
          "text": [
            " 50%|█████     | 3/6 [00:05<00:05,  1.81s/it]"
          ]
        }
      ],
      "source": [
        "#Federated training with 6 clients and 150 rounds for each epoch\n",
        "for r in range(num_rounds):\n",
        "    print(\"Round\", r)\n",
        "    # select random clients\n",
        "    client_idx = np.random.permutation(num_clients)[:num_selected]\n",
        "    loss = 0\n",
        "    for i in tqdm(range(num_selected)):\n",
        "        loss += client_update(client_models[i], torch.optim.Adam(model.parameters(), lr=0.001), globals()['train_data_'+str(i)], epoch=5)"
      ]
    },
    {
      "cell_type": "code",
      "execution_count": null,
      "metadata": {
        "id": "zvC5squ26_Os"
      },
      "outputs": [],
      "source": [
        "#Aggregate client state for global model\n",
        "server_aggregate(global_model, client_models)"
      ]
    },
    {
      "cell_type": "markdown",
      "metadata": {
        "id": "y_qBqmA3HHd4"
      },
      "source": [
        "##Evaluate for GCN with federated averaging"
      ]
    },
    {
      "cell_type": "code",
      "execution_count": null,
      "metadata": {
        "id": "R99tAi1TKTGJ"
      },
      "outputs": [],
      "source": [
        "#Predict for test set using the global model\n",
        "pred_ = []\n",
        "test_values = []\n",
        "for data in test_loader:\n",
        "      data.x = data.x.to(device, dtype = torch.float)\n",
        "      #data.y = data.y.to(device, dtype = torch.float)\n",
        "      pred = global_model(data.x, data.edge_index)\n",
        "\n",
        "      loss = F.mse_loss(pred.squeeze(), data.y.squeeze())\n",
        "      pred = pred.detach().numpy()\n",
        "      data.y = data.y.detach().numpy() \n",
        "      \n",
        "      pred_.append(pred)\n",
        "      test_values.append(data.y)\n",
        "\n",
        "\n"
      ]
    },
    {
      "cell_type": "code",
      "execution_count": null,
      "metadata": {
        "id": "b4EmCRGzssH-"
      },
      "outputs": [],
      "source": [
        "#Conversion\n",
        "pred_ = np.asarray(pred_)\n",
        "test_values = np.asarray(test_values)"
      ]
    },
    {
      "cell_type": "code",
      "execution_count": null,
      "metadata": {
        "id": "SAoeJ1iZKq3W"
      },
      "outputs": [],
      "source": [
        "#Median absolute error \n",
        "mae = median_absolute_error(np.ndarray.flatten(pred_), np.ndarray.flatten(test_values))\n",
        "print(mae)"
      ]
    },
    {
      "cell_type": "code",
      "execution_count": null,
      "metadata": {
        "id": "4tHzduEyKubN"
      },
      "outputs": [],
      "source": [
        "#Mean absolute error \n",
        "pred_ = np.asarray(pred_)\n",
        "test_values = np.asarray(test_values)\n",
        "\n",
        "mean_absolute_error(np.ndarray.flatten(pred_), np.ndarray.flatten(test_values))\n"
      ]
    },
    {
      "cell_type": "markdown",
      "metadata": {
        "id": "BLhHgE3A99qz"
      },
      "source": [
        "#Pruning"
      ]
    },
    {
      "cell_type": "markdown",
      "metadata": {
        "id": "MRwnoz1vJMJK"
      },
      "source": [
        "#Initialise model"
      ]
    },
    {
      "cell_type": "code",
      "execution_count": null,
      "metadata": {
        "id": "pVqptEtSRqTk"
      },
      "outputs": [],
      "source": [
        "#GCN Architecture\n",
        "class GCN(torch.nn.Module):\n",
        "    def __init__(self, hidden_channels):\n",
        "        super(GCN, self).__init__()\n",
        "        torch.manual_seed(12345)\n",
        "        \n",
        "        self.linear2 = torch.nn.Linear(2, 512)\n",
        "        self.conv2 = GCNConv(512,256)\n",
        "        self.conv3 = GCNConv(256,128)\n",
        "\n",
        "        self.conv4 = GCNConv(128,64)\n",
        "\n",
        "        \n",
        "        \n",
        "        self.linear1 = torch.nn.Linear(64,1)\n",
        "        #self.linear3 = torch.nn.Linear(32,1)\n",
        "    def forward(self, x, edge_index):\n",
        "       \n",
        "        x = self.linear2(x)\n",
        "        x = x.relu()\n",
        "        \n",
        "        x = F.dropout(x, p=0.5, training=self.training)\n",
        "        \n",
        "        x = self.conv2(x, edge_index)\n",
        "        x = x.relu()\n",
        "\n",
        "               \n",
        "        x = self.conv3(x, edge_index)\n",
        "        x = x.relu()\n",
        "        \n",
        "        x = self.conv4(x, edge_index)\n",
        "        x = x.relu()\n",
        "        \n",
        "\n",
        "        x = self.linear1(x)\n",
        "        x = x.relu()\n",
        "\n",
        "        \n",
        "\n",
        "\n",
        "        \n",
        "               \n",
        "        return x"
      ]
    },
    {
      "cell_type": "code",
      "execution_count": null,
      "metadata": {
        "id": "z8QGwcOd-I0Y"
      },
      "outputs": [],
      "source": [
        "#Define model\n",
        "device = torch.device('cuda' if torch.cuda.is_available() else 'cpu')\n",
        "model = GCN(256).to(device)"
      ]
    },
    {
      "cell_type": "code",
      "execution_count": null,
      "metadata": {
        "id": "jsndEfVP-Len"
      },
      "outputs": [],
      "source": [
        "#Define optimiser\n",
        "optim = torch.optim.Adam(model.parameters(), lr=0.001)"
      ]
    },
    {
      "cell_type": "markdown",
      "metadata": {
        "id": "vF-8IBlDJecc"
      },
      "source": [
        "#Train initial network"
      ]
    },
    {
      "cell_type": "code",
      "execution_count": null,
      "metadata": {
        "id": "IZTxaAxp-OPl"
      },
      "outputs": [],
      "source": [
        "#Train model\n",
        "for epoch in range(1, 300):\n",
        "  print(epoch)\n",
        "  for data in train_loader:\n",
        "    total_loss = 0\n",
        "    optim.zero_grad()\n",
        "    data.x = data.x.to(device, dtype = torch.float)\n",
        "    data.y = data.y.to(device, dtype = torch.float)\n",
        "    pred = model(data.x, data.edge_index)\n",
        "    loss = F.mse_loss(pred.squeeze(), data.y.squeeze())\n",
        "    #total_loss += loss.item() * data.num_graphs\n",
        "    \n",
        "    loss.backward()\n",
        "    optim.step()"
      ]
    },
    {
      "cell_type": "markdown",
      "metadata": {
        "id": "7aZAD-GIJjOS"
      },
      "source": [
        "#Evaluate on test set"
      ]
    },
    {
      "cell_type": "code",
      "execution_count": null,
      "metadata": {
        "id": "-oZdvzlr-RVM"
      },
      "outputs": [],
      "source": [
        "#Predict for test set\n",
        "pred_ = []\n",
        "test_values = []\n",
        "for data in test_loader:\n",
        "    data.x = data.x.to(device, dtype = torch.float)\n",
        "    #data.y = data.y.to(device, dtype = torch.float)\n",
        "    pred = model(data.x, data.edge_index)\n",
        "\n",
        "    loss = F.mse_loss(pred.squeeze(), data.y.squeeze())\n",
        "    pred = pred.detach().numpy()\n",
        "    data.y = data.y.detach().numpy() \n",
        "    pred_.append(pred)\n",
        "    test_values.append(data.y)\n"
      ]
    },
    {
      "cell_type": "code",
      "execution_count": null,
      "metadata": {
        "id": "QGXM39_X-UuZ"
      },
      "outputs": [],
      "source": [
        "#Median absolute error \n",
        "pred_ = np.asarray(pred_)\n",
        "test_values = np.asarray(test_values)\n",
        "\n",
        "median_absolute_error(np.ndarray.flatten(pred_), np.ndarray.flatten(test_values))\n"
      ]
    },
    {
      "cell_type": "code",
      "execution_count": null,
      "metadata": {
        "id": "w-TNDAXmBkWx"
      },
      "outputs": [],
      "source": [
        "#Mean absolute error\n",
        "pred_ = np.asarray(pred_)\n",
        "test_values = np.asarray(test_values)\n",
        "\n",
        "mean_absolute_error(np.ndarray.flatten(pred_), np.ndarray.flatten(test_values))\n"
      ]
    },
    {
      "cell_type": "code",
      "execution_count": null,
      "metadata": {
        "id": "wDoZ2t1eBSnb"
      },
      "outputs": [],
      "source": [
        "#Save model weights\n",
        "torch.save(model.state_dict(), 'model_weights_.pth')"
      ]
    },
    {
      "cell_type": "markdown",
      "metadata": {
        "id": "ZZpNdVjYJ65v"
      },
      "source": [
        "##Magnitude-based pruning based on lowest L1 score"
      ]
    },
    {
      "cell_type": "code",
      "execution_count": null,
      "metadata": {
        "id": "9UNBEUS2BgSU"
      },
      "outputs": [],
      "source": [
        "#Reference[3]: https://pytorch.org/tutorials/intermediate/pruning_tutorial.html\n",
        "#Pruning \n",
        "def prune_(proportion, GCN, layer1, layer2, layer3, layer4, layer5):\n",
        "  parameters_to_prune = (\n",
        "      (GCN.layer1, 'weight'),\n",
        "      (GCN.layer2, 'weight'),\n",
        "      (GCN.layer3, 'weight'),\n",
        "      (GCN.layer4, 'weight'),\n",
        "      (GCN.layer5, 'weight')\n",
        "  )\n",
        "\n",
        "  prune.global_unstructured(\n",
        "      parameters_to_prune,\n",
        "      pruning_method=prune.L1Unstructured,\n",
        "      amount=proportion,\n",
        "  )"
      ]
    },
    {
      "cell_type": "code",
      "execution_count": null,
      "metadata": {
        "id": "8jRl0pn6Pl3E"
      },
      "outputs": [],
      "source": [
        "#Load model weights\n",
        "model.load_state_dict(torch.load('model_weights_.pth'))"
      ]
    },
    {
      "cell_type": "code",
      "execution_count": null,
      "metadata": {
        "id": "CBf1uDt4PdIO"
      },
      "outputs": [],
      "source": [
        "#Apply pruning\n",
        "prune_(0.1, model, linear2, conv2.lin, conv3.lin, conv4.lin, linear1)"
      ]
    },
    {
      "cell_type": "markdown",
      "metadata": {
        "id": "EC22HRHQQdfv"
      },
      "source": [
        "###Re-train"
      ]
    },
    {
      "cell_type": "code",
      "execution_count": null,
      "metadata": {
        "id": "AgVG-eXyQfJf"
      },
      "outputs": [],
      "source": [
        "#Re-Train model\n",
        "for epoch in range(1, 300):\n",
        "  print(epoch)\n",
        "  for data in train_loader:\n",
        "    total_loss = 0\n",
        "    optim.zero_grad()\n",
        "    data.x = data.x.to(device, dtype = torch.float)\n",
        "    data.y = data.y.to(device, dtype = torch.float)\n",
        "    pred = model(data.x, data.edge_index)\n",
        "    loss = F.mse_loss(pred.squeeze(), data.y.squeeze())\n",
        "    #total_loss += loss.item() * data.num_graphs\n",
        "    \n",
        "    loss.backward()\n",
        "    optim.step()"
      ]
    },
    {
      "cell_type": "markdown",
      "metadata": {
        "id": "vwyvBGe1QiB_"
      },
      "source": [
        "###Evaluate on test set"
      ]
    },
    {
      "cell_type": "code",
      "execution_count": null,
      "metadata": {
        "id": "XdqVQvDtQmqx"
      },
      "outputs": [],
      "source": [
        "#Predict for test set\n",
        "pred_ = []\n",
        "test_values = []\n",
        "for data in test_loader:\n",
        "    data.x = data.x.to(device, dtype = torch.float)\n",
        "    #data.y = data.y.to(device, dtype = torch.float)\n",
        "    pred = model(data.x, data.edge_index)\n",
        "\n",
        "    loss = F.mse_loss(pred.squeeze(), data.y.squeeze())\n",
        "    pred = pred.detach().numpy()\n",
        "    data.y = data.y.detach().numpy() \n",
        "    pred_.append(pred)\n",
        "    test_values.append(data.y)\n"
      ]
    },
    {
      "cell_type": "code",
      "execution_count": null,
      "metadata": {
        "id": "kQa8THY6QrgB"
      },
      "outputs": [],
      "source": [
        "#Median absolute error \n",
        "pred_ = np.asarray(pred_)\n",
        "test_values = np.asarray(test_values)\n",
        "\n",
        "median_absolute_error(np.ndarray.flatten(pred_), np.ndarray.flatten(test_values))\n"
      ]
    },
    {
      "cell_type": "code",
      "execution_count": null,
      "metadata": {
        "id": "qOy36fp6Qt3W"
      },
      "outputs": [],
      "source": [
        "#Mean absolute error\n",
        "pred_ = np.asarray(pred_)\n",
        "test_values = np.asarray(test_values)\n",
        "\n",
        "mean_absolute_error(np.ndarray.flatten(pred_), np.ndarray.flatten(test_values))\n"
      ]
    },
    {
      "cell_type": "code",
      "execution_count": null,
      "metadata": {
        "id": "pzMfV1VreIcu"
      },
      "outputs": [],
      "source": [
        "#Initialise model\n",
        "class GCN(torch.nn.Module):\n",
        "    def __init__(self, hidden_channels):\n",
        "        super(GCN, self).__init__()\n",
        "        torch.manual_seed(12345)\n",
        "        self.conv1 = GCNConv(2, 256)\n",
        "        self.conv2 = GCNConv(256, 128)\n",
        "        #self.conv3 = GCNConv(128, 1)\n",
        "        #self.conv3 = GCNConv(data.num_features, 32)\n",
        "        self.linear1 = torch.nn.Linear(128,1)\n",
        "        # self.linear2 = torch.nn.Linear(56,1)\n",
        "    def forward(self, x, edge_index):\n",
        "        x = self.conv1(x, edge_index)\n",
        "        x = x.relu()\n",
        "        x = F.dropout(x, p=0.5, training=self.training)\n",
        "        x = self.conv2(x, edge_index)\n",
        "        x = x.relu()\n",
        "        # x = self.conv3(x, edge_index)\n",
        "        # x = x.relu()\n",
        "        # x = self.conv2(x, edge_index)\n",
        "        # x = x.relu()\n",
        "        # x = self.conv2(x, edge_index)\n",
        "        # x = x.relu()\n",
        "        x = self.linear1(x)\n",
        "        # x = x.relu()\n",
        "        # x = self.linear2(x)\n",
        "        return x"
      ]
    },
    {
      "cell_type": "code",
      "execution_count": null,
      "metadata": {
        "id": "XmuVZWINMtix"
      },
      "outputs": [],
      "source": [
        "device = torch.device('cuda' if torch.cuda.is_available() else 'cpu')\n",
        "model = GCN(256).to(device)"
      ]
    },
    {
      "cell_type": "code",
      "execution_count": null,
      "metadata": {
        "id": "bUlp3GJ6Mt78"
      },
      "outputs": [],
      "source": [
        "#Threshold pruning\n",
        "class ThresholdPruning(prune.BasePruningMethod):\n",
        "    PRUNING_TYPE = \"unstructured\"\n",
        "\n",
        "    def __init__(self, threshold):\n",
        "        self.threshold = threshold\n",
        "\n",
        "    def compute_mask(self, tensor, default_mask):\n",
        "        return torch.abs(tensor) > self.threshold"
      ]
    },
    {
      "cell_type": "code",
      "execution_count": null,
      "metadata": {
        "id": "0aInHjDxPD0X"
      },
      "outputs": [],
      "source": [
        "#Load previous weights\n",
        "model.load_state_dict(torch.load('model_weights_.pth'))"
      ]
    },
    {
      "cell_type": "markdown",
      "metadata": {
        "id": "W47USN_wQ0Uv"
      },
      "source": [
        "##Magnitude-based pruning based on threshold"
      ]
    },
    {
      "cell_type": "code",
      "execution_count": null,
      "metadata": {
        "id": "P8GJLtNQPEa7"
      },
      "outputs": [],
      "source": [
        "#Reference[5]: https://stackoverflow.com/questions/61629395/how-to-prune-weights-less-than-a-threshold-in-pytorch\n",
        "#Mention parameters\n",
        "parameters_to_prune = (\n",
        "    (model.linear2, 'weight'),\n",
        "    (model.conv2.lin, 'weight'),\n",
        "    (model.conv3.lin, 'weight'),\n",
        "    (model.conv4.lin, 'weight'),    \n",
        "    (model.linear1, 'weight')\n",
        ")\n",
        "\n",
        "prune.global_unstructured(\n",
        "    parameters_to_prune, pruning_method=ThresholdPruning, threshold=0.01\n",
        ")"
      ]
    },
    {
      "cell_type": "markdown",
      "metadata": {
        "id": "d6JrOfWeReUE"
      },
      "source": [
        "###Re-train"
      ]
    },
    {
      "cell_type": "code",
      "execution_count": null,
      "metadata": {
        "id": "jWQ1uztMRkKv"
      },
      "outputs": [],
      "source": [
        "for epoch in range(1, 300):\n",
        "  print(epoch)\n",
        "  for data in train_loader:\n",
        "    total_loss = 0\n",
        "    optim.zero_grad()\n",
        "    data.x = data.x.to(device, dtype = torch.float)\n",
        "    data.y = data.y.to(device, dtype = torch.float)\n",
        "    pred = model(data.x, data.edge_index)\n",
        "    loss = F.mse_loss(pred.squeeze(), data.y.squeeze())\n",
        "    #total_loss += loss.item() * data.num_graphs\n",
        "    \n",
        "    loss.backward()\n",
        "    optim.step()"
      ]
    },
    {
      "cell_type": "markdown",
      "metadata": {
        "id": "Kg3tDSSARnZM"
      },
      "source": [
        "###Evaluate on test set"
      ]
    },
    {
      "cell_type": "code",
      "execution_count": null,
      "metadata": {
        "id": "xgtaQCv4TqCo"
      },
      "outputs": [],
      "source": [
        "#Predict for test set\n",
        "pred_ = []\n",
        "test_values = []\n",
        "for data in test_loader:\n",
        "    data.x = data.x.to(device, dtype = torch.float)\n",
        "    #data.y = data.y.to(device, dtype = torch.float)\n",
        "    pred = model(data.x, data.edge_index)\n",
        "\n",
        "    loss = F.mse_loss(pred.squeeze(), data.y.squeeze())\n",
        "    pred = pred.detach().numpy()\n",
        "    data.y = data.y.detach().numpy() \n",
        "    pred_.append(pred)\n",
        "    test_values.append(data.y)\n"
      ]
    },
    {
      "cell_type": "code",
      "execution_count": null,
      "metadata": {
        "id": "nBQh1Qw4R0aX"
      },
      "outputs": [],
      "source": [
        "#Median absolute error \n",
        "pred_ = np.asarray(pred_)\n",
        "test_values = np.asarray(test_values)\n",
        "\n",
        "median_absolute_error(np.ndarray.flatten(pred_), np.ndarray.flatten(test_values))\n"
      ]
    },
    {
      "cell_type": "code",
      "execution_count": null,
      "metadata": {
        "id": "wkx8LVBgR2ck"
      },
      "outputs": [],
      "source": [
        "#Mean absolute error\n",
        "pred_ = np.asarray(pred_)\n",
        "test_values = np.asarray(test_values)\n",
        "\n",
        "mean_absolute_error(np.ndarray.flatten(pred_), np.ndarray.flatten(test_values))\n"
      ]
    }
  ],
  "metadata": {
    "colab": {
      "collapsed_sections": [],
      "provenance": [],
      "include_colab_link": true
    },
    "kernelspec": {
      "display_name": "Python 3",
      "name": "python3"
    },
    "language_info": {
      "name": "python"
    }
  },
  "nbformat": 4,
  "nbformat_minor": 0
}